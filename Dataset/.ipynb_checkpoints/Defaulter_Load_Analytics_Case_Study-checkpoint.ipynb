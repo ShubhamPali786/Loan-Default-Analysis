{
 "cells": [
  {
   "cell_type": "markdown",
   "metadata": {},
   "source": [
    "### **_Business Objectives_**\n",
    "This company is the largest online loan marketplace, facilitating personal loans, business loans, and financing of medical procedures. Borrowers can easily access lower interest rate loans through a fast online interface.   \n",
    "\n",
    "Like most other lending companies, lending loans to ‘risky’ applicants is the largest source of financial loss (called credit loss). The credit loss is the amount of money lost by the lender when the borrower refuses to pay or runs away with the money owed. In other words, borrowers who default cause the largest amount of loss to the lenders. In this case, the customers labelled as 'charged-off' are the 'defaulters'.   \n",
    "\n",
    "**If one is able to identify these risky loan applicants, then such loans can be reduced thereby cutting down the amount of credit loss. Identification of such applicants using EDA is the aim of this case study.**  \n",
    "\n",
    "In other words, the company wants to understand the driving factors (or driver variables) behind loan default, i.e. the variables which are strong indicators of default.  The company can utilize this knowledge for its portfolio and risk assessment.   \n",
    "\n",
    "To develop your understanding of the domain, you are advised to independently research a little about risk analytics (understanding the types of variables and their significance should be enough).\n"
   ]
  },
  {
   "cell_type": "code",
   "execution_count": 1,
   "metadata": {},
   "outputs": [
    {
     "data": {
      "application/javascript": [
       "\n",
       "            setTimeout(function() {\n",
       "                var nbb_cell_id = 1;\n",
       "                var nbb_formatted_code = \"%load_ext nb_black\\nimport warnings\\n\\nwarnings.filterwarnings(\\\"ignore\\\")\\n\\nimport pandas as pd\\nimport numpy as np\\nimport matplotlib.pyplot as plt\\nimport seaborn as sns\";\n",
       "                var nbb_cells = Jupyter.notebook.get_cells();\n",
       "                for (var i = 0; i < nbb_cells.length; ++i) {\n",
       "                    if (nbb_cells[i].input_prompt_number == nbb_cell_id) {\n",
       "                        nbb_cells[i].set_text(nbb_formatted_code);\n",
       "                        break;\n",
       "                    }\n",
       "                }\n",
       "            }, 500);\n",
       "            "
      ],
      "text/plain": [
       "<IPython.core.display.Javascript object>"
      ]
     },
     "metadata": {},
     "output_type": "display_data"
    }
   ],
   "source": [
    "%load_ext nb_black\n",
    "import warnings\n",
    "\n",
    "warnings.filterwarnings(\"ignore\")\n",
    "\n",
    "import pandas as pd\n",
    "import numpy as np\n",
    "import matplotlib.pyplot as plt\n",
    "import seaborn as sns"
   ]
  },
  {
   "cell_type": "code",
   "execution_count": 2,
   "metadata": {},
   "outputs": [
    {
     "data": {
      "application/javascript": [
       "\n",
       "            setTimeout(function() {\n",
       "                var nbb_cell_id = 2;\n",
       "                var nbb_formatted_code = \"pd.set_option(\\\"display.max_columns\\\", 500)\\npd.set_option(\\\"display.max_rows\\\", 500)\\npd.set_option(\\\"display.float_format\\\", lambda x: \\\"%.3f\\\" % x)\";\n",
       "                var nbb_cells = Jupyter.notebook.get_cells();\n",
       "                for (var i = 0; i < nbb_cells.length; ++i) {\n",
       "                    if (nbb_cells[i].input_prompt_number == nbb_cell_id) {\n",
       "                        nbb_cells[i].set_text(nbb_formatted_code);\n",
       "                        break;\n",
       "                    }\n",
       "                }\n",
       "            }, 500);\n",
       "            "
      ],
      "text/plain": [
       "<IPython.core.display.Javascript object>"
      ]
     },
     "metadata": {},
     "output_type": "display_data"
    }
   ],
   "source": [
    "pd.set_option(\"display.max_columns\", 500)\n",
    "pd.set_option(\"display.max_rows\", 500)\n",
    "pd.set_option(\"display.float_format\", lambda x: \"%.3f\" % x)"
   ]
  },
  {
   "cell_type": "code",
   "execution_count": 3,
   "metadata": {},
   "outputs": [
    {
     "data": {
      "text/html": [
       "<div>\n",
       "<style scoped>\n",
       "    .dataframe tbody tr th:only-of-type {\n",
       "        vertical-align: middle;\n",
       "    }\n",
       "\n",
       "    .dataframe tbody tr th {\n",
       "        vertical-align: top;\n",
       "    }\n",
       "\n",
       "    .dataframe thead th {\n",
       "        text-align: right;\n",
       "    }\n",
       "</style>\n",
       "<table border=\"1\" class=\"dataframe\">\n",
       "  <thead>\n",
       "    <tr style=\"text-align: right;\">\n",
       "      <th></th>\n",
       "      <th>id</th>\n",
       "      <th>member_id</th>\n",
       "      <th>loan_amnt</th>\n",
       "      <th>funded_amnt</th>\n",
       "      <th>funded_amnt_inv</th>\n",
       "      <th>term</th>\n",
       "      <th>int_rate</th>\n",
       "      <th>installment</th>\n",
       "      <th>grade</th>\n",
       "      <th>sub_grade</th>\n",
       "      <th>emp_title</th>\n",
       "      <th>emp_length</th>\n",
       "      <th>home_ownership</th>\n",
       "      <th>annual_inc</th>\n",
       "      <th>verification_status</th>\n",
       "      <th>issue_d</th>\n",
       "      <th>loan_status</th>\n",
       "      <th>pymnt_plan</th>\n",
       "      <th>url</th>\n",
       "      <th>desc</th>\n",
       "      <th>purpose</th>\n",
       "      <th>title</th>\n",
       "      <th>zip_code</th>\n",
       "      <th>addr_state</th>\n",
       "      <th>dti</th>\n",
       "      <th>delinq_2yrs</th>\n",
       "      <th>earliest_cr_line</th>\n",
       "      <th>inq_last_6mths</th>\n",
       "      <th>mths_since_last_delinq</th>\n",
       "      <th>mths_since_last_record</th>\n",
       "      <th>open_acc</th>\n",
       "      <th>pub_rec</th>\n",
       "      <th>revol_bal</th>\n",
       "      <th>revol_util</th>\n",
       "      <th>total_acc</th>\n",
       "      <th>initial_list_status</th>\n",
       "      <th>out_prncp</th>\n",
       "      <th>out_prncp_inv</th>\n",
       "      <th>total_pymnt</th>\n",
       "      <th>total_pymnt_inv</th>\n",
       "      <th>total_rec_prncp</th>\n",
       "      <th>total_rec_int</th>\n",
       "      <th>total_rec_late_fee</th>\n",
       "      <th>recoveries</th>\n",
       "      <th>collection_recovery_fee</th>\n",
       "      <th>last_pymnt_d</th>\n",
       "      <th>last_pymnt_amnt</th>\n",
       "      <th>next_pymnt_d</th>\n",
       "      <th>last_credit_pull_d</th>\n",
       "      <th>collections_12_mths_ex_med</th>\n",
       "      <th>mths_since_last_major_derog</th>\n",
       "      <th>policy_code</th>\n",
       "      <th>application_type</th>\n",
       "      <th>annual_inc_joint</th>\n",
       "      <th>dti_joint</th>\n",
       "      <th>verification_status_joint</th>\n",
       "      <th>acc_now_delinq</th>\n",
       "      <th>tot_coll_amt</th>\n",
       "      <th>tot_cur_bal</th>\n",
       "      <th>open_acc_6m</th>\n",
       "      <th>open_il_6m</th>\n",
       "      <th>open_il_12m</th>\n",
       "      <th>open_il_24m</th>\n",
       "      <th>mths_since_rcnt_il</th>\n",
       "      <th>total_bal_il</th>\n",
       "      <th>il_util</th>\n",
       "      <th>open_rv_12m</th>\n",
       "      <th>open_rv_24m</th>\n",
       "      <th>max_bal_bc</th>\n",
       "      <th>all_util</th>\n",
       "      <th>total_rev_hi_lim</th>\n",
       "      <th>inq_fi</th>\n",
       "      <th>total_cu_tl</th>\n",
       "      <th>inq_last_12m</th>\n",
       "      <th>acc_open_past_24mths</th>\n",
       "      <th>avg_cur_bal</th>\n",
       "      <th>bc_open_to_buy</th>\n",
       "      <th>bc_util</th>\n",
       "      <th>chargeoff_within_12_mths</th>\n",
       "      <th>delinq_amnt</th>\n",
       "      <th>mo_sin_old_il_acct</th>\n",
       "      <th>mo_sin_old_rev_tl_op</th>\n",
       "      <th>mo_sin_rcnt_rev_tl_op</th>\n",
       "      <th>mo_sin_rcnt_tl</th>\n",
       "      <th>mort_acc</th>\n",
       "      <th>mths_since_recent_bc</th>\n",
       "      <th>mths_since_recent_bc_dlq</th>\n",
       "      <th>mths_since_recent_inq</th>\n",
       "      <th>mths_since_recent_revol_delinq</th>\n",
       "      <th>num_accts_ever_120_pd</th>\n",
       "      <th>num_actv_bc_tl</th>\n",
       "      <th>num_actv_rev_tl</th>\n",
       "      <th>num_bc_sats</th>\n",
       "      <th>num_bc_tl</th>\n",
       "      <th>num_il_tl</th>\n",
       "      <th>num_op_rev_tl</th>\n",
       "      <th>num_rev_accts</th>\n",
       "      <th>num_rev_tl_bal_gt_0</th>\n",
       "      <th>num_sats</th>\n",
       "      <th>num_tl_120dpd_2m</th>\n",
       "      <th>num_tl_30dpd</th>\n",
       "      <th>num_tl_90g_dpd_24m</th>\n",
       "      <th>num_tl_op_past_12m</th>\n",
       "      <th>pct_tl_nvr_dlq</th>\n",
       "      <th>percent_bc_gt_75</th>\n",
       "      <th>pub_rec_bankruptcies</th>\n",
       "      <th>tax_liens</th>\n",
       "      <th>tot_hi_cred_lim</th>\n",
       "      <th>total_bal_ex_mort</th>\n",
       "      <th>total_bc_limit</th>\n",
       "      <th>total_il_high_credit_limit</th>\n",
       "    </tr>\n",
       "  </thead>\n",
       "  <tbody>\n",
       "    <tr>\n",
       "      <th>0</th>\n",
       "      <td>1077501</td>\n",
       "      <td>1296599</td>\n",
       "      <td>5000</td>\n",
       "      <td>5000</td>\n",
       "      <td>4975.000</td>\n",
       "      <td>36 months</td>\n",
       "      <td>10.65%</td>\n",
       "      <td>162.870</td>\n",
       "      <td>B</td>\n",
       "      <td>B2</td>\n",
       "      <td>NaN</td>\n",
       "      <td>10+ years</td>\n",
       "      <td>RENT</td>\n",
       "      <td>24000.000</td>\n",
       "      <td>Verified</td>\n",
       "      <td>Dec-11</td>\n",
       "      <td>Fully Paid</td>\n",
       "      <td>n</td>\n",
       "      <td>https://lendingclub.com/browse/loanDetail.acti...</td>\n",
       "      <td>Borrower added on 12/22/11 &gt; I need to upgra...</td>\n",
       "      <td>credit_card</td>\n",
       "      <td>Computer</td>\n",
       "      <td>860xx</td>\n",
       "      <td>AZ</td>\n",
       "      <td>27.650</td>\n",
       "      <td>0</td>\n",
       "      <td>Jan-85</td>\n",
       "      <td>1</td>\n",
       "      <td>nan</td>\n",
       "      <td>nan</td>\n",
       "      <td>3</td>\n",
       "      <td>0</td>\n",
       "      <td>13648</td>\n",
       "      <td>83.70%</td>\n",
       "      <td>9</td>\n",
       "      <td>f</td>\n",
       "      <td>0.000</td>\n",
       "      <td>0.000</td>\n",
       "      <td>5863.155</td>\n",
       "      <td>5833.840</td>\n",
       "      <td>5000.000</td>\n",
       "      <td>863.160</td>\n",
       "      <td>0.000</td>\n",
       "      <td>0.000</td>\n",
       "      <td>0.000</td>\n",
       "      <td>Jan-15</td>\n",
       "      <td>171.620</td>\n",
       "      <td>NaN</td>\n",
       "      <td>May-16</td>\n",
       "      <td>0.000</td>\n",
       "      <td>nan</td>\n",
       "      <td>1</td>\n",
       "      <td>INDIVIDUAL</td>\n",
       "      <td>nan</td>\n",
       "      <td>nan</td>\n",
       "      <td>nan</td>\n",
       "      <td>0</td>\n",
       "      <td>nan</td>\n",
       "      <td>nan</td>\n",
       "      <td>nan</td>\n",
       "      <td>nan</td>\n",
       "      <td>nan</td>\n",
       "      <td>nan</td>\n",
       "      <td>nan</td>\n",
       "      <td>nan</td>\n",
       "      <td>nan</td>\n",
       "      <td>nan</td>\n",
       "      <td>nan</td>\n",
       "      <td>nan</td>\n",
       "      <td>nan</td>\n",
       "      <td>nan</td>\n",
       "      <td>nan</td>\n",
       "      <td>nan</td>\n",
       "      <td>nan</td>\n",
       "      <td>nan</td>\n",
       "      <td>nan</td>\n",
       "      <td>nan</td>\n",
       "      <td>nan</td>\n",
       "      <td>0.000</td>\n",
       "      <td>0</td>\n",
       "      <td>nan</td>\n",
       "      <td>nan</td>\n",
       "      <td>nan</td>\n",
       "      <td>nan</td>\n",
       "      <td>nan</td>\n",
       "      <td>nan</td>\n",
       "      <td>nan</td>\n",
       "      <td>nan</td>\n",
       "      <td>nan</td>\n",
       "      <td>nan</td>\n",
       "      <td>nan</td>\n",
       "      <td>nan</td>\n",
       "      <td>nan</td>\n",
       "      <td>nan</td>\n",
       "      <td>nan</td>\n",
       "      <td>nan</td>\n",
       "      <td>nan</td>\n",
       "      <td>nan</td>\n",
       "      <td>nan</td>\n",
       "      <td>nan</td>\n",
       "      <td>nan</td>\n",
       "      <td>nan</td>\n",
       "      <td>nan</td>\n",
       "      <td>nan</td>\n",
       "      <td>nan</td>\n",
       "      <td>0.000</td>\n",
       "      <td>0.000</td>\n",
       "      <td>nan</td>\n",
       "      <td>nan</td>\n",
       "      <td>nan</td>\n",
       "      <td>nan</td>\n",
       "    </tr>\n",
       "    <tr>\n",
       "      <th>1</th>\n",
       "      <td>1077430</td>\n",
       "      <td>1314167</td>\n",
       "      <td>2500</td>\n",
       "      <td>2500</td>\n",
       "      <td>2500.000</td>\n",
       "      <td>60 months</td>\n",
       "      <td>15.27%</td>\n",
       "      <td>59.830</td>\n",
       "      <td>C</td>\n",
       "      <td>C4</td>\n",
       "      <td>Ryder</td>\n",
       "      <td>&lt; 1 year</td>\n",
       "      <td>RENT</td>\n",
       "      <td>30000.000</td>\n",
       "      <td>Source Verified</td>\n",
       "      <td>Dec-11</td>\n",
       "      <td>Charged Off</td>\n",
       "      <td>n</td>\n",
       "      <td>https://lendingclub.com/browse/loanDetail.acti...</td>\n",
       "      <td>Borrower added on 12/22/11 &gt; I plan to use t...</td>\n",
       "      <td>car</td>\n",
       "      <td>bike</td>\n",
       "      <td>309xx</td>\n",
       "      <td>GA</td>\n",
       "      <td>1.000</td>\n",
       "      <td>0</td>\n",
       "      <td>Apr-99</td>\n",
       "      <td>5</td>\n",
       "      <td>nan</td>\n",
       "      <td>nan</td>\n",
       "      <td>3</td>\n",
       "      <td>0</td>\n",
       "      <td>1687</td>\n",
       "      <td>9.40%</td>\n",
       "      <td>4</td>\n",
       "      <td>f</td>\n",
       "      <td>0.000</td>\n",
       "      <td>0.000</td>\n",
       "      <td>1008.710</td>\n",
       "      <td>1008.710</td>\n",
       "      <td>456.460</td>\n",
       "      <td>435.170</td>\n",
       "      <td>0.000</td>\n",
       "      <td>117.080</td>\n",
       "      <td>1.110</td>\n",
       "      <td>Apr-13</td>\n",
       "      <td>119.660</td>\n",
       "      <td>NaN</td>\n",
       "      <td>Sep-13</td>\n",
       "      <td>0.000</td>\n",
       "      <td>nan</td>\n",
       "      <td>1</td>\n",
       "      <td>INDIVIDUAL</td>\n",
       "      <td>nan</td>\n",
       "      <td>nan</td>\n",
       "      <td>nan</td>\n",
       "      <td>0</td>\n",
       "      <td>nan</td>\n",
       "      <td>nan</td>\n",
       "      <td>nan</td>\n",
       "      <td>nan</td>\n",
       "      <td>nan</td>\n",
       "      <td>nan</td>\n",
       "      <td>nan</td>\n",
       "      <td>nan</td>\n",
       "      <td>nan</td>\n",
       "      <td>nan</td>\n",
       "      <td>nan</td>\n",
       "      <td>nan</td>\n",
       "      <td>nan</td>\n",
       "      <td>nan</td>\n",
       "      <td>nan</td>\n",
       "      <td>nan</td>\n",
       "      <td>nan</td>\n",
       "      <td>nan</td>\n",
       "      <td>nan</td>\n",
       "      <td>nan</td>\n",
       "      <td>nan</td>\n",
       "      <td>0.000</td>\n",
       "      <td>0</td>\n",
       "      <td>nan</td>\n",
       "      <td>nan</td>\n",
       "      <td>nan</td>\n",
       "      <td>nan</td>\n",
       "      <td>nan</td>\n",
       "      <td>nan</td>\n",
       "      <td>nan</td>\n",
       "      <td>nan</td>\n",
       "      <td>nan</td>\n",
       "      <td>nan</td>\n",
       "      <td>nan</td>\n",
       "      <td>nan</td>\n",
       "      <td>nan</td>\n",
       "      <td>nan</td>\n",
       "      <td>nan</td>\n",
       "      <td>nan</td>\n",
       "      <td>nan</td>\n",
       "      <td>nan</td>\n",
       "      <td>nan</td>\n",
       "      <td>nan</td>\n",
       "      <td>nan</td>\n",
       "      <td>nan</td>\n",
       "      <td>nan</td>\n",
       "      <td>nan</td>\n",
       "      <td>nan</td>\n",
       "      <td>0.000</td>\n",
       "      <td>0.000</td>\n",
       "      <td>nan</td>\n",
       "      <td>nan</td>\n",
       "      <td>nan</td>\n",
       "      <td>nan</td>\n",
       "    </tr>\n",
       "  </tbody>\n",
       "</table>\n",
       "</div>"
      ],
      "text/plain": [
       "        id  member_id  loan_amnt  funded_amnt  funded_amnt_inv        term  \\\n",
       "0  1077501    1296599       5000         5000         4975.000   36 months   \n",
       "1  1077430    1314167       2500         2500         2500.000   60 months   \n",
       "\n",
       "  int_rate  installment grade sub_grade emp_title emp_length home_ownership  \\\n",
       "0   10.65%      162.870     B        B2       NaN  10+ years           RENT   \n",
       "1   15.27%       59.830     C        C4     Ryder   < 1 year           RENT   \n",
       "\n",
       "   annual_inc verification_status issue_d  loan_status pymnt_plan  \\\n",
       "0   24000.000            Verified  Dec-11   Fully Paid          n   \n",
       "1   30000.000     Source Verified  Dec-11  Charged Off          n   \n",
       "\n",
       "                                                 url  \\\n",
       "0  https://lendingclub.com/browse/loanDetail.acti...   \n",
       "1  https://lendingclub.com/browse/loanDetail.acti...   \n",
       "\n",
       "                                                desc      purpose     title  \\\n",
       "0    Borrower added on 12/22/11 > I need to upgra...  credit_card  Computer   \n",
       "1    Borrower added on 12/22/11 > I plan to use t...          car      bike   \n",
       "\n",
       "  zip_code addr_state    dti  delinq_2yrs earliest_cr_line  inq_last_6mths  \\\n",
       "0    860xx         AZ 27.650            0           Jan-85               1   \n",
       "1    309xx         GA  1.000            0           Apr-99               5   \n",
       "\n",
       "   mths_since_last_delinq  mths_since_last_record  open_acc  pub_rec  \\\n",
       "0                     nan                     nan         3        0   \n",
       "1                     nan                     nan         3        0   \n",
       "\n",
       "   revol_bal revol_util  total_acc initial_list_status  out_prncp  \\\n",
       "0      13648     83.70%          9                   f      0.000   \n",
       "1       1687      9.40%          4                   f      0.000   \n",
       "\n",
       "   out_prncp_inv  total_pymnt  total_pymnt_inv  total_rec_prncp  \\\n",
       "0          0.000     5863.155         5833.840         5000.000   \n",
       "1          0.000     1008.710         1008.710          456.460   \n",
       "\n",
       "   total_rec_int  total_rec_late_fee  recoveries  collection_recovery_fee  \\\n",
       "0        863.160               0.000       0.000                    0.000   \n",
       "1        435.170               0.000     117.080                    1.110   \n",
       "\n",
       "  last_pymnt_d  last_pymnt_amnt next_pymnt_d last_credit_pull_d  \\\n",
       "0       Jan-15          171.620          NaN             May-16   \n",
       "1       Apr-13          119.660          NaN             Sep-13   \n",
       "\n",
       "   collections_12_mths_ex_med  mths_since_last_major_derog  policy_code  \\\n",
       "0                       0.000                          nan            1   \n",
       "1                       0.000                          nan            1   \n",
       "\n",
       "  application_type  annual_inc_joint  dti_joint  verification_status_joint  \\\n",
       "0       INDIVIDUAL               nan        nan                        nan   \n",
       "1       INDIVIDUAL               nan        nan                        nan   \n",
       "\n",
       "   acc_now_delinq  tot_coll_amt  tot_cur_bal  open_acc_6m  open_il_6m  \\\n",
       "0               0           nan          nan          nan         nan   \n",
       "1               0           nan          nan          nan         nan   \n",
       "\n",
       "   open_il_12m  open_il_24m  mths_since_rcnt_il  total_bal_il  il_util  \\\n",
       "0          nan          nan                 nan           nan      nan   \n",
       "1          nan          nan                 nan           nan      nan   \n",
       "\n",
       "   open_rv_12m  open_rv_24m  max_bal_bc  all_util  total_rev_hi_lim  inq_fi  \\\n",
       "0          nan          nan         nan       nan               nan     nan   \n",
       "1          nan          nan         nan       nan               nan     nan   \n",
       "\n",
       "   total_cu_tl  inq_last_12m  acc_open_past_24mths  avg_cur_bal  \\\n",
       "0          nan           nan                   nan          nan   \n",
       "1          nan           nan                   nan          nan   \n",
       "\n",
       "   bc_open_to_buy  bc_util  chargeoff_within_12_mths  delinq_amnt  \\\n",
       "0             nan      nan                     0.000            0   \n",
       "1             nan      nan                     0.000            0   \n",
       "\n",
       "   mo_sin_old_il_acct  mo_sin_old_rev_tl_op  mo_sin_rcnt_rev_tl_op  \\\n",
       "0                 nan                   nan                    nan   \n",
       "1                 nan                   nan                    nan   \n",
       "\n",
       "   mo_sin_rcnt_tl  mort_acc  mths_since_recent_bc  mths_since_recent_bc_dlq  \\\n",
       "0             nan       nan                   nan                       nan   \n",
       "1             nan       nan                   nan                       nan   \n",
       "\n",
       "   mths_since_recent_inq  mths_since_recent_revol_delinq  \\\n",
       "0                    nan                             nan   \n",
       "1                    nan                             nan   \n",
       "\n",
       "   num_accts_ever_120_pd  num_actv_bc_tl  num_actv_rev_tl  num_bc_sats  \\\n",
       "0                    nan             nan              nan          nan   \n",
       "1                    nan             nan              nan          nan   \n",
       "\n",
       "   num_bc_tl  num_il_tl  num_op_rev_tl  num_rev_accts  num_rev_tl_bal_gt_0  \\\n",
       "0        nan        nan            nan            nan                  nan   \n",
       "1        nan        nan            nan            nan                  nan   \n",
       "\n",
       "   num_sats  num_tl_120dpd_2m  num_tl_30dpd  num_tl_90g_dpd_24m  \\\n",
       "0       nan               nan           nan                 nan   \n",
       "1       nan               nan           nan                 nan   \n",
       "\n",
       "   num_tl_op_past_12m  pct_tl_nvr_dlq  percent_bc_gt_75  pub_rec_bankruptcies  \\\n",
       "0                 nan             nan               nan                 0.000   \n",
       "1                 nan             nan               nan                 0.000   \n",
       "\n",
       "   tax_liens  tot_hi_cred_lim  total_bal_ex_mort  total_bc_limit  \\\n",
       "0      0.000              nan                nan             nan   \n",
       "1      0.000              nan                nan             nan   \n",
       "\n",
       "   total_il_high_credit_limit  \n",
       "0                         nan  \n",
       "1                         nan  "
      ]
     },
     "execution_count": 3,
     "metadata": {},
     "output_type": "execute_result"
    },
    {
     "data": {
      "application/javascript": [
       "\n",
       "            setTimeout(function() {\n",
       "                var nbb_cell_id = 3;\n",
       "                var nbb_formatted_code = \"loan_df = pd.read_csv(\\\"loan.csv\\\")\\nloan_df.head(2)\";\n",
       "                var nbb_cells = Jupyter.notebook.get_cells();\n",
       "                for (var i = 0; i < nbb_cells.length; ++i) {\n",
       "                    if (nbb_cells[i].input_prompt_number == nbb_cell_id) {\n",
       "                        nbb_cells[i].set_text(nbb_formatted_code);\n",
       "                        break;\n",
       "                    }\n",
       "                }\n",
       "            }, 500);\n",
       "            "
      ],
      "text/plain": [
       "<IPython.core.display.Javascript object>"
      ]
     },
     "metadata": {},
     "output_type": "display_data"
    }
   ],
   "source": [
    "loan_df = pd.read_csv(\"loan.csv\")\n",
    "loan_df.head(2)"
   ]
  },
  {
   "cell_type": "markdown",
   "metadata": {},
   "source": [
    "## Data Prepration"
   ]
  },
  {
   "cell_type": "code",
   "execution_count": 4,
   "metadata": {},
   "outputs": [
    {
     "data": {
      "text/plain": [
       "Index(['id', 'member_id', 'loan_amnt', 'funded_amnt', 'funded_amnt_inv',\n",
       "       'term', 'int_rate', 'installment', 'grade', 'sub_grade',\n",
       "       ...\n",
       "       'num_tl_90g_dpd_24m', 'num_tl_op_past_12m', 'pct_tl_nvr_dlq',\n",
       "       'percent_bc_gt_75', 'pub_rec_bankruptcies', 'tax_liens',\n",
       "       'tot_hi_cred_lim', 'total_bal_ex_mort', 'total_bc_limit',\n",
       "       'total_il_high_credit_limit'],\n",
       "      dtype='object', length=111)"
      ]
     },
     "execution_count": 4,
     "metadata": {},
     "output_type": "execute_result"
    },
    {
     "data": {
      "application/javascript": [
       "\n",
       "            setTimeout(function() {\n",
       "                var nbb_cell_id = 4;\n",
       "                var nbb_formatted_code = \"loan_df.columns\";\n",
       "                var nbb_cells = Jupyter.notebook.get_cells();\n",
       "                for (var i = 0; i < nbb_cells.length; ++i) {\n",
       "                    if (nbb_cells[i].input_prompt_number == nbb_cell_id) {\n",
       "                        nbb_cells[i].set_text(nbb_formatted_code);\n",
       "                        break;\n",
       "                    }\n",
       "                }\n",
       "            }, 500);\n",
       "            "
      ],
      "text/plain": [
       "<IPython.core.display.Javascript object>"
      ]
     },
     "metadata": {},
     "output_type": "display_data"
    }
   ],
   "source": [
    "loan_df.columns"
   ]
  },
  {
   "cell_type": "code",
   "execution_count": 5,
   "metadata": {},
   "outputs": [
    {
     "data": {
      "application/javascript": [
       "\n",
       "            setTimeout(function() {\n",
       "                var nbb_cell_id = 5;\n",
       "                var nbb_formatted_code = \"def nullPercentage(df):\\n    print(round((df.isnull().sum() / len(df.index) * 100), 2))\";\n",
       "                var nbb_cells = Jupyter.notebook.get_cells();\n",
       "                for (var i = 0; i < nbb_cells.length; ++i) {\n",
       "                    if (nbb_cells[i].input_prompt_number == nbb_cell_id) {\n",
       "                        nbb_cells[i].set_text(nbb_formatted_code);\n",
       "                        break;\n",
       "                    }\n",
       "                }\n",
       "            }, 500);\n",
       "            "
      ],
      "text/plain": [
       "<IPython.core.display.Javascript object>"
      ]
     },
     "metadata": {},
     "output_type": "display_data"
    }
   ],
   "source": [
    "def nullPercentage(df):\n",
    "    print(round((df.isnull().sum() / len(df.index) * 100), 2))"
   ]
  },
  {
   "cell_type": "code",
   "execution_count": 6,
   "metadata": {
    "scrolled": false
   },
   "outputs": [
    {
     "name": "stdout",
     "output_type": "stream",
     "text": [
      "id                                 0.000\n",
      "member_id                          0.000\n",
      "loan_amnt                          0.000\n",
      "funded_amnt                        0.000\n",
      "funded_amnt_inv                    0.000\n",
      "term                               0.000\n",
      "int_rate                           0.000\n",
      "installment                        0.000\n",
      "grade                              0.000\n",
      "sub_grade                          0.000\n",
      "emp_title                          6.190\n",
      "emp_length                         2.710\n",
      "home_ownership                     0.000\n",
      "annual_inc                         0.000\n",
      "verification_status                0.000\n",
      "issue_d                            0.000\n",
      "loan_status                        0.000\n",
      "pymnt_plan                         0.000\n",
      "url                                0.000\n",
      "desc                              32.580\n",
      "purpose                            0.000\n",
      "title                              0.030\n",
      "zip_code                           0.000\n",
      "addr_state                         0.000\n",
      "dti                                0.000\n",
      "delinq_2yrs                        0.000\n",
      "earliest_cr_line                   0.000\n",
      "inq_last_6mths                     0.000\n",
      "mths_since_last_delinq            64.660\n",
      "mths_since_last_record            92.990\n",
      "open_acc                           0.000\n",
      "pub_rec                            0.000\n",
      "revol_bal                          0.000\n",
      "revol_util                         0.130\n",
      "total_acc                          0.000\n",
      "initial_list_status                0.000\n",
      "out_prncp                          0.000\n",
      "out_prncp_inv                      0.000\n",
      "total_pymnt                        0.000\n",
      "total_pymnt_inv                    0.000\n",
      "total_rec_prncp                    0.000\n",
      "total_rec_int                      0.000\n",
      "total_rec_late_fee                 0.000\n",
      "recoveries                         0.000\n",
      "collection_recovery_fee            0.000\n",
      "last_pymnt_d                       0.180\n",
      "last_pymnt_amnt                    0.000\n",
      "next_pymnt_d                      97.130\n",
      "last_credit_pull_d                 0.010\n",
      "collections_12_mths_ex_med         0.140\n",
      "mths_since_last_major_derog      100.000\n",
      "policy_code                        0.000\n",
      "application_type                   0.000\n",
      "annual_inc_joint                 100.000\n",
      "dti_joint                        100.000\n",
      "verification_status_joint        100.000\n",
      "acc_now_delinq                     0.000\n",
      "tot_coll_amt                     100.000\n",
      "tot_cur_bal                      100.000\n",
      "open_acc_6m                      100.000\n",
      "open_il_6m                       100.000\n",
      "open_il_12m                      100.000\n",
      "open_il_24m                      100.000\n",
      "mths_since_rcnt_il               100.000\n",
      "total_bal_il                     100.000\n",
      "il_util                          100.000\n",
      "open_rv_12m                      100.000\n",
      "open_rv_24m                      100.000\n",
      "max_bal_bc                       100.000\n",
      "all_util                         100.000\n",
      "total_rev_hi_lim                 100.000\n",
      "inq_fi                           100.000\n",
      "total_cu_tl                      100.000\n",
      "inq_last_12m                     100.000\n",
      "acc_open_past_24mths             100.000\n",
      "avg_cur_bal                      100.000\n",
      "bc_open_to_buy                   100.000\n",
      "bc_util                          100.000\n",
      "chargeoff_within_12_mths           0.140\n",
      "delinq_amnt                        0.000\n",
      "mo_sin_old_il_acct               100.000\n",
      "mo_sin_old_rev_tl_op             100.000\n",
      "mo_sin_rcnt_rev_tl_op            100.000\n",
      "mo_sin_rcnt_tl                   100.000\n",
      "mort_acc                         100.000\n",
      "mths_since_recent_bc             100.000\n",
      "mths_since_recent_bc_dlq         100.000\n",
      "mths_since_recent_inq            100.000\n",
      "mths_since_recent_revol_delinq   100.000\n",
      "num_accts_ever_120_pd            100.000\n",
      "num_actv_bc_tl                   100.000\n",
      "num_actv_rev_tl                  100.000\n",
      "num_bc_sats                      100.000\n",
      "num_bc_tl                        100.000\n",
      "num_il_tl                        100.000\n",
      "num_op_rev_tl                    100.000\n",
      "num_rev_accts                    100.000\n",
      "num_rev_tl_bal_gt_0              100.000\n",
      "num_sats                         100.000\n",
      "num_tl_120dpd_2m                 100.000\n",
      "num_tl_30dpd                     100.000\n",
      "num_tl_90g_dpd_24m               100.000\n",
      "num_tl_op_past_12m               100.000\n",
      "pct_tl_nvr_dlq                   100.000\n",
      "percent_bc_gt_75                 100.000\n",
      "pub_rec_bankruptcies               1.750\n",
      "tax_liens                          0.100\n",
      "tot_hi_cred_lim                  100.000\n",
      "total_bal_ex_mort                100.000\n",
      "total_bc_limit                   100.000\n",
      "total_il_high_credit_limit       100.000\n",
      "dtype: float64\n"
     ]
    },
    {
     "data": {
      "application/javascript": [
       "\n",
       "            setTimeout(function() {\n",
       "                var nbb_cell_id = 6;\n",
       "                var nbb_formatted_code = \"nullPercentage(loan_df)\";\n",
       "                var nbb_cells = Jupyter.notebook.get_cells();\n",
       "                for (var i = 0; i < nbb_cells.length; ++i) {\n",
       "                    if (nbb_cells[i].input_prompt_number == nbb_cell_id) {\n",
       "                        nbb_cells[i].set_text(nbb_formatted_code);\n",
       "                        break;\n",
       "                    }\n",
       "                }\n",
       "            }, 500);\n",
       "            "
      ],
      "text/plain": [
       "<IPython.core.display.Javascript object>"
      ]
     },
     "metadata": {},
     "output_type": "display_data"
    }
   ],
   "source": [
    "nullPercentage(loan_df)"
   ]
  },
  {
   "cell_type": "code",
   "execution_count": 7,
   "metadata": {},
   "outputs": [
    {
     "name": "stdout",
     "output_type": "stream",
     "text": [
      "id                           0.000\n",
      "member_id                    0.000\n",
      "loan_amnt                    0.000\n",
      "funded_amnt                  0.000\n",
      "funded_amnt_inv              0.000\n",
      "term                         0.000\n",
      "int_rate                     0.000\n",
      "installment                  0.000\n",
      "grade                        0.000\n",
      "sub_grade                    0.000\n",
      "emp_title                    6.190\n",
      "emp_length                   2.710\n",
      "home_ownership               0.000\n",
      "annual_inc                   0.000\n",
      "verification_status          0.000\n",
      "issue_d                      0.000\n",
      "loan_status                  0.000\n",
      "pymnt_plan                   0.000\n",
      "url                          0.000\n",
      "purpose                      0.000\n",
      "title                        0.030\n",
      "zip_code                     0.000\n",
      "addr_state                   0.000\n",
      "dti                          0.000\n",
      "delinq_2yrs                  0.000\n",
      "earliest_cr_line             0.000\n",
      "inq_last_6mths               0.000\n",
      "open_acc                     0.000\n",
      "pub_rec                      0.000\n",
      "revol_bal                    0.000\n",
      "revol_util                   0.130\n",
      "total_acc                    0.000\n",
      "initial_list_status          0.000\n",
      "out_prncp                    0.000\n",
      "out_prncp_inv                0.000\n",
      "total_pymnt                  0.000\n",
      "total_pymnt_inv              0.000\n",
      "total_rec_prncp              0.000\n",
      "total_rec_int                0.000\n",
      "total_rec_late_fee           0.000\n",
      "recoveries                   0.000\n",
      "collection_recovery_fee      0.000\n",
      "last_pymnt_d                 0.180\n",
      "last_pymnt_amnt              0.000\n",
      "last_credit_pull_d           0.010\n",
      "collections_12_mths_ex_med   0.140\n",
      "policy_code                  0.000\n",
      "application_type             0.000\n",
      "acc_now_delinq               0.000\n",
      "chargeoff_within_12_mths     0.140\n",
      "delinq_amnt                  0.000\n",
      "pub_rec_bankruptcies         1.750\n",
      "tax_liens                    0.100\n",
      "dtype: float64\n"
     ]
    },
    {
     "data": {
      "application/javascript": [
       "\n",
       "            setTimeout(function() {\n",
       "                var nbb_cell_id = 7;\n",
       "                var nbb_formatted_code = \"# Drop Column based on Null Percentage Criteria\\ntemp_df = pd.DataFrame(round((loan_df.isnull().sum() / len(loan_df.index) * 100), 2))\\n\\ncolumn = (temp_df.loc[temp_df[0] > 7].index).tolist()\\n\\nloan_df_clean = loan_df.drop(columns=column, axis=1)\\n\\nnullPercentage(loan_df_clean)\";\n",
       "                var nbb_cells = Jupyter.notebook.get_cells();\n",
       "                for (var i = 0; i < nbb_cells.length; ++i) {\n",
       "                    if (nbb_cells[i].input_prompt_number == nbb_cell_id) {\n",
       "                        nbb_cells[i].set_text(nbb_formatted_code);\n",
       "                        break;\n",
       "                    }\n",
       "                }\n",
       "            }, 500);\n",
       "            "
      ],
      "text/plain": [
       "<IPython.core.display.Javascript object>"
      ]
     },
     "metadata": {},
     "output_type": "display_data"
    }
   ],
   "source": [
    "# Drop Column based on Null Percentage Criteria\n",
    "temp_df = pd.DataFrame(round((loan_df.isnull().sum() / len(loan_df.index) * 100), 2))\n",
    "\n",
    "column = (temp_df.loc[temp_df[0] > 7].index).tolist()\n",
    "\n",
    "loan_df_clean = loan_df.drop(columns=column, axis=1)\n",
    "\n",
    "nullPercentage(loan_df_clean)"
   ]
  },
  {
   "cell_type": "code",
   "execution_count": 8,
   "metadata": {},
   "outputs": [
    {
     "name": "stdout",
     "output_type": "stream",
     "text": [
      "There's no duplicate record in dataframe\n"
     ]
    },
    {
     "data": {
      "application/javascript": [
       "\n",
       "            setTimeout(function() {\n",
       "                var nbb_cell_id = 8;\n",
       "                var nbb_formatted_code = \"if len(loan_df_clean[\\\"id\\\"].value_counts()) == len(loan_df_clean):\\n    print(\\\"There's no duplicate record in dataframe\\\")\";\n",
       "                var nbb_cells = Jupyter.notebook.get_cells();\n",
       "                for (var i = 0; i < nbb_cells.length; ++i) {\n",
       "                    if (nbb_cells[i].input_prompt_number == nbb_cell_id) {\n",
       "                        nbb_cells[i].set_text(nbb_formatted_code);\n",
       "                        break;\n",
       "                    }\n",
       "                }\n",
       "            }, 500);\n",
       "            "
      ],
      "text/plain": [
       "<IPython.core.display.Javascript object>"
      ]
     },
     "metadata": {},
     "output_type": "display_data"
    }
   ],
   "source": [
    "if len(loan_df_clean[\"id\"].value_counts()) == len(loan_df_clean):\n",
    "    print(\"There's no duplicate record in dataframe\")"
   ]
  },
  {
   "cell_type": "code",
   "execution_count": 9,
   "metadata": {},
   "outputs": [
    {
     "data": {
      "text/plain": [
       "Debt Consolidation                              2184\n",
       "Debt Consolidation Loan                         1729\n",
       "Personal Loan                                    659\n",
       "Consolidation                                    517\n",
       "debt consolidation                               505\n",
       "Credit Card Consolidation                        356\n",
       "Home Improvement                                 356\n",
       "Debt consolidation                               334\n",
       "Small Business Loan                              328\n",
       "Credit Card Loan                                 317\n",
       "Personal                                         308\n",
       "Consolidation Loan                               255\n",
       "Home Improvement Loan                            247\n",
       "personal loan                                    234\n",
       "personal                                         220\n",
       "Loan                                             213\n",
       "Wedding Loan                                     208\n",
       "consolidation                                    205\n",
       "Car Loan                                         204\n",
       "Other Loan                                       191\n",
       "Credit Card Payoff                               154\n",
       "Wedding                                          154\n",
       "Major Purchase Loan                              145\n",
       "Credit Card Refinance                            144\n",
       "Consolidate                                      126\n",
       "Medical                                          122\n",
       "Credit Card                                      118\n",
       "home improvement                                 111\n",
       "My Loan                                           93\n",
       "Credit Cards                                      93\n",
       "Debt                                              85\n",
       "loan                                              84\n",
       "Business Loan                                     82\n",
       "Freedom                                           81\n",
       "Moving Loan                                       76\n",
       "consolidate                                       73\n",
       "Personal loan                                     73\n",
       "debt_consolidation                                67\n",
       "Debt Consolidation                                65\n",
       "Motorcycle                                        65\n",
       "Medical Loan                                      62\n",
       "Debt Loan                                         62\n",
       "Credit Card Debt Consolidation                    61\n",
       "Major Purchase                                    60\n",
       "Other                                             59\n",
       "Home improvement                                  59\n",
       "Engagement Ring                                   59\n",
       "Consolidate Debt                                  57\n",
       "debt consolidation loan                           56\n",
       "debt                                              56\n",
       "credit card consolidation                         56\n",
       "DEBT CONSOLIDATION                                55\n",
       "Moving                                            53\n",
       "Vacation                                          53\n",
       "CC Consolidation                                  52\n",
       "Credit Card Debt                                  51\n",
       "my loan                                           50\n",
       "Wedding Expenses                                  50\n",
       "Credit Consolidation                              49\n",
       "Credit Card Consolidation Loan                    49\n",
       "Small Business                                    48\n",
       "freedom                                           48\n",
       "Payoff                                            46\n",
       "Bill Consolidation                                46\n",
       "payoff                                            46\n",
       "Loan 1                                            46\n",
       "Debt Free                                         46\n",
       "Refinance                                         45\n",
       "Home Improvements                                 44\n",
       "consolidation loan                                44\n",
       "Debt consolidation loan                           44\n",
       "Motorcycle Loan                                   42\n",
       "Credit card consolidation                         42\n",
       "Pool Loan                                         42\n",
       "Pool                                              41\n",
       "House Loan                                        40\n",
       "Consolidation loan                                39\n",
       "Auto Loan                                         39\n",
       "Vacation Loan                                     38\n",
       "credit cards                                      37\n",
       "Credit Card Refi                                  36\n",
       "wedding                                           36\n",
       "Home                                              36\n",
       "Debt Payoff                                       36\n",
       "motorcycle                                        35\n",
       "Loan Consolidation                                35\n",
       "CC Payoff                                         34\n",
       "vacation                                          33\n",
       "credit card                                       33\n",
       "Car                                               32\n",
       "My loan                                           31\n",
       "Consolidate debt                                  31\n",
       "debt loan                                         31\n",
       "Lending Club Loan                                 31\n",
       "Credit Card Refinancing                           31\n",
       "Business                                          30\n",
       "Car loan                                          29\n",
       "car loan                                          29\n",
       "Pay off credit cards                              29\n",
       "Bills                                             28\n",
       "Lending Club                                      28\n",
       "credit card refinance                             27\n",
       "medical                                           27\n",
       "car                                               27\n",
       "CC Refinance                                      26\n",
       "major purchase                                    26\n",
       "debt free                                         25\n",
       "Debt Consolodation                                25\n",
       "Consolidate Credit Card Debt                      25\n",
       "Boat Loan                                         25\n",
       "credit card payoff                                25\n",
       "wedding loan                                      25\n",
       "pay off credit cards                              25\n",
       "bills                                             24\n",
       "Debt Consolidation loan                           24\n",
       "Small Business loan                               24\n",
       "Credit card refinance                             24\n",
       "CC Loan                                           23\n",
       "Home Loan                                         23\n",
       "Loan1                                             22\n",
       "Student Loan                                      22\n",
       "Medical Expenses                                  22\n",
       "Swimming Pool                                     22\n",
       "Pay Off                                           22\n",
       "consolidate debt                                  21\n",
       "Get out of debt                                   21\n",
       "get out of debt                                   21\n",
       "Credit Card Pay Off                               21\n",
       "Moving Expenses                                   21\n",
       "home                                              21\n",
       "Pay off Credit Cards                              20\n",
       "Credit Card Refinance Loan                        20\n",
       "Pay Off Credit Cards                              20\n",
       "Auto                                              20\n",
       "loan 1                                            19\n",
       "Freedom Loan                                      19\n",
       "pool                                              19\n",
       "Fresh Start                                       19\n",
       "Credit cards                                      19\n",
       "Roof                                              19\n",
       "Debt Consolidation loan                           19\n",
       "PERSONAL LOAN                                     19\n",
       "debt consolidation                                19\n",
       "pay off                                           19\n",
       "Pay off debt                                      18\n",
       "Taxes                                             18\n",
       "Debt Reduction                                    18\n",
       "Consolidating Debt                                18\n",
       "Debit Consolidation                               18\n",
       "Credit Card consolidation                         18\n",
       "boat                                              18\n",
       "credit card loan                                  18\n",
       "Credit card payoff                                18\n",
       "Credit Card Payoff Loan                           17\n",
       "CC Refi                                           17\n",
       "home improvements                                 17\n",
       "business loan                                     17\n",
       "Kitchen Remodel                                   17\n",
       "My Personal Loan                                  17\n",
       "Debt Consolidation 2011                           17\n",
       "Pay off                                           17\n",
       "Debt Consolidate                                  17\n",
       "Consolidation                                     17\n",
       "bill consolidation                                17\n",
       "House                                             16\n",
       "LOAN                                              16\n",
       "Consolidate Credit Cards                          16\n",
       "Pay off Debt                                      15\n",
       "Car Repair                                        15\n",
       "moving loan                                       15\n",
       "Personal Loan                                     15\n",
       "Motorcycle loan                                   15\n",
       "HOME IMPROVEMENT                                  15\n",
       "credit consolidation                              15\n",
       "Boat                                              15\n",
       "Debt consolidation loan                           15\n",
       "Paying off credit cards                           15\n",
       "Debt Relief                                       15\n",
       "Ring                                              15\n",
       "Debt consolidation                                14\n",
       "home improvement loan                             14\n",
       "vacation loan                                     14\n",
       "credit_card                                       14\n",
       "refinance                                         14\n",
       "Personal                                          14\n",
       "CC                                                14\n",
       "New Start                                         14\n",
       "CONSOLIDATION                                     14\n",
       "Debt payoff                                       14\n",
       "Financial Freedom                                 14\n",
       "business                                          14\n",
       "PERSONAL                                          14\n",
       "auto                                              13\n",
       "debt relief                                       13\n",
       "Card Consolidation                                13\n",
       "Debt                                              13\n",
       "Debt loan                                         13\n",
       "Loan 2                                            13\n",
       "auto loan                                         13\n",
       "pool loan                                         13\n",
       "Refinancing                                       13\n",
       "Relocation Loan                                   13\n",
       "Truck                                             13\n",
       "Dept Consolidation                                13\n",
       "Small_Business Loan                               13\n",
       "Home improvement loan                             12\n",
       "Credit Card loan                                  12\n",
       "Payoff Credit Cards                               12\n",
       "swimming pool                                     12\n",
       "moving                                            12\n",
       "Consolidate Bills                                 12\n",
       "Consolidating Credit Card Debt                    12\n",
       "Help                                              12\n",
       "CC Debt                                           12\n",
       "Business Expansion                                12\n",
       "motorcycle loan                                   12\n",
       "credit                                            12\n",
       "Pool loan                                         12\n",
       "Wedding Fund                                      11\n",
       "Home_Improvement Loan                             11\n",
       "Home Repairs                                      11\n",
       "LendingClub Loan                                  11\n",
       "Debt Consol                                       11\n",
       "Purchase                                          11\n",
       "Working Capital                                   11\n",
       "lending club loan                                 11\n",
       "Credit Refinance                                  11\n",
       "Bike                                              11\n",
       "credit card refinance loan                        11\n",
       "Pay off credit card                               11\n",
       "Investment                                        11\n",
       "other                                             11\n",
       "help                                              11\n",
       "Major purchase                                    11\n",
       "Loan consolidation                                11\n",
       "Medical Bills                                     11\n",
       "Credit Card payoff                                11\n",
       "credit card debt                                  11\n",
       "New Roof                                          11\n",
       "Business loan                                     11\n",
       "DEBT FREE                                         10\n",
       "medical expenses                                  10\n",
       "New Loan                                          10\n",
       "Wedding                                           10\n",
       "No more credit cards                              10\n",
       "2010                                              10\n",
       "Credit card loan                                  10\n",
       "truck                                             10\n",
       "personal                                          10\n",
       "Wedding loan                                      10\n",
       "                                                ... \n",
       "erasing credit card nightmare                      1\n",
       "Let's get cooking!                                 1\n",
       "Chase Refi                                         1\n",
       "Short Term needs                                   1\n",
       "MotoLoan                                           1\n",
       "Aircraft Partnership Loan                          1\n",
       "Wedding fund and Credit Card Consolidate           1\n",
       "Finally get out of debt loan                       1\n",
       "Looking to rid of the CC                           1\n",
       "rough year / debt consolidation help               1\n",
       "TIRED OF MAKING BANKS RICH!                        1\n",
       "Legal Expenses Loan                                1\n",
       "freedom3                                           1\n",
       "Pay off refrigerator                               1\n",
       "wedding payoff                                     1\n",
       "Refi Nu Rate Loan                                  1\n",
       "Wipe out my Debt!                                  1\n",
       "furnace and air                                    1\n",
       "Carlitos                                           1\n",
       "Transition                                         1\n",
       "Payoff Prior Lending Club loan                     1\n",
       "Structured USAA Credit Card Payoff                 1\n",
       "new heat pump                                      1\n",
       "Bogies to Birdies                                  1\n",
       "Pay off high interest rate card                    1\n",
       "getting marry                                      1\n",
       "Dallas moving                                      1\n",
       "Debt Consolidation/Home Purchase                   1\n",
       "New Way Yoga and meditation                        1\n",
       "pay off Visa at a better rate                      1\n",
       "consolidate loans                                  1\n",
       "MasterCard payoff                                  1\n",
       "Card Debt                                          1\n",
       "Life on track                                      1\n",
       "Help with our dream wedding!                       1\n",
       "lowpay                                             1\n",
       "tuit                                               1\n",
       "Extra                                              1\n",
       "Toolbox                                            1\n",
       "Education Courses Loan                             1\n",
       "Patio cover                                        1\n",
       "Funches & Associates LLC                           1\n",
       "Kevin's Debt consolidation                         1\n",
       "Bill pay and Christmas                             1\n",
       "Cut the credit cards Loan                          1\n",
       "buying a car                                       1\n",
       "high interest credit card payoff                   1\n",
       "Help My Family                                     1\n",
       "CCloan                                             1\n",
       "Bye Bye Citibank                                   1\n",
       "Seed money for small business                      1\n",
       "Mike P                                             1\n",
       "Tuition loan                                       1\n",
       "GAraimo                                            1\n",
       "Operation Pay Off Parents                          1\n",
       "Justice                                            1\n",
       "FINALLY DEBT FREE FROM CREDIT CARDS                1\n",
       "Rell Consolidated Loan                             1\n",
       "Model A                                            1\n",
       "Paying off horrible interest                       1\n",
       "Time to get credit card debt free                  1\n",
       "Working Capital for Cafe!!!!                       1\n",
       "Emergency cc loan                                  1\n",
       "Diago-Loan                                         1\n",
       "To assist in debt reduction                        1\n",
       "Refinance of Timeshare                             1\n",
       "con debt                                           1\n",
       "2011-Help                                          1\n",
       "A HAND UP                                          1\n",
       "jap                                                1\n",
       "RC51                                               1\n",
       "3 year itch                                        1\n",
       "2010 purchase plan                                 1\n",
       "Home addition 2011                                 1\n",
       "new transmission                                   1\n",
       "Make Our House Look Great                          1\n",
       "Hpme rescue                                        1\n",
       "Debt Consolidation II                              1\n",
       "chris' debt consolidate                            1\n",
       "JP Livonia                                         1\n",
       "Personal Loan Refi                                 1\n",
       "Dental, Tuition and Debt                           1\n",
       "Alot of Stupid                                     1\n",
       "outta debt soon                                    1\n",
       "Kerry's Loan                                       1\n",
       "MDJC2011                                           1\n",
       "FurloughLoan                                       1\n",
       "Rework loan                                        1\n",
       "greatway2go                                        1\n",
       "JP's Hassel                                        1\n",
       "payoffthecards                                     1\n",
       "Makeover                                           1\n",
       "Hawaii                                             1\n",
       "Loan90                                             1\n",
       "Taking Control of My Future                        1\n",
       "Refi Madness                                       1\n",
       "Loan Cosolidation                                  1\n",
       "wheels                                             1\n",
       "Business startup                                   1\n",
       "Tinei                                              1\n",
       "Purchase land                                      1\n",
       "Finish debt consolidation                          1\n",
       "ALLTHATNFANCYTOO                                   1\n",
       "Swimmimg Pool Upgrade                              1\n",
       "Startup Working Capital                            1\n",
       "Debt Restructuring                                 1\n",
       "Winning Loan                                       1\n",
       "my personal consolidation loan                     1\n",
       "Credit Card Debt Restructuring                     1\n",
       "On Track Loan                                      1\n",
       "Zmc debt consolidation                             1\n",
       "Pay off Credit Cards with high APR                 1\n",
       "cc debt consolidation                              1\n",
       "Education loan for Masters                         1\n",
       "Payout                                             1\n",
       "Celeste Loan                                       1\n",
       "payoff/close out credit card                       1\n",
       "chas                                               1\n",
       "Muffet                                             1\n",
       "LendingClubPersonal                                1\n",
       "need a loan to buy my first motorcycle             1\n",
       "OoohLaLa OUt of debt                               1\n",
       "Live to Serve                                      1\n",
       "Awesome credit                                     1\n",
       "Pay of Credit Cards                                1\n",
       "Coffee Shop on busy Seattle Street                 1\n",
       "For My Vacation                                    1\n",
       "Would like to lower interest rate                  1\n",
       "msg                                                1\n",
       "Lower Interest & Pay off faster single c           1\n",
       "I owe                                              1\n",
       "35k                                                1\n",
       "Consolidating loans with baby on the way           1\n",
       "Payinf off credit cards                            1\n",
       "getting free                                       1\n",
       "Parker's Car                                       1\n",
       "Wells                                              1\n",
       "Twinkie                                            1\n",
       "beginning classes loan                             1\n",
       "Wedding and Debt                                   1\n",
       "credit card re-fi                                  1\n",
       "Ending Sisyphus's Curse                            1\n",
       "Florida Vacation 2011                              1\n",
       "out of debt?                                       1\n",
       "free and clear from credit card balances           1\n",
       "Mobile App Development Business                    1\n",
       "CarVolvo                                           1\n",
       "Need to Sleep Again                                1\n",
       "capital one payoff                                 1\n",
       "Staci's bill pay off loan                          1\n",
       "Can You Help a Sister Out                          1\n",
       "Home Improvement 09                                1\n",
       "JAL Loan                                           1\n",
       "boat money                                         1\n",
       "LeafLoan                                           1\n",
       "My Home Improvement Personal                       1\n",
       "Personal Loan (Not School Related)                 1\n",
       "Home stuff                                         1\n",
       "Payoff. Live Better                                1\n",
       "My Cessna Airplane Needs Engine Overhaul           1\n",
       "Car Loan and Debt Consolidation                    1\n",
       "vacation/bill consolidate loan                     1\n",
       "Motorcycle purchase                                1\n",
       "A new start                                        1\n",
       "Property Rehab                                     1\n",
       "Chase-Citi-Dell-Apple-Exxon                        1\n",
       "Consolidating debt for extra $$ for new baby       1\n",
       "Satin Black R6                                     1\n",
       "Re-Lending to others                               1\n",
       "investments                                        1\n",
       "Retire CC Debt                                     1\n",
       "car payoff                                         1\n",
       "My first born's wedding!                           1\n",
       "I hate Credit Cards!                               1\n",
       "Credit Card Reginance                              1\n",
       "K. Rupert Basement                                 1\n",
       "work                                               1\n",
       "Small Business Expanding                           1\n",
       "my plan for future                                 1\n",
       "Loan request 1                                     1\n",
       "Robert's Car                                       1\n",
       "Moving for a New Job                               1\n",
       "DebtPayoff                                         1\n",
       "Dougs Wedding Loan                                 1\n",
       "Dental loan                                        1\n",
       "Debt Loan Mickey                                   1\n",
       "UK debt                                            1\n",
       "pedro                                              1\n",
       "Pago BOA World Points                              1\n",
       "Retainer to get escrow disbursed                   1\n",
       "Consolidate debt and replace appliances            1\n",
       "Loan to consolidated debt                          1\n",
       "Consolidate debts to one payment                   1\n",
       "Help me consolidate - win win 4 us both            1\n",
       "the fast loan                                      1\n",
       "Paying it back                                     1\n",
       "Get Debt Free                                      1\n",
       "For a major purchase                               1\n",
       "Servers                                            1\n",
       "Debt Be Gone 2                                     1\n",
       "D's wedding expenses                               1\n",
       "2011 Resolutions                                   1\n",
       "Pay off High Interest Cards                        1\n",
       "fix my house                                       1\n",
       "College Tuition for my Son                         1\n",
       "10k_debt_free                                      1\n",
       "Small Business Investment                          1\n",
       "China Vacation                                     1\n",
       "Loan to help start our future together..           1\n",
       "debt  console                                      1\n",
       "Toyota Tacoma                                      1\n",
       "Wedding 8/12/12                                    1\n",
       "Caitlin's Loan                                     1\n",
       "startup                                            1\n",
       "BOAT PURCHASE                                      1\n",
       "Start-up Business, Yoga Center                     1\n",
       ">>>>>>MONEY<<<<<<<<<                               1\n",
       "ktm                                                1\n",
       "liability                                          1\n",
       "Sarah's Debt Consolidation                         1\n",
       "James-debt consolidation                           1\n",
       "Loan to consolidate bills and move on.             1\n",
       "Nissan                                             1\n",
       "New car for deliveries                             1\n",
       "FOR PERSONAL                                       1\n",
       "Getting married and want to pay off debt           1\n",
       "Burning off fat.. and debt                         1\n",
       "Barbara                                            1\n",
       "CC Debt Consolidation Caper                        1\n",
       "Corvette 95                                        1\n",
       "my fast loan                                       1\n",
       "2008 Ducati Hypermotard                            1\n",
       "Army Soldier looking for loan                      1\n",
       "advertising funding                                1\n",
       "I'm getting MCSA Certification                     1\n",
       "bring my wife home                                 1\n",
       "personal home loan                                 1\n",
       "credit cards pay-off                               1\n",
       "getting out of debt                                1\n",
       "Credit Card refinance...                           1\n",
       "Harvard!                                           1\n",
       "2011 dcl                                           1\n",
       "Freedom10                                          1\n",
       "Lowering Rate Debt Consolidation                   1\n",
       "capital for new restaurant                         1\n",
       "Requesting loan to consolidate debt                1\n",
       "School and Expenses While Working                  1\n",
       "Entrepreneurial Funding                            1\n",
       "Forsa                                              1\n",
       "Debt Consolidation + Funeral Expenses              1\n",
       "Name: title, Length: 19615, dtype: int64"
      ]
     },
     "execution_count": 9,
     "metadata": {},
     "output_type": "execute_result"
    },
    {
     "data": {
      "application/javascript": [
       "\n",
       "            setTimeout(function() {\n",
       "                var nbb_cell_id = 9;\n",
       "                var nbb_formatted_code = \"loan_df_clean[\\\"title\\\"].value_counts()\";\n",
       "                var nbb_cells = Jupyter.notebook.get_cells();\n",
       "                for (var i = 0; i < nbb_cells.length; ++i) {\n",
       "                    if (nbb_cells[i].input_prompt_number == nbb_cell_id) {\n",
       "                        nbb_cells[i].set_text(nbb_formatted_code);\n",
       "                        break;\n",
       "                    }\n",
       "                }\n",
       "            }, 500);\n",
       "            "
      ],
      "text/plain": [
       "<IPython.core.display.Javascript object>"
      ]
     },
     "metadata": {},
     "output_type": "display_data"
    }
   ],
   "source": [
    "loan_df_clean[\"title\"].value_counts()"
   ]
  },
  {
   "cell_type": "code",
   "execution_count": 10,
   "metadata": {},
   "outputs": [
    {
     "data": {
      "text/html": [
       "<div>\n",
       "<style scoped>\n",
       "    .dataframe tbody tr th:only-of-type {\n",
       "        vertical-align: middle;\n",
       "    }\n",
       "\n",
       "    .dataframe tbody tr th {\n",
       "        vertical-align: top;\n",
       "    }\n",
       "\n",
       "    .dataframe thead th {\n",
       "        text-align: right;\n",
       "    }\n",
       "</style>\n",
       "<table border=\"1\" class=\"dataframe\">\n",
       "  <thead>\n",
       "    <tr style=\"text-align: right;\">\n",
       "      <th></th>\n",
       "      <th>loan_amnt</th>\n",
       "      <th>funded_amnt</th>\n",
       "      <th>funded_amnt_inv</th>\n",
       "      <th>term</th>\n",
       "      <th>int_rate</th>\n",
       "      <th>installment</th>\n",
       "      <th>grade</th>\n",
       "      <th>sub_grade</th>\n",
       "      <th>emp_title</th>\n",
       "      <th>emp_length</th>\n",
       "      <th>home_ownership</th>\n",
       "      <th>annual_inc</th>\n",
       "      <th>verification_status</th>\n",
       "      <th>issue_d</th>\n",
       "      <th>loan_status</th>\n",
       "      <th>purpose</th>\n",
       "      <th>title</th>\n",
       "      <th>dti</th>\n",
       "      <th>delinq_2yrs</th>\n",
       "      <th>inq_last_6mths</th>\n",
       "      <th>open_acc</th>\n",
       "      <th>pub_rec</th>\n",
       "      <th>revol_bal</th>\n",
       "      <th>revol_util</th>\n",
       "      <th>total_acc</th>\n",
       "      <th>out_prncp</th>\n",
       "      <th>out_prncp_inv</th>\n",
       "      <th>total_pymnt</th>\n",
       "      <th>total_pymnt_inv</th>\n",
       "      <th>total_rec_prncp</th>\n",
       "      <th>total_rec_int</th>\n",
       "      <th>total_rec_late_fee</th>\n",
       "      <th>recoveries</th>\n",
       "      <th>collection_recovery_fee</th>\n",
       "      <th>last_pymnt_amnt</th>\n",
       "      <th>last_credit_pull_d</th>\n",
       "      <th>pub_rec_bankruptcies</th>\n",
       "    </tr>\n",
       "  </thead>\n",
       "  <tbody>\n",
       "    <tr>\n",
       "      <th>0</th>\n",
       "      <td>5000</td>\n",
       "      <td>5000</td>\n",
       "      <td>4975.000</td>\n",
       "      <td>36 months</td>\n",
       "      <td>10.65%</td>\n",
       "      <td>162.870</td>\n",
       "      <td>B</td>\n",
       "      <td>B2</td>\n",
       "      <td>NaN</td>\n",
       "      <td>10+ years</td>\n",
       "      <td>RENT</td>\n",
       "      <td>24000.000</td>\n",
       "      <td>Verified</td>\n",
       "      <td>Dec-11</td>\n",
       "      <td>Fully Paid</td>\n",
       "      <td>credit_card</td>\n",
       "      <td>Computer</td>\n",
       "      <td>27.650</td>\n",
       "      <td>0</td>\n",
       "      <td>1</td>\n",
       "      <td>3</td>\n",
       "      <td>0</td>\n",
       "      <td>13648</td>\n",
       "      <td>83.70%</td>\n",
       "      <td>9</td>\n",
       "      <td>0.000</td>\n",
       "      <td>0.000</td>\n",
       "      <td>5863.155</td>\n",
       "      <td>5833.840</td>\n",
       "      <td>5000.000</td>\n",
       "      <td>863.160</td>\n",
       "      <td>0.000</td>\n",
       "      <td>0.000</td>\n",
       "      <td>0.000</td>\n",
       "      <td>171.620</td>\n",
       "      <td>May-16</td>\n",
       "      <td>0.000</td>\n",
       "    </tr>\n",
       "    <tr>\n",
       "      <th>1</th>\n",
       "      <td>2500</td>\n",
       "      <td>2500</td>\n",
       "      <td>2500.000</td>\n",
       "      <td>60 months</td>\n",
       "      <td>15.27%</td>\n",
       "      <td>59.830</td>\n",
       "      <td>C</td>\n",
       "      <td>C4</td>\n",
       "      <td>Ryder</td>\n",
       "      <td>&lt; 1 year</td>\n",
       "      <td>RENT</td>\n",
       "      <td>30000.000</td>\n",
       "      <td>Source Verified</td>\n",
       "      <td>Dec-11</td>\n",
       "      <td>Charged Off</td>\n",
       "      <td>car</td>\n",
       "      <td>bike</td>\n",
       "      <td>1.000</td>\n",
       "      <td>0</td>\n",
       "      <td>5</td>\n",
       "      <td>3</td>\n",
       "      <td>0</td>\n",
       "      <td>1687</td>\n",
       "      <td>9.40%</td>\n",
       "      <td>4</td>\n",
       "      <td>0.000</td>\n",
       "      <td>0.000</td>\n",
       "      <td>1008.710</td>\n",
       "      <td>1008.710</td>\n",
       "      <td>456.460</td>\n",
       "      <td>435.170</td>\n",
       "      <td>0.000</td>\n",
       "      <td>117.080</td>\n",
       "      <td>1.110</td>\n",
       "      <td>119.660</td>\n",
       "      <td>Sep-13</td>\n",
       "      <td>0.000</td>\n",
       "    </tr>\n",
       "    <tr>\n",
       "      <th>2</th>\n",
       "      <td>2400</td>\n",
       "      <td>2400</td>\n",
       "      <td>2400.000</td>\n",
       "      <td>36 months</td>\n",
       "      <td>15.96%</td>\n",
       "      <td>84.330</td>\n",
       "      <td>C</td>\n",
       "      <td>C5</td>\n",
       "      <td>NaN</td>\n",
       "      <td>10+ years</td>\n",
       "      <td>RENT</td>\n",
       "      <td>12252.000</td>\n",
       "      <td>Not Verified</td>\n",
       "      <td>Dec-11</td>\n",
       "      <td>Fully Paid</td>\n",
       "      <td>small_business</td>\n",
       "      <td>real estate business</td>\n",
       "      <td>8.720</td>\n",
       "      <td>0</td>\n",
       "      <td>2</td>\n",
       "      <td>2</td>\n",
       "      <td>0</td>\n",
       "      <td>2956</td>\n",
       "      <td>98.50%</td>\n",
       "      <td>10</td>\n",
       "      <td>0.000</td>\n",
       "      <td>0.000</td>\n",
       "      <td>3005.667</td>\n",
       "      <td>3005.670</td>\n",
       "      <td>2400.000</td>\n",
       "      <td>605.670</td>\n",
       "      <td>0.000</td>\n",
       "      <td>0.000</td>\n",
       "      <td>0.000</td>\n",
       "      <td>649.910</td>\n",
       "      <td>May-16</td>\n",
       "      <td>0.000</td>\n",
       "    </tr>\n",
       "    <tr>\n",
       "      <th>3</th>\n",
       "      <td>10000</td>\n",
       "      <td>10000</td>\n",
       "      <td>10000.000</td>\n",
       "      <td>36 months</td>\n",
       "      <td>13.49%</td>\n",
       "      <td>339.310</td>\n",
       "      <td>C</td>\n",
       "      <td>C1</td>\n",
       "      <td>AIR RESOURCES BOARD</td>\n",
       "      <td>10+ years</td>\n",
       "      <td>RENT</td>\n",
       "      <td>49200.000</td>\n",
       "      <td>Source Verified</td>\n",
       "      <td>Dec-11</td>\n",
       "      <td>Fully Paid</td>\n",
       "      <td>other</td>\n",
       "      <td>personel</td>\n",
       "      <td>20.000</td>\n",
       "      <td>0</td>\n",
       "      <td>1</td>\n",
       "      <td>10</td>\n",
       "      <td>0</td>\n",
       "      <td>5598</td>\n",
       "      <td>21%</td>\n",
       "      <td>37</td>\n",
       "      <td>0.000</td>\n",
       "      <td>0.000</td>\n",
       "      <td>12231.890</td>\n",
       "      <td>12231.890</td>\n",
       "      <td>10000.000</td>\n",
       "      <td>2214.920</td>\n",
       "      <td>16.970</td>\n",
       "      <td>0.000</td>\n",
       "      <td>0.000</td>\n",
       "      <td>357.480</td>\n",
       "      <td>Apr-16</td>\n",
       "      <td>0.000</td>\n",
       "    </tr>\n",
       "    <tr>\n",
       "      <th>4</th>\n",
       "      <td>3000</td>\n",
       "      <td>3000</td>\n",
       "      <td>3000.000</td>\n",
       "      <td>60 months</td>\n",
       "      <td>12.69%</td>\n",
       "      <td>67.790</td>\n",
       "      <td>B</td>\n",
       "      <td>B5</td>\n",
       "      <td>University Medical Group</td>\n",
       "      <td>1 year</td>\n",
       "      <td>RENT</td>\n",
       "      <td>80000.000</td>\n",
       "      <td>Source Verified</td>\n",
       "      <td>Dec-11</td>\n",
       "      <td>Current</td>\n",
       "      <td>other</td>\n",
       "      <td>Personal</td>\n",
       "      <td>17.940</td>\n",
       "      <td>0</td>\n",
       "      <td>0</td>\n",
       "      <td>15</td>\n",
       "      <td>0</td>\n",
       "      <td>27783</td>\n",
       "      <td>53.90%</td>\n",
       "      <td>38</td>\n",
       "      <td>524.060</td>\n",
       "      <td>524.060</td>\n",
       "      <td>3513.330</td>\n",
       "      <td>3513.330</td>\n",
       "      <td>2475.940</td>\n",
       "      <td>1037.390</td>\n",
       "      <td>0.000</td>\n",
       "      <td>0.000</td>\n",
       "      <td>0.000</td>\n",
       "      <td>67.790</td>\n",
       "      <td>May-16</td>\n",
       "      <td>0.000</td>\n",
       "    </tr>\n",
       "  </tbody>\n",
       "</table>\n",
       "</div>"
      ],
      "text/plain": [
       "   loan_amnt  funded_amnt  funded_amnt_inv        term int_rate  installment  \\\n",
       "0       5000         5000         4975.000   36 months   10.65%      162.870   \n",
       "1       2500         2500         2500.000   60 months   15.27%       59.830   \n",
       "2       2400         2400         2400.000   36 months   15.96%       84.330   \n",
       "3      10000        10000        10000.000   36 months   13.49%      339.310   \n",
       "4       3000         3000         3000.000   60 months   12.69%       67.790   \n",
       "\n",
       "  grade sub_grade                 emp_title emp_length home_ownership  \\\n",
       "0     B        B2                       NaN  10+ years           RENT   \n",
       "1     C        C4                     Ryder   < 1 year           RENT   \n",
       "2     C        C5                       NaN  10+ years           RENT   \n",
       "3     C        C1       AIR RESOURCES BOARD  10+ years           RENT   \n",
       "4     B        B5  University Medical Group     1 year           RENT   \n",
       "\n",
       "   annual_inc verification_status issue_d  loan_status         purpose  \\\n",
       "0   24000.000            Verified  Dec-11   Fully Paid     credit_card   \n",
       "1   30000.000     Source Verified  Dec-11  Charged Off             car   \n",
       "2   12252.000        Not Verified  Dec-11   Fully Paid  small_business   \n",
       "3   49200.000     Source Verified  Dec-11   Fully Paid           other   \n",
       "4   80000.000     Source Verified  Dec-11      Current           other   \n",
       "\n",
       "                  title    dti  delinq_2yrs  inq_last_6mths  open_acc  \\\n",
       "0              Computer 27.650            0               1         3   \n",
       "1                  bike  1.000            0               5         3   \n",
       "2  real estate business  8.720            0               2         2   \n",
       "3              personel 20.000            0               1        10   \n",
       "4              Personal 17.940            0               0        15   \n",
       "\n",
       "   pub_rec  revol_bal revol_util  total_acc  out_prncp  out_prncp_inv  \\\n",
       "0        0      13648     83.70%          9      0.000          0.000   \n",
       "1        0       1687      9.40%          4      0.000          0.000   \n",
       "2        0       2956     98.50%         10      0.000          0.000   \n",
       "3        0       5598        21%         37      0.000          0.000   \n",
       "4        0      27783     53.90%         38    524.060        524.060   \n",
       "\n",
       "   total_pymnt  total_pymnt_inv  total_rec_prncp  total_rec_int  \\\n",
       "0     5863.155         5833.840         5000.000        863.160   \n",
       "1     1008.710         1008.710          456.460        435.170   \n",
       "2     3005.667         3005.670         2400.000        605.670   \n",
       "3    12231.890        12231.890        10000.000       2214.920   \n",
       "4     3513.330         3513.330         2475.940       1037.390   \n",
       "\n",
       "   total_rec_late_fee  recoveries  collection_recovery_fee  last_pymnt_amnt  \\\n",
       "0               0.000       0.000                    0.000          171.620   \n",
       "1               0.000     117.080                    1.110          119.660   \n",
       "2               0.000       0.000                    0.000          649.910   \n",
       "3              16.970       0.000                    0.000          357.480   \n",
       "4               0.000       0.000                    0.000           67.790   \n",
       "\n",
       "  last_credit_pull_d  pub_rec_bankruptcies  \n",
       "0             May-16                 0.000  \n",
       "1             Sep-13                 0.000  \n",
       "2             May-16                 0.000  \n",
       "3             Apr-16                 0.000  \n",
       "4             May-16                 0.000  "
      ]
     },
     "execution_count": 10,
     "metadata": {},
     "output_type": "execute_result"
    },
    {
     "data": {
      "application/javascript": [
       "\n",
       "            setTimeout(function() {\n",
       "                var nbb_cell_id = 10;\n",
       "                var nbb_formatted_code = \"# Drop the Columns that will not be required for analysis\\n\\ncolumns = [\\n    \\\"zip_code\\\",\\n    \\\"pymnt_plan\\\",\\n    \\\"url\\\",\\n    \\\"addr_state\\\",\\n    \\\"earliest_cr_line\\\",\\n    \\\"initial_list_status\\\",\\n    \\\"last_pymnt_d\\\",\\n    \\\"collections_12_mths_ex_med\\\",\\n    \\\"policy_code\\\",\\n    \\\"application_type\\\",\\n    \\\"acc_now_delinq\\\",\\n    \\\"chargeoff_within_12_mths\\\",\\n    \\\"delinq_amnt\\\",\\n    \\\"tax_liens\\\",\\n    \\\"member_id\\\",\\n    \\\"id\\\",\\n]\\n\\nfor column in columns:\\n    if column in loan_df_clean.columns.tolist():\\n        loan_df_clean = loan_df_clean.drop(column, axis=1)\\n\\nloan_df_clean.head()\";\n",
       "                var nbb_cells = Jupyter.notebook.get_cells();\n",
       "                for (var i = 0; i < nbb_cells.length; ++i) {\n",
       "                    if (nbb_cells[i].input_prompt_number == nbb_cell_id) {\n",
       "                        nbb_cells[i].set_text(nbb_formatted_code);\n",
       "                        break;\n",
       "                    }\n",
       "                }\n",
       "            }, 500);\n",
       "            "
      ],
      "text/plain": [
       "<IPython.core.display.Javascript object>"
      ]
     },
     "metadata": {},
     "output_type": "display_data"
    }
   ],
   "source": [
    "# Drop the Columns that will not be required for analysis\n",
    "\n",
    "columns = [\n",
    "    \"zip_code\",\n",
    "    \"pymnt_plan\",\n",
    "    \"url\",\n",
    "    \"addr_state\",\n",
    "    \"earliest_cr_line\",\n",
    "    \"initial_list_status\",\n",
    "    \"last_pymnt_d\",\n",
    "    \"collections_12_mths_ex_med\",\n",
    "    \"policy_code\",\n",
    "    \"application_type\",\n",
    "    \"acc_now_delinq\",\n",
    "    \"chargeoff_within_12_mths\",\n",
    "    \"delinq_amnt\",\n",
    "    \"tax_liens\",\n",
    "    \"member_id\",\n",
    "    \"id\",\n",
    "]\n",
    "\n",
    "for column in columns:\n",
    "    if column in loan_df_clean.columns.tolist():\n",
    "        loan_df_clean = loan_df_clean.drop(column, axis=1)\n",
    "\n",
    "loan_df_clean.head()"
   ]
  },
  {
   "cell_type": "code",
   "execution_count": null,
   "metadata": {},
   "outputs": [],
   "source": []
  },
  {
   "cell_type": "code",
   "execution_count": 11,
   "metadata": {
    "scrolled": true
   },
   "outputs": [
    {
     "name": "stdout",
     "output_type": "stream",
     "text": [
      "column : funded_amnt\n",
      "[ 5000  2500  2400 ...   800 13875 22350]\n",
      "\n",
      "column : funded_amnt_inv\n",
      "[4975. 2500. 2400. ...  200.   75.  150.]\n",
      "\n",
      "column : term\n",
      "[' 36 months' ' 60 months']\n",
      "\n",
      "column : int_rate\n",
      "['10.65%' '15.27%' '15.96%' '13.49%' '12.69%' '7.90%' '18.64%' '21.28%'\n",
      " '14.65%' '9.91%' '16.29%' '6.03%' '11.71%' '12.42%' '14.27%' '16.77%'\n",
      " '7.51%' '8.90%' '18.25%' '6.62%' '19.91%' '17.27%' '17.58%' '21.67%'\n",
      " '19.42%' '22.06%' '20.89%' '20.30%' '23.91%' '19.03%' '23.52%' '23.13%'\n",
      " '22.74%' '22.35%' '24.11%' '6.00%' '22.11%' '7.49%' '11.99%' '5.99%'\n",
      " '10.99%' '9.99%' '18.79%' '11.49%' '8.49%' '15.99%' '16.49%' '6.99%'\n",
      " '12.99%' '15.23%' '14.79%' '5.42%' '10.59%' '17.49%' '15.62%' '21.36%'\n",
      " '19.29%' '13.99%' '18.39%' '16.89%' '17.99%' '20.62%' '20.99%' '22.85%'\n",
      " '19.69%' '20.25%' '23.22%' '21.74%' '22.48%' '23.59%' '12.62%' '18.07%'\n",
      " '11.63%' '7.91%' '7.42%' '11.14%' '20.20%' '12.12%' '19.39%' '16.11%'\n",
      " '17.54%' '22.64%' '13.84%' '16.59%' '17.19%' '12.87%' '20.69%' '9.67%'\n",
      " '21.82%' '19.79%' '18.49%' '22.94%' '24.59%' '24.40%' '21.48%' '14.82%'\n",
      " '14.17%' '7.29%' '17.88%' '20.11%' '16.02%' '17.51%' '13.43%' '14.91%'\n",
      " '13.06%' '15.28%' '15.65%' '17.14%' '11.11%' '10.37%' '16.40%' '7.66%'\n",
      " '10.00%' '18.62%' '10.74%' '5.79%' '6.92%' '9.63%' '14.54%' '12.68%'\n",
      " '19.36%' '13.80%' '18.99%' '21.59%' '20.85%' '21.22%' '19.74%' '20.48%'\n",
      " '6.91%' '12.23%' '12.61%' '10.36%' '6.17%' '6.54%' '9.25%' '16.69%'\n",
      " '15.95%' '8.88%' '13.35%' '9.62%' '16.32%' '12.98%' '14.83%' '13.72%'\n",
      " '14.09%' '14.46%' '20.03%' '17.80%' '15.20%' '15.57%' '18.54%' '19.66%'\n",
      " '17.06%' '18.17%' '17.43%' '20.40%' '20.77%' '18.91%' '21.14%' '17.44%'\n",
      " '13.23%' '7.88%' '11.12%' '13.61%' '10.38%' '17.56%' '17.93%' '15.58%'\n",
      " '13.98%' '14.84%' '15.21%' '6.76%' '6.39%' '11.86%' '7.14%' '14.35%'\n",
      " '16.82%' '10.75%' '14.72%' '16.45%' '18.67%' '20.53%' '19.41%' '20.16%'\n",
      " '21.27%' '18.30%' '19.04%' '20.90%' '21.64%' '12.73%' '10.25%' '13.11%'\n",
      " '10.62%' '13.48%' '14.59%' '16.07%' '15.70%' '9.88%' '11.36%' '15.33%'\n",
      " '13.85%' '14.96%' '14.22%' '7.74%' '13.22%' '13.57%' '8.59%' '17.04%'\n",
      " '14.61%' '8.94%' '12.18%' '11.83%' '11.48%' '16.35%' '13.92%' '15.31%'\n",
      " '14.26%' '19.13%' '12.53%' '16.70%' '16.00%' '17.39%' '18.09%' '7.40%'\n",
      " '18.43%' '17.74%' '7.05%' '20.52%' '20.86%' '19.47%' '18.78%' '21.21%'\n",
      " '19.82%' '20.17%' '13.16%' '8.00%' '13.47%' '12.21%' '16.63%' '9.32%'\n",
      " '12.84%' '11.26%' '15.68%' '15.37%' '10.95%' '11.89%' '14.11%' '13.79%'\n",
      " '7.68%' '11.58%' '7.37%' '16.95%' '15.05%' '18.53%' '14.74%' '14.42%'\n",
      " '18.21%' '17.26%' '18.84%' '17.90%' '19.16%' '13.67%' '9.38%' '12.72%'\n",
      " '13.36%' '11.46%' '10.51%' '9.07%' '13.04%' '11.78%' '12.41%' '10.83%'\n",
      " '12.09%' '17.46%' '14.30%' '17.15%' '15.25%' '10.20%' '15.88%' '14.93%'\n",
      " '16.20%' '18.72%' '14.62%' '8.32%' '14.12%' '10.96%' '10.33%' '10.01%'\n",
      " '12.86%' '11.28%' '11.59%' '8.63%' '12.54%' '12.22%' '11.91%' '15.38%'\n",
      " '16.96%' '13.17%' '9.70%' '16.33%' '14.75%' '15.07%' '16.01%' '10.71%'\n",
      " '10.64%' '9.76%' '11.34%' '10.39%' '13.87%' '11.03%' '11.66%' '13.24%'\n",
      " '10.08%' '9.45%' '13.55%' '12.29%' '11.97%' '12.92%' '15.45%' '14.50%'\n",
      " '14.18%' '15.13%' '16.08%' '15.76%' '17.03%' '17.34%' '16.71%' '9.83%'\n",
      " '13.62%' '10.46%' '9.51%' '9.20%' '13.30%' '10.78%' '7.75%' '8.38%'\n",
      " '12.36%' '12.67%' '11.72%' '13.93%' '8.07%' '7.43%' '12.04%' '14.25%'\n",
      " '14.88%' '11.41%' '11.09%' '10.14%' '16.15%' '15.83%' '7.12%' '18.36%'\n",
      " '9.64%' '9.96%' '11.22%' '9.01%' '9.33%' '11.54%' '12.17%' '12.80%'\n",
      " '14.38%' '13.75%' '14.70%' '12.49%' '14.07%' '10.91%' '13.12%' '10.28%'\n",
      " '8.70%' '14.67%' '15.01%']\n",
      "\n",
      "column : installment\n",
      "[162.87  59.83  84.33 ...  78.42 275.38 255.43]\n",
      "\n",
      "column : grade\n",
      "['B' 'C' 'A' 'E' 'F' 'D' 'G']\n",
      "\n",
      "column : sub_grade\n",
      "['B2' 'C4' 'C5' 'C1' 'B5' 'A4' 'E1' 'F2' 'C3' 'B1' 'D1' 'A1' 'B3' 'B4'\n",
      " 'C2' 'D2' 'A3' 'A5' 'D5' 'A2' 'E4' 'D3' 'D4' 'F3' 'E3' 'F4' 'F1' 'E5'\n",
      " 'G4' 'E2' 'G3' 'G2' 'G1' 'F5' 'G5']\n",
      "\n",
      "column : emp_title\n",
      "[nan 'Ryder' 'AIR RESOURCES BOARD' ... 'FiSite Research'\n",
      " 'Squarewave Solutions, Ltd.' 'Evergreen Center']\n",
      "\n",
      "column : emp_length\n",
      "['10+ years' '< 1 year' '1 year' '3 years' '8 years' '9 years' '4 years'\n",
      " '5 years' '6 years' '2 years' '7 years' nan]\n",
      "\n",
      "column : home_ownership\n",
      "['RENT' 'OWN' 'MORTGAGE' 'OTHER' 'NONE']\n",
      "\n",
      "column : annual_inc\n",
      "[24000. 30000. 12252. ... 33990. 36153. 27376.]\n",
      "\n",
      "column : verification_status\n",
      "['Verified' 'Source Verified' 'Not Verified']\n",
      "\n",
      "column : issue_d\n",
      "['Dec-11' 'Nov-11' 'Oct-11' 'Sep-11' 'Aug-11' 'Jul-11' 'Jun-11' 'May-11'\n",
      " 'Apr-11' 'Mar-11' 'Feb-11' 'Jan-11' 'Dec-10' 'Nov-10' 'Oct-10' 'Sep-10'\n",
      " 'Aug-10' 'Jul-10' 'Jun-10' 'May-10' 'Apr-10' 'Mar-10' 'Feb-10' 'Jan-10'\n",
      " 'Dec-09' 'Nov-09' 'Oct-09' 'Sep-09' 'Aug-09' 'Jul-09' 'Jun-09' 'May-09'\n",
      " 'Apr-09' 'Mar-09' 'Feb-09' 'Jan-09' 'Dec-08' 'Nov-08' 'Oct-08' 'Sep-08'\n",
      " 'Aug-08' 'Jul-08' 'Jun-08' 'May-08' 'Apr-08' 'Mar-08' 'Feb-08' 'Jan-08'\n",
      " 'Dec-07' 'Nov-07' 'Oct-07' 'Sep-07' 'Aug-07' 'Jul-07' 'Jun-07']\n",
      "\n",
      "column : loan_status\n",
      "['Fully Paid' 'Charged Off' 'Current']\n",
      "\n",
      "column : purpose\n",
      "['credit_card' 'car' 'small_business' 'other' 'wedding'\n",
      " 'debt_consolidation' 'home_improvement' 'major_purchase' 'medical'\n",
      " 'moving' 'vacation' 'house' 'renewable_energy' 'educational']\n",
      "\n",
      "column : title\n",
      "['Computer' 'bike' 'real estate business' ... 'Retiring credit card debt'\n",
      " 'MBA Loan Consolidation' 'JAL Loan']\n",
      "\n",
      "column : dti\n",
      "[27.65  1.    8.72 ...  1.79  0.12 25.43]\n",
      "\n",
      "column : delinq_2yrs\n",
      "[ 0  2  3  1  4  6  5  8  7  9 11]\n",
      "\n",
      "column : inq_last_6mths\n",
      "[1 5 2 0 3 4 6 7 8]\n",
      "\n",
      "column : open_acc\n",
      "[ 3  2 10 15  9  7  4 11 14 12 20  8  6 17  5 13 16 30 21 18 19 27 23 34\n",
      " 25 22 24 26 32 28 29 33 31 39 35 36 38 44 41 42]\n",
      "\n",
      "column : pub_rec\n",
      "[0 1 2 3 4]\n",
      "\n",
      "column : revol_bal\n",
      "[13648  1687  2956 ... 27185 66033 85607]\n",
      "\n",
      "column : revol_util\n",
      "['83.70%' '9.40%' '98.50%' ... '49.63%' '0.04%' '7.28%']\n",
      "\n",
      "column : total_acc\n",
      "[ 9  4 10 37 38 12 11 13  3 23 34 29 28 42 14 22 21 17  7 31 44 26 16  6\n",
      " 18 27 24 25 40 35  8 20 15 19 36 51 32 30 33 46  5 61 56 50 41 39 79 62\n",
      " 43 47 53 45 60 55 52 58 54 57 49 63 48 59 77 87 75 72 64 67 78 76 74 66\n",
      " 81 90 80 71 69 73 70 68 65  2]\n",
      "\n",
      "column : out_prncp\n",
      "[   0.    524.06 1849.1  ...   19.12   13.28   79.24]\n",
      "\n",
      "column : out_prncp_inv\n",
      "[   0.    524.06 1844.43 ...   19.09   13.28   79.24]\n",
      "\n",
      "column : total_pymnt\n",
      "[5863.155187 1008.71     3005.666844 ... 5272.161128 5174.198551\n",
      " 9195.263334]\n",
      "\n",
      "column : total_pymnt_inv\n",
      "[5833.84 1008.71 3005.67 ... 1397.12  672.66  980.83]\n",
      "\n",
      "column : total_rec_prncp\n",
      "[ 5000.     456.46  2400.   ...  2886.21   544.02 16077.42]\n",
      "\n",
      "column : total_rec_int\n",
      "[ 863.16  435.17  605.67 ... 1413.49  174.2  1695.26]\n",
      "\n",
      "column : total_rec_late_fee\n",
      "[ 0.         16.97       15.00000003 ...  1.69        1.36\n",
      " 19.89      ]\n",
      "\n",
      "column : recoveries\n",
      "[  0.   117.08 189.06 ... 304.2   35.7   21.29]\n",
      "\n",
      "column : collection_recovery_fee\n",
      "[0.0000e+00 1.1100e+00 2.0900e+00 ... 6.6836e+02 4.4425e+02 2.3000e-01]\n",
      "\n",
      "column : last_pymnt_amnt\n",
      "[171.62 119.66 649.91 ...  80.9  281.94 256.59]\n",
      "\n",
      "column : last_credit_pull_d\n",
      "['May-16' 'Sep-13' 'Apr-16' 'Jan-16' 'Dec-14' 'Aug-12' 'Mar-13' 'Dec-15'\n",
      " 'Aug-13' 'Nov-12' 'Mar-14' 'Apr-15' 'May-14' 'Jul-15' 'Feb-16' 'Mar-16'\n",
      " 'Sep-12' 'May-13' 'Jan-15' 'Jun-12' 'Mar-15' 'Dec-12' 'Sep-14' 'Feb-14'\n",
      " 'Jun-15' 'Oct-13' 'Apr-14' 'Oct-14' 'Feb-13' 'Nov-15' 'Jul-14' 'Sep-15'\n",
      " 'Oct-12' 'Nov-13' 'Nov-14' 'Feb-12' 'Oct-15' 'Apr-12' 'Aug-15' 'Jun-14'\n",
      " 'Jan-12' 'Aug-14' 'Jun-13' 'Dec-13' 'May-12' 'Jul-12' 'Jan-14' 'Jul-13'\n",
      " 'Apr-13' 'May-15' 'Feb-15' 'Mar-12' 'Nov-11' 'Dec-11' 'Jan-13' 'Oct-11'\n",
      " 'Sep-11' 'Aug-11' 'Jul-11' 'Jun-11' 'May-11' 'Apr-11' 'Mar-11' 'Feb-11'\n",
      " 'Jan-11' 'Dec-10' 'Nov-10' 'Oct-10' nan 'Sep-10' 'Aug-10' 'Jul-10'\n",
      " 'Jun-10' 'May-10' 'Apr-10' 'Feb-10' 'Mar-10' 'Aug-07' 'Jan-10' 'Dec-09'\n",
      " 'Nov-09' 'Oct-09' 'Sep-09' 'Jul-09' 'Aug-09' 'May-09' 'Jun-09' 'Apr-09'\n",
      " 'Mar-09' 'Feb-09' 'Jan-09' 'Dec-08' 'Jun-08' 'Sep-08' 'May-08' 'Aug-08'\n",
      " 'Mar-08' 'Oct-08' 'Feb-08' 'Jan-08' 'Dec-07' 'Jul-08' 'Oct-07' 'Sep-07'\n",
      " 'Jun-07' 'May-07' 'Jul-07']\n",
      "\n",
      "column : pub_rec_bankruptcies\n",
      "[ 0.  1.  2. nan]\n",
      "\n"
     ]
    },
    {
     "data": {
      "application/javascript": [
       "\n",
       "            setTimeout(function() {\n",
       "                var nbb_cell_id = 11;\n",
       "                var nbb_formatted_code = \"for col in loan_df_clean.columns:\\n    if col not in ([\\\"loan_amnt\\\"]):\\n        print(\\\"column : \\\" + col)\\n        print(loan_df_clean[col].unique())\\n        print(\\\"\\\")\";\n",
       "                var nbb_cells = Jupyter.notebook.get_cells();\n",
       "                for (var i = 0; i < nbb_cells.length; ++i) {\n",
       "                    if (nbb_cells[i].input_prompt_number == nbb_cell_id) {\n",
       "                        nbb_cells[i].set_text(nbb_formatted_code);\n",
       "                        break;\n",
       "                    }\n",
       "                }\n",
       "            }, 500);\n",
       "            "
      ],
      "text/plain": [
       "<IPython.core.display.Javascript object>"
      ]
     },
     "metadata": {},
     "output_type": "display_data"
    }
   ],
   "source": [
    "for col in loan_df_clean.columns:\n",
    "    if col not in ([\"loan_amnt\"]):\n",
    "        print(\"column : \" + col)\n",
    "        print(loan_df_clean[col].unique())\n",
    "        print(\"\")"
   ]
  },
  {
   "cell_type": "markdown",
   "metadata": {},
   "source": [
    "## Data Cleaning"
   ]
  },
  {
   "cell_type": "code",
   "execution_count": 12,
   "metadata": {},
   "outputs": [
    {
     "name": "stdout",
     "output_type": "stream",
     "text": [
      "loan_amnt                 0.000\n",
      "funded_amnt               0.000\n",
      "funded_amnt_inv           0.000\n",
      "term                      0.000\n",
      "int_rate                  0.000\n",
      "installment               0.000\n",
      "grade                     0.000\n",
      "sub_grade                 0.000\n",
      "emp_title                 6.190\n",
      "emp_length                2.710\n",
      "home_ownership            0.000\n",
      "annual_inc                0.000\n",
      "verification_status       0.000\n",
      "issue_d                   0.000\n",
      "loan_status               0.000\n",
      "purpose                   0.000\n",
      "title                     0.030\n",
      "dti                       0.000\n",
      "delinq_2yrs               0.000\n",
      "inq_last_6mths            0.000\n",
      "open_acc                  0.000\n",
      "pub_rec                   0.000\n",
      "revol_bal                 0.000\n",
      "revol_util                0.130\n",
      "total_acc                 0.000\n",
      "out_prncp                 0.000\n",
      "out_prncp_inv             0.000\n",
      "total_pymnt               0.000\n",
      "total_pymnt_inv           0.000\n",
      "total_rec_prncp           0.000\n",
      "total_rec_int             0.000\n",
      "total_rec_late_fee        0.000\n",
      "recoveries                0.000\n",
      "collection_recovery_fee   0.000\n",
      "last_pymnt_amnt           0.000\n",
      "last_credit_pull_d        0.010\n",
      "pub_rec_bankruptcies      1.750\n",
      "dtype: float64\n"
     ]
    },
    {
     "data": {
      "application/javascript": [
       "\n",
       "            setTimeout(function() {\n",
       "                var nbb_cell_id = 12;\n",
       "                var nbb_formatted_code = \"nullPercentage(loan_df_clean)\";\n",
       "                var nbb_cells = Jupyter.notebook.get_cells();\n",
       "                for (var i = 0; i < nbb_cells.length; ++i) {\n",
       "                    if (nbb_cells[i].input_prompt_number == nbb_cell_id) {\n",
       "                        nbb_cells[i].set_text(nbb_formatted_code);\n",
       "                        break;\n",
       "                    }\n",
       "                }\n",
       "            }, 500);\n",
       "            "
      ],
      "text/plain": [
       "<IPython.core.display.Javascript object>"
      ]
     },
     "metadata": {},
     "output_type": "display_data"
    }
   ],
   "source": [
    "nullPercentage(loan_df_clean)"
   ]
  },
  {
   "cell_type": "code",
   "execution_count": 13,
   "metadata": {
    "scrolled": false
   },
   "outputs": [
    {
     "data": {
      "application/javascript": [
       "\n",
       "            setTimeout(function() {\n",
       "                var nbb_cell_id = 13;\n",
       "                var nbb_formatted_code = \"# drop null rows\\nloan_df_clean = loan_df_clean.dropna()\";\n",
       "                var nbb_cells = Jupyter.notebook.get_cells();\n",
       "                for (var i = 0; i < nbb_cells.length; ++i) {\n",
       "                    if (nbb_cells[i].input_prompt_number == nbb_cell_id) {\n",
       "                        nbb_cells[i].set_text(nbb_formatted_code);\n",
       "                        break;\n",
       "                    }\n",
       "                }\n",
       "            }, 500);\n",
       "            "
      ],
      "text/plain": [
       "<IPython.core.display.Javascript object>"
      ]
     },
     "metadata": {},
     "output_type": "display_data"
    }
   ],
   "source": [
    "# drop null rows\n",
    "loan_df_clean = loan_df_clean.dropna()"
   ]
  },
  {
   "cell_type": "code",
   "execution_count": null,
   "metadata": {},
   "outputs": [],
   "source": []
  },
  {
   "cell_type": "markdown",
   "metadata": {},
   "source": [
    "## Data Description :"
   ]
  },
  {
   "cell_type": "code",
   "execution_count": 14,
   "metadata": {},
   "outputs": [
    {
     "name": "stdout",
     "output_type": "stream",
     "text": [
      "<class 'pandas.core.frame.DataFrame'>\n",
      "Int64Index: 36493 entries, 1 to 39680\n",
      "Data columns (total 37 columns):\n",
      "loan_amnt                  36493 non-null int64\n",
      "funded_amnt                36493 non-null int64\n",
      "funded_amnt_inv            36493 non-null float64\n",
      "term                       36493 non-null object\n",
      "int_rate                   36493 non-null object\n",
      "installment                36493 non-null float64\n",
      "grade                      36493 non-null object\n",
      "sub_grade                  36493 non-null object\n",
      "emp_title                  36493 non-null object\n",
      "emp_length                 36493 non-null object\n",
      "home_ownership             36493 non-null object\n",
      "annual_inc                 36493 non-null float64\n",
      "verification_status        36493 non-null object\n",
      "issue_d                    36493 non-null object\n",
      "loan_status                36493 non-null object\n",
      "purpose                    36493 non-null object\n",
      "title                      36493 non-null object\n",
      "dti                        36493 non-null float64\n",
      "delinq_2yrs                36493 non-null int64\n",
      "inq_last_6mths             36493 non-null int64\n",
      "open_acc                   36493 non-null int64\n",
      "pub_rec                    36493 non-null int64\n",
      "revol_bal                  36493 non-null int64\n",
      "revol_util                 36493 non-null object\n",
      "total_acc                  36493 non-null int64\n",
      "out_prncp                  36493 non-null float64\n",
      "out_prncp_inv              36493 non-null float64\n",
      "total_pymnt                36493 non-null float64\n",
      "total_pymnt_inv            36493 non-null float64\n",
      "total_rec_prncp            36493 non-null float64\n",
      "total_rec_int              36493 non-null float64\n",
      "total_rec_late_fee         36493 non-null float64\n",
      "recoveries                 36493 non-null float64\n",
      "collection_recovery_fee    36493 non-null float64\n",
      "last_pymnt_amnt            36493 non-null float64\n",
      "last_credit_pull_d         36493 non-null object\n",
      "pub_rec_bankruptcies       36493 non-null float64\n",
      "dtypes: float64(15), int64(8), object(14)\n",
      "memory usage: 10.6+ MB\n"
     ]
    },
    {
     "data": {
      "application/javascript": [
       "\n",
       "            setTimeout(function() {\n",
       "                var nbb_cell_id = 14;\n",
       "                var nbb_formatted_code = \"# Get Column and Data Type Info\\nloan_df_clean.info()\";\n",
       "                var nbb_cells = Jupyter.notebook.get_cells();\n",
       "                for (var i = 0; i < nbb_cells.length; ++i) {\n",
       "                    if (nbb_cells[i].input_prompt_number == nbb_cell_id) {\n",
       "                        nbb_cells[i].set_text(nbb_formatted_code);\n",
       "                        break;\n",
       "                    }\n",
       "                }\n",
       "            }, 500);\n",
       "            "
      ],
      "text/plain": [
       "<IPython.core.display.Javascript object>"
      ]
     },
     "metadata": {},
     "output_type": "display_data"
    }
   ],
   "source": [
    "# Get Column and Data Type Info\n",
    "loan_df_clean.info()"
   ]
  },
  {
   "cell_type": "code",
   "execution_count": 15,
   "metadata": {},
   "outputs": [
    {
     "data": {
      "text/html": [
       "<div>\n",
       "<style scoped>\n",
       "    .dataframe tbody tr th:only-of-type {\n",
       "        vertical-align: middle;\n",
       "    }\n",
       "\n",
       "    .dataframe tbody tr th {\n",
       "        vertical-align: top;\n",
       "    }\n",
       "\n",
       "    .dataframe thead th {\n",
       "        text-align: right;\n",
       "    }\n",
       "</style>\n",
       "<table border=\"1\" class=\"dataframe\">\n",
       "  <thead>\n",
       "    <tr style=\"text-align: right;\">\n",
       "      <th></th>\n",
       "      <th>loan_amnt</th>\n",
       "      <th>funded_amnt</th>\n",
       "      <th>funded_amnt_inv</th>\n",
       "      <th>installment</th>\n",
       "      <th>annual_inc</th>\n",
       "      <th>dti</th>\n",
       "      <th>delinq_2yrs</th>\n",
       "      <th>inq_last_6mths</th>\n",
       "      <th>open_acc</th>\n",
       "      <th>pub_rec</th>\n",
       "      <th>revol_bal</th>\n",
       "      <th>total_acc</th>\n",
       "      <th>out_prncp</th>\n",
       "      <th>out_prncp_inv</th>\n",
       "      <th>total_pymnt</th>\n",
       "      <th>total_pymnt_inv</th>\n",
       "      <th>total_rec_prncp</th>\n",
       "      <th>total_rec_int</th>\n",
       "      <th>total_rec_late_fee</th>\n",
       "      <th>recoveries</th>\n",
       "      <th>collection_recovery_fee</th>\n",
       "      <th>last_pymnt_amnt</th>\n",
       "      <th>pub_rec_bankruptcies</th>\n",
       "    </tr>\n",
       "  </thead>\n",
       "  <tbody>\n",
       "    <tr>\n",
       "      <th>count</th>\n",
       "      <td>36493.000</td>\n",
       "      <td>36493.000</td>\n",
       "      <td>36493.000</td>\n",
       "      <td>36493.000</td>\n",
       "      <td>36493.000</td>\n",
       "      <td>36493.000</td>\n",
       "      <td>36493.000</td>\n",
       "      <td>36493.000</td>\n",
       "      <td>36493.000</td>\n",
       "      <td>36493.000</td>\n",
       "      <td>36493.000</td>\n",
       "      <td>36493.000</td>\n",
       "      <td>36493.000</td>\n",
       "      <td>36493.000</td>\n",
       "      <td>36493.000</td>\n",
       "      <td>36493.000</td>\n",
       "      <td>36493.000</td>\n",
       "      <td>36493.000</td>\n",
       "      <td>36493.000</td>\n",
       "      <td>36493.000</td>\n",
       "      <td>36493.000</td>\n",
       "      <td>36493.000</td>\n",
       "      <td>36493.000</td>\n",
       "    </tr>\n",
       "    <tr>\n",
       "      <th>mean</th>\n",
       "      <td>11303.408</td>\n",
       "      <td>11029.014</td>\n",
       "      <td>10595.849</td>\n",
       "      <td>326.087</td>\n",
       "      <td>69269.112</td>\n",
       "      <td>13.442</td>\n",
       "      <td>0.146</td>\n",
       "      <td>0.866</td>\n",
       "      <td>9.348</td>\n",
       "      <td>0.054</td>\n",
       "      <td>13454.454</td>\n",
       "      <td>22.236</td>\n",
       "      <td>52.379</td>\n",
       "      <td>52.127</td>\n",
       "      <td>12291.799</td>\n",
       "      <td>11822.561</td>\n",
       "      <td>9896.111</td>\n",
       "      <td>2300.616</td>\n",
       "      <td>1.298</td>\n",
       "      <td>93.774</td>\n",
       "      <td>11.780</td>\n",
       "      <td>2738.446</td>\n",
       "      <td>0.042</td>\n",
       "    </tr>\n",
       "    <tr>\n",
       "      <th>std</th>\n",
       "      <td>7435.229</td>\n",
       "      <td>7168.197</td>\n",
       "      <td>7072.904</td>\n",
       "      <td>207.436</td>\n",
       "      <td>63502.846</td>\n",
       "      <td>6.644</td>\n",
       "      <td>0.493</td>\n",
       "      <td>1.064</td>\n",
       "      <td>4.373</td>\n",
       "      <td>0.235</td>\n",
       "      <td>15694.254</td>\n",
       "      <td>11.377</td>\n",
       "      <td>379.544</td>\n",
       "      <td>378.138</td>\n",
       "      <td>9053.594</td>\n",
       "      <td>8915.927</td>\n",
       "      <td>7058.846</td>\n",
       "      <td>2629.039</td>\n",
       "      <td>7.060</td>\n",
       "      <td>685.599</td>\n",
       "      <td>141.264</td>\n",
       "      <td>4471.231</td>\n",
       "      <td>0.200</td>\n",
       "    </tr>\n",
       "    <tr>\n",
       "      <th>min</th>\n",
       "      <td>500.000</td>\n",
       "      <td>500.000</td>\n",
       "      <td>0.000</td>\n",
       "      <td>16.080</td>\n",
       "      <td>4000.000</td>\n",
       "      <td>0.000</td>\n",
       "      <td>0.000</td>\n",
       "      <td>0.000</td>\n",
       "      <td>2.000</td>\n",
       "      <td>0.000</td>\n",
       "      <td>0.000</td>\n",
       "      <td>2.000</td>\n",
       "      <td>0.000</td>\n",
       "      <td>0.000</td>\n",
       "      <td>0.000</td>\n",
       "      <td>0.000</td>\n",
       "      <td>0.000</td>\n",
       "      <td>0.000</td>\n",
       "      <td>0.000</td>\n",
       "      <td>0.000</td>\n",
       "      <td>0.000</td>\n",
       "      <td>0.000</td>\n",
       "      <td>0.000</td>\n",
       "    </tr>\n",
       "    <tr>\n",
       "      <th>25%</th>\n",
       "      <td>5600.000</td>\n",
       "      <td>5500.000</td>\n",
       "      <td>5000.000</td>\n",
       "      <td>168.860</td>\n",
       "      <td>42000.000</td>\n",
       "      <td>8.350</td>\n",
       "      <td>0.000</td>\n",
       "      <td>0.000</td>\n",
       "      <td>6.000</td>\n",
       "      <td>0.000</td>\n",
       "      <td>3826.000</td>\n",
       "      <td>14.000</td>\n",
       "      <td>0.000</td>\n",
       "      <td>0.000</td>\n",
       "      <td>5654.246</td>\n",
       "      <td>5395.110</td>\n",
       "      <td>4800.000</td>\n",
       "      <td>675.440</td>\n",
       "      <td>0.000</td>\n",
       "      <td>0.000</td>\n",
       "      <td>0.000</td>\n",
       "      <td>225.020</td>\n",
       "      <td>0.000</td>\n",
       "    </tr>\n",
       "    <tr>\n",
       "      <th>50%</th>\n",
       "      <td>10000.000</td>\n",
       "      <td>10000.000</td>\n",
       "      <td>9200.000</td>\n",
       "      <td>283.200</td>\n",
       "      <td>60000.000</td>\n",
       "      <td>13.540</td>\n",
       "      <td>0.000</td>\n",
       "      <td>1.000</td>\n",
       "      <td>9.000</td>\n",
       "      <td>0.000</td>\n",
       "      <td>9020.000</td>\n",
       "      <td>21.000</td>\n",
       "      <td>0.000</td>\n",
       "      <td>0.000</td>\n",
       "      <td>10083.720</td>\n",
       "      <td>9619.300</td>\n",
       "      <td>8075.000</td>\n",
       "      <td>1377.830</td>\n",
       "      <td>0.000</td>\n",
       "      <td>0.000</td>\n",
       "      <td>0.000</td>\n",
       "      <td>568.700</td>\n",
       "      <td>0.000</td>\n",
       "    </tr>\n",
       "    <tr>\n",
       "      <th>75%</th>\n",
       "      <td>15000.000</td>\n",
       "      <td>15000.000</td>\n",
       "      <td>14500.000</td>\n",
       "      <td>432.090</td>\n",
       "      <td>83000.000</td>\n",
       "      <td>18.690</td>\n",
       "      <td>0.000</td>\n",
       "      <td>1.000</td>\n",
       "      <td>12.000</td>\n",
       "      <td>0.000</td>\n",
       "      <td>17212.000</td>\n",
       "      <td>29.000</td>\n",
       "      <td>0.000</td>\n",
       "      <td>0.000</td>\n",
       "      <td>16679.597</td>\n",
       "      <td>16078.230</td>\n",
       "      <td>14000.000</td>\n",
       "      <td>2888.050</td>\n",
       "      <td>0.000</td>\n",
       "      <td>0.000</td>\n",
       "      <td>0.000</td>\n",
       "      <td>3449.470</td>\n",
       "      <td>0.000</td>\n",
       "    </tr>\n",
       "    <tr>\n",
       "      <th>max</th>\n",
       "      <td>35000.000</td>\n",
       "      <td>35000.000</td>\n",
       "      <td>35000.000</td>\n",
       "      <td>1305.190</td>\n",
       "      <td>6000000.000</td>\n",
       "      <td>29.990</td>\n",
       "      <td>11.000</td>\n",
       "      <td>8.000</td>\n",
       "      <td>44.000</td>\n",
       "      <td>4.000</td>\n",
       "      <td>149588.000</td>\n",
       "      <td>90.000</td>\n",
       "      <td>6311.470</td>\n",
       "      <td>6307.370</td>\n",
       "      <td>58563.680</td>\n",
       "      <td>58563.680</td>\n",
       "      <td>35000.020</td>\n",
       "      <td>23563.680</td>\n",
       "      <td>180.200</td>\n",
       "      <td>29623.350</td>\n",
       "      <td>7002.190</td>\n",
       "      <td>36115.200</td>\n",
       "      <td>2.000</td>\n",
       "    </tr>\n",
       "  </tbody>\n",
       "</table>\n",
       "</div>"
      ],
      "text/plain": [
       "       loan_amnt  funded_amnt  funded_amnt_inv  installment  annual_inc  \\\n",
       "count  36493.000    36493.000        36493.000    36493.000   36493.000   \n",
       "mean   11303.408    11029.014        10595.849      326.087   69269.112   \n",
       "std     7435.229     7168.197         7072.904      207.436   63502.846   \n",
       "min      500.000      500.000            0.000       16.080    4000.000   \n",
       "25%     5600.000     5500.000         5000.000      168.860   42000.000   \n",
       "50%    10000.000    10000.000         9200.000      283.200   60000.000   \n",
       "75%    15000.000    15000.000        14500.000      432.090   83000.000   \n",
       "max    35000.000    35000.000        35000.000     1305.190 6000000.000   \n",
       "\n",
       "            dti  delinq_2yrs  inq_last_6mths  open_acc   pub_rec  revol_bal  \\\n",
       "count 36493.000    36493.000       36493.000 36493.000 36493.000  36493.000   \n",
       "mean     13.442        0.146           0.866     9.348     0.054  13454.454   \n",
       "std       6.644        0.493           1.064     4.373     0.235  15694.254   \n",
       "min       0.000        0.000           0.000     2.000     0.000      0.000   \n",
       "25%       8.350        0.000           0.000     6.000     0.000   3826.000   \n",
       "50%      13.540        0.000           1.000     9.000     0.000   9020.000   \n",
       "75%      18.690        0.000           1.000    12.000     0.000  17212.000   \n",
       "max      29.990       11.000           8.000    44.000     4.000 149588.000   \n",
       "\n",
       "       total_acc  out_prncp  out_prncp_inv  total_pymnt  total_pymnt_inv  \\\n",
       "count  36493.000  36493.000      36493.000    36493.000        36493.000   \n",
       "mean      22.236     52.379         52.127    12291.799        11822.561   \n",
       "std       11.377    379.544        378.138     9053.594         8915.927   \n",
       "min        2.000      0.000          0.000        0.000            0.000   \n",
       "25%       14.000      0.000          0.000     5654.246         5395.110   \n",
       "50%       21.000      0.000          0.000    10083.720         9619.300   \n",
       "75%       29.000      0.000          0.000    16679.597        16078.230   \n",
       "max       90.000   6311.470       6307.370    58563.680        58563.680   \n",
       "\n",
       "       total_rec_prncp  total_rec_int  total_rec_late_fee  recoveries  \\\n",
       "count        36493.000      36493.000           36493.000   36493.000   \n",
       "mean          9896.111       2300.616               1.298      93.774   \n",
       "std           7058.846       2629.039               7.060     685.599   \n",
       "min              0.000          0.000               0.000       0.000   \n",
       "25%           4800.000        675.440               0.000       0.000   \n",
       "50%           8075.000       1377.830               0.000       0.000   \n",
       "75%          14000.000       2888.050               0.000       0.000   \n",
       "max          35000.020      23563.680             180.200   29623.350   \n",
       "\n",
       "       collection_recovery_fee  last_pymnt_amnt  pub_rec_bankruptcies  \n",
       "count                36493.000        36493.000             36493.000  \n",
       "mean                    11.780         2738.446                 0.042  \n",
       "std                    141.264         4471.231                 0.200  \n",
       "min                      0.000            0.000                 0.000  \n",
       "25%                      0.000          225.020                 0.000  \n",
       "50%                      0.000          568.700                 0.000  \n",
       "75%                      0.000         3449.470                 0.000  \n",
       "max                   7002.190        36115.200                 2.000  "
      ]
     },
     "execution_count": 15,
     "metadata": {},
     "output_type": "execute_result"
    },
    {
     "data": {
      "application/javascript": [
       "\n",
       "            setTimeout(function() {\n",
       "                var nbb_cell_id = 15;\n",
       "                var nbb_formatted_code = \"# Get Overview of Data\\nloan_df_clean.describe()\";\n",
       "                var nbb_cells = Jupyter.notebook.get_cells();\n",
       "                for (var i = 0; i < nbb_cells.length; ++i) {\n",
       "                    if (nbb_cells[i].input_prompt_number == nbb_cell_id) {\n",
       "                        nbb_cells[i].set_text(nbb_formatted_code);\n",
       "                        break;\n",
       "                    }\n",
       "                }\n",
       "            }, 500);\n",
       "            "
      ],
      "text/plain": [
       "<IPython.core.display.Javascript object>"
      ]
     },
     "metadata": {},
     "output_type": "display_data"
    }
   ],
   "source": [
    "# Get Overview of Data\n",
    "loan_df_clean.describe()"
   ]
  },
  {
   "cell_type": "code",
   "execution_count": 16,
   "metadata": {
    "scrolled": false
   },
   "outputs": [
    {
     "name": "stdout",
     "output_type": "stream",
     "text": [
      "column : funded_amnt\n",
      "[ 2500 10000  3000 ...  1175   500   725]\n",
      "\n",
      "column : funded_amnt_inv\n",
      "[ 2500. 10000.  3000. ...   700.   600.   525.]\n",
      "\n",
      "column : term\n",
      "[' 60 months' ' 36 months']\n",
      "\n",
      "column : int_rate\n",
      "['15.27%' '13.49%' '12.69%' '7.90%' '15.96%' '18.64%' '14.65%' '9.91%'\n",
      " '10.65%' '16.29%' '6.03%' '11.71%' '12.42%' '14.27%' '16.77%' '8.90%'\n",
      " '7.51%' '6.62%' '19.91%' '17.27%' '21.28%' '17.58%' '21.67%' '19.42%'\n",
      " '22.06%' '20.89%' '18.25%' '20.30%' '23.91%' '19.03%' '23.52%' '23.13%'\n",
      " '22.74%' '22.35%' '24.11%' '6.00%' '22.11%' '7.49%' '11.99%' '5.99%'\n",
      " '10.99%' '9.99%' '18.79%' '11.49%' '15.99%' '16.49%' '6.99%' '12.99%'\n",
      " '15.23%' '14.79%' '8.49%' '5.42%' '17.49%' '10.59%' '15.62%' '21.36%'\n",
      " '19.29%' '13.99%' '18.39%' '16.89%' '17.99%' '20.62%' '20.99%' '22.85%'\n",
      " '19.69%' '20.25%' '23.22%' '21.74%' '22.48%' '23.59%' '12.62%' '18.07%'\n",
      " '11.63%' '7.91%' '7.42%' '11.14%' '20.20%' '12.12%' '19.39%' '16.11%'\n",
      " '17.54%' '16.59%' '17.19%' '12.87%' '20.69%' '9.67%' '21.82%' '19.79%'\n",
      " '18.49%' '13.84%' '22.94%' '24.40%' '21.48%' '14.82%' '17.88%' '20.11%'\n",
      " '16.02%' '17.51%' '13.06%' '14.91%' '15.28%' '17.14%' '13.43%' '11.11%'\n",
      " '10.37%' '14.17%' '16.40%' '15.65%' '7.66%' '10.00%' '10.74%' '7.29%'\n",
      " '5.79%' '6.92%' '9.63%' '14.54%' '12.68%' '18.62%' '19.36%' '13.80%'\n",
      " '18.99%' '21.59%' '20.85%' '21.22%' '19.74%' '20.48%' '6.91%' '12.23%'\n",
      " '12.61%' '10.36%' '6.17%' '6.54%' '9.25%' '16.69%' '15.95%' '8.88%'\n",
      " '13.35%' '9.62%' '16.32%' '12.98%' '14.83%' '13.72%' '14.09%' '14.46%'\n",
      " '20.03%' '17.80%' '15.20%' '15.57%' '18.54%' '19.66%' '17.06%' '18.17%'\n",
      " '17.43%' '20.40%' '20.77%' '18.91%' '21.14%' '17.44%' '13.23%' '11.12%'\n",
      " '7.88%' '13.61%' '10.38%' '17.56%' '17.93%' '15.58%' '13.98%' '14.84%'\n",
      " '15.21%' '6.76%' '6.39%' '11.86%' '7.14%' '14.35%' '16.82%' '10.75%'\n",
      " '14.72%' '16.45%' '20.53%' '19.41%' '20.16%' '21.27%' '18.30%' '18.67%'\n",
      " '19.04%' '20.90%' '21.64%' '12.73%' '10.25%' '13.11%' '10.62%' '13.48%'\n",
      " '14.59%' '16.07%' '15.70%' '9.88%' '11.36%' '15.33%' '13.85%' '14.96%'\n",
      " '14.22%' '7.74%' '13.22%' '8.59%' '17.04%' '14.61%' '8.94%' '12.18%'\n",
      " '11.83%' '11.48%' '16.35%' '13.92%' '15.31%' '14.26%' '12.53%' '13.57%'\n",
      " '19.13%' '16.70%' '16.00%' '18.09%' '17.39%' '18.43%' '7.40%' '17.74%'\n",
      " '7.05%' '20.86%' '19.47%' '18.78%' '21.21%' '19.82%' '20.17%' '13.16%'\n",
      " '13.47%' '8.00%' '12.21%' '16.63%' '9.32%' '12.84%' '11.26%' '15.68%'\n",
      " '15.37%' '10.95%' '11.89%' '14.11%' '13.79%' '7.68%' '11.58%' '7.37%'\n",
      " '16.95%' '15.05%' '18.53%' '14.74%' '14.42%' '18.21%' '17.26%' '18.84%'\n",
      " '17.90%' '19.16%' '13.67%' '9.38%' '12.72%' '13.36%' '11.46%' '10.51%'\n",
      " '9.07%' '11.78%' '12.41%' '13.04%' '10.83%' '12.09%' '17.46%' '14.30%'\n",
      " '17.15%' '10.20%' '15.88%' '14.93%' '16.20%' '18.72%' '15.25%' '14.62%'\n",
      " '8.32%' '14.12%' '10.96%' '10.33%' '10.01%' '12.86%' '11.28%' '11.59%'\n",
      " '8.63%' '12.54%' '12.22%' '15.38%' '16.96%' '11.91%' '9.70%' '16.33%'\n",
      " '14.75%' '13.17%' '15.07%' '16.01%' '10.71%' '10.64%' '9.76%' '11.34%'\n",
      " '10.39%' '13.87%' '11.03%' '11.66%' '13.24%' '10.08%' '9.45%' '13.55%'\n",
      " '12.29%' '11.97%' '12.92%' '14.50%' '14.18%' '15.45%' '15.13%' '16.08%'\n",
      " '15.76%' '17.03%' '10.46%' '13.93%' '10.78%' '9.51%' '12.36%' '13.30%'\n",
      " '9.83%' '9.01%' '10.91%' '10.28%' '12.49%' '11.22%']\n",
      "\n",
      "column : installment\n",
      "[ 59.83 339.31  67.79 ... 155.52 507.46  99.44]\n",
      "\n",
      "column : grade\n",
      "['C' 'B' 'A' 'E' 'D' 'F' 'G']\n",
      "\n",
      "column : sub_grade\n",
      "['C4' 'C1' 'B5' 'A4' 'C5' 'E1' 'C3' 'B1' 'B2' 'D1' 'A1' 'B3' 'B4' 'C2'\n",
      " 'D2' 'A5' 'A3' 'A2' 'E4' 'D3' 'F2' 'D4' 'F3' 'E3' 'F4' 'F1' 'D5' 'E5'\n",
      " 'G4' 'E2' 'G3' 'G2' 'G1' 'F5' 'G5']\n",
      "\n",
      "column : emp_title\n",
      "['Ryder' 'AIR RESOURCES BOARD' 'University Medical Group' ...\n",
      " 'E.E. Wine Inc' 'ARIN' 'Fairfield Manufacturing']\n",
      "\n",
      "column : emp_length\n",
      "['< 1 year' '10+ years' '1 year' '3 years' '8 years' '9 years' '5 years'\n",
      " '4 years' '6 years' '2 years' '7 years']\n",
      "\n",
      "column : home_ownership\n",
      "['RENT' 'OWN' 'MORTGAGE' 'OTHER']\n",
      "\n",
      "column : annual_inc\n",
      "[ 30000.    49200.    80000.   ...  11029.   100671.39  36153.  ]\n",
      "\n",
      "column : verification_status\n",
      "['Source Verified' 'Not Verified' 'Verified']\n",
      "\n",
      "column : issue_d\n",
      "['Dec-11' 'Nov-11' 'Oct-11' 'Sep-11' 'Aug-11' 'Jul-11' 'Jun-11' 'May-11'\n",
      " 'Apr-11' 'Mar-11' 'Feb-11' 'Jan-11' 'Dec-10' 'Nov-10' 'Oct-10' 'Sep-10'\n",
      " 'Aug-10' 'Jul-10' 'Jun-10' 'May-10' 'Apr-10' 'Mar-10' 'Feb-10' 'Jan-10'\n",
      " 'Dec-09' 'Nov-09' 'Oct-09' 'Sep-09' 'Aug-09' 'Jul-09' 'Jun-09' 'May-09'\n",
      " 'Apr-09' 'Mar-09' 'Feb-09' 'Jan-09' 'Dec-08' 'Nov-08' 'Oct-08' 'Sep-08'\n",
      " 'Aug-08' 'Jul-08' 'Jun-08' 'May-08' 'Apr-08' 'Mar-08' 'Feb-08' 'Jan-08'\n",
      " 'Dec-07' 'Nov-07' 'Oct-07' 'Aug-07']\n",
      "\n",
      "column : loan_status\n",
      "['Charged Off' 'Fully Paid' 'Current']\n",
      "\n",
      "column : purpose\n",
      "['car' 'other' 'wedding' 'debt_consolidation' 'credit_card'\n",
      " 'home_improvement' 'major_purchase' 'medical' 'moving' 'small_business'\n",
      " 'vacation' 'house' 'renewable_energy' 'educational']\n",
      "\n",
      "column : title\n",
      "['bike' 'personel' 'Personal' ... 'Want to pay off high intrest cards'\n",
      " 'paying credit cards and doctor bill.'\n",
      " 'Merging 2 Accounts into one to save $$']\n",
      "\n",
      "column : dti\n",
      "[ 1.   20.   17.94 ...  0.05  0.12 25.43]\n",
      "\n",
      "column : delinq_2yrs\n",
      "[ 0  2  3  1  4  6  5  8  7  9 11]\n",
      "\n",
      "column : inq_last_6mths\n",
      "[5 1 0 3 2 4 6 7 8]\n",
      "\n",
      "column : open_acc\n",
      "[ 3 10 15  9  7  4  2 14 12 11 20  8  6 17  5 13 16 30 21 18 19 27 23 34\n",
      " 25 22 24 26 32 28 29 33 31 39 36 38 44 35]\n",
      "\n",
      "column : pub_rec\n",
      "[0 1 2 3 4]\n",
      "\n",
      "column : revol_bal\n",
      "[ 1687  5598 27783 ...  5181 13126 26233]\n",
      "\n",
      "column : revol_util\n",
      "['9.40%' '21%' '53.90%' ... '49.63%' '0.04%' '7.28%']\n",
      "\n",
      "column : total_acc\n",
      "[ 4 37 38 12 11  3 23 34  9 29 28 42 14 22 21 17  7 31 44 26 16  6 18 27\n",
      " 24 25 40 35 10  8 20 15 19 36 13 51 32 30 33 46  5 61 56 50 41 39 79 62\n",
      " 43 47 53 45 60 55 52 58 54 57 49 63 48 59 87 75 72 64 67 78 66 81 90 80\n",
      " 71 69 73 70 68 65  2]\n",
      "\n",
      "column : out_prncp\n",
      "[   0.    524.06 1849.1  ...   19.12   13.28   79.24]\n",
      "\n",
      "column : out_prncp_inv\n",
      "[   0.    524.06 1844.43 ...   19.09   13.28   79.24]\n",
      "\n",
      "column : total_pymnt\n",
      "[ 1008.71     12231.89      3513.33     ...  4015.96     11652.75\n",
      "  3579.662273]\n",
      "\n",
      "column : total_pymnt_inv\n",
      "[ 1008.71 12231.89  3513.33 ...   311.64   451.73   626.44]\n",
      "\n",
      "column : total_rec_prncp\n",
      "[  456.46 10000.    2475.94 ...   665.76  1496.83  8688.59]\n",
      "\n",
      "column : total_rec_int\n",
      "[ 435.17 2214.92 1037.39 ...  609.26 2659.96  579.66]\n",
      "\n",
      "column : total_rec_late_fee\n",
      "[ 0.         16.97       15.00000003 ... 18.98999996 24.01000007\n",
      " 52.26222671]\n",
      "\n",
      "column : recoveries\n",
      "[ 117.08    0.    269.29 ...  151.2  1909.87  304.2 ]\n",
      "\n",
      "column : collection_recovery_fee\n",
      "[  1.11     0.       2.52   ... 618.05    28.7262 668.36  ]\n",
      "\n",
      "column : last_pymnt_amnt\n",
      "[ 119.66  357.48   67.79 ... 4259.11 3891.08 1016.15]\n",
      "\n",
      "column : last_credit_pull_d\n",
      "['Sep-13' 'Apr-16' 'May-16' 'Jan-16' 'Dec-14' 'Mar-13' 'Dec-15' 'Aug-13'\n",
      " 'Nov-12' 'Mar-14' 'Apr-15' 'May-14' 'Jul-15' 'Feb-16' 'Mar-16' 'Sep-12'\n",
      " 'May-13' 'Jan-15' 'Jun-12' 'Mar-15' 'Dec-12' 'Sep-14' 'Feb-14' 'Jun-15'\n",
      " 'Oct-13' 'Apr-14' 'Oct-14' 'Feb-13' 'Nov-15' 'Jul-14' 'Sep-15' 'Oct-12'\n",
      " 'Nov-13' 'Nov-14' 'Feb-12' 'Oct-15' 'Apr-12' 'Aug-15' 'Jun-14' 'Aug-12'\n",
      " 'Jan-12' 'Aug-14' 'Jun-13' 'Dec-13' 'May-12' 'Jul-12' 'Jan-14' 'Jul-13'\n",
      " 'Apr-13' 'May-15' 'Feb-15' 'Mar-12' 'Nov-11' 'Dec-11' 'Oct-11' 'Sep-11'\n",
      " 'Jan-13' 'Aug-11' 'Jul-11' 'Jun-11' 'May-11' 'Apr-11' 'Mar-11' 'Feb-11'\n",
      " 'Jan-11' 'Dec-10' 'Nov-10' 'Oct-10' 'Sep-10' 'Aug-10' 'Jul-10' 'Jun-10'\n",
      " 'May-10' 'Apr-10' 'Feb-10' 'Mar-10' 'Jan-10' 'Dec-09' 'Nov-09' 'Oct-09'\n",
      " 'Sep-09' 'Jul-09' 'Aug-09' 'May-09' 'Jun-09' 'Apr-09' 'Mar-09' 'Feb-09'\n",
      " 'Jan-09' 'Dec-08' 'Jun-08' 'Sep-08' 'May-08' 'Aug-08' 'Mar-08' 'Oct-08']\n",
      "\n",
      "column : pub_rec_bankruptcies\n",
      "[0. 1. 2.]\n",
      "\n"
     ]
    },
    {
     "data": {
      "application/javascript": [
       "\n",
       "            setTimeout(function() {\n",
       "                var nbb_cell_id = 16;\n",
       "                var nbb_formatted_code = \"# Show Unique Value of Columns\\nfor col in loan_df_clean.columns:\\n    if col not in ([\\\"loan_amnt\\\"]):\\n        print(\\\"column : \\\" + col)\\n        print(loan_df_clean[col].unique())\\n        print(\\\"\\\")\";\n",
       "                var nbb_cells = Jupyter.notebook.get_cells();\n",
       "                for (var i = 0; i < nbb_cells.length; ++i) {\n",
       "                    if (nbb_cells[i].input_prompt_number == nbb_cell_id) {\n",
       "                        nbb_cells[i].set_text(nbb_formatted_code);\n",
       "                        break;\n",
       "                    }\n",
       "                }\n",
       "            }, 500);\n",
       "            "
      ],
      "text/plain": [
       "<IPython.core.display.Javascript object>"
      ]
     },
     "metadata": {},
     "output_type": "display_data"
    }
   ],
   "source": [
    "# Show Unique Value of Columns\n",
    "for col in loan_df_clean.columns:\n",
    "    if col not in ([\"loan_amnt\"]):\n",
    "        print(\"column : \" + col)\n",
    "        print(loan_df_clean[col].unique())\n",
    "        print(\"\")"
   ]
  },
  {
   "cell_type": "markdown",
   "metadata": {},
   "source": [
    "## Data Analysis"
   ]
  },
  {
   "cell_type": "markdown",
   "metadata": {},
   "source": []
  },
  {
   "cell_type": "markdown",
   "metadata": {},
   "source": [
    "## Univariant Analysis EDA :"
   ]
  },
  {
   "cell_type": "markdown",
   "metadata": {},
   "source": [
    "\n"
   ]
  },
  {
   "cell_type": "code",
   "execution_count": 17,
   "metadata": {},
   "outputs": [
    {
     "data": {
      "text/html": [
       "<div>\n",
       "<style scoped>\n",
       "    .dataframe tbody tr th:only-of-type {\n",
       "        vertical-align: middle;\n",
       "    }\n",
       "\n",
       "    .dataframe tbody tr th {\n",
       "        vertical-align: top;\n",
       "    }\n",
       "\n",
       "    .dataframe thead th {\n",
       "        text-align: right;\n",
       "    }\n",
       "</style>\n",
       "<table border=\"1\" class=\"dataframe\">\n",
       "  <thead>\n",
       "    <tr style=\"text-align: right;\">\n",
       "      <th></th>\n",
       "      <th>loan_amnt</th>\n",
       "      <th>funded_amnt</th>\n",
       "      <th>funded_amnt_inv</th>\n",
       "      <th>installment</th>\n",
       "      <th>annual_inc</th>\n",
       "      <th>dti</th>\n",
       "      <th>delinq_2yrs</th>\n",
       "      <th>inq_last_6mths</th>\n",
       "      <th>open_acc</th>\n",
       "      <th>pub_rec</th>\n",
       "      <th>revol_bal</th>\n",
       "      <th>total_acc</th>\n",
       "      <th>out_prncp</th>\n",
       "      <th>out_prncp_inv</th>\n",
       "      <th>total_pymnt</th>\n",
       "      <th>total_pymnt_inv</th>\n",
       "      <th>total_rec_prncp</th>\n",
       "      <th>total_rec_int</th>\n",
       "      <th>total_rec_late_fee</th>\n",
       "      <th>recoveries</th>\n",
       "      <th>collection_recovery_fee</th>\n",
       "      <th>last_pymnt_amnt</th>\n",
       "      <th>pub_rec_bankruptcies</th>\n",
       "    </tr>\n",
       "  </thead>\n",
       "  <tbody>\n",
       "    <tr>\n",
       "      <th>count</th>\n",
       "      <td>36493.000</td>\n",
       "      <td>36493.000</td>\n",
       "      <td>36493.000</td>\n",
       "      <td>36493.000</td>\n",
       "      <td>36493.000</td>\n",
       "      <td>36493.000</td>\n",
       "      <td>36493.000</td>\n",
       "      <td>36493.000</td>\n",
       "      <td>36493.000</td>\n",
       "      <td>36493.000</td>\n",
       "      <td>36493.000</td>\n",
       "      <td>36493.000</td>\n",
       "      <td>36493.000</td>\n",
       "      <td>36493.000</td>\n",
       "      <td>36493.000</td>\n",
       "      <td>36493.000</td>\n",
       "      <td>36493.000</td>\n",
       "      <td>36493.000</td>\n",
       "      <td>36493.000</td>\n",
       "      <td>36493.000</td>\n",
       "      <td>36493.000</td>\n",
       "      <td>36493.000</td>\n",
       "      <td>36493.000</td>\n",
       "    </tr>\n",
       "    <tr>\n",
       "      <th>mean</th>\n",
       "      <td>11303.408</td>\n",
       "      <td>11029.014</td>\n",
       "      <td>10595.849</td>\n",
       "      <td>326.087</td>\n",
       "      <td>69269.112</td>\n",
       "      <td>13.442</td>\n",
       "      <td>0.146</td>\n",
       "      <td>0.866</td>\n",
       "      <td>9.348</td>\n",
       "      <td>0.054</td>\n",
       "      <td>13454.454</td>\n",
       "      <td>22.236</td>\n",
       "      <td>52.379</td>\n",
       "      <td>52.127</td>\n",
       "      <td>12291.799</td>\n",
       "      <td>11822.561</td>\n",
       "      <td>9896.111</td>\n",
       "      <td>2300.616</td>\n",
       "      <td>1.298</td>\n",
       "      <td>93.774</td>\n",
       "      <td>11.780</td>\n",
       "      <td>2738.446</td>\n",
       "      <td>0.042</td>\n",
       "    </tr>\n",
       "    <tr>\n",
       "      <th>std</th>\n",
       "      <td>7435.229</td>\n",
       "      <td>7168.197</td>\n",
       "      <td>7072.904</td>\n",
       "      <td>207.436</td>\n",
       "      <td>63502.846</td>\n",
       "      <td>6.644</td>\n",
       "      <td>0.493</td>\n",
       "      <td>1.064</td>\n",
       "      <td>4.373</td>\n",
       "      <td>0.235</td>\n",
       "      <td>15694.254</td>\n",
       "      <td>11.377</td>\n",
       "      <td>379.544</td>\n",
       "      <td>378.138</td>\n",
       "      <td>9053.594</td>\n",
       "      <td>8915.927</td>\n",
       "      <td>7058.846</td>\n",
       "      <td>2629.039</td>\n",
       "      <td>7.060</td>\n",
       "      <td>685.599</td>\n",
       "      <td>141.264</td>\n",
       "      <td>4471.231</td>\n",
       "      <td>0.200</td>\n",
       "    </tr>\n",
       "    <tr>\n",
       "      <th>min</th>\n",
       "      <td>500.000</td>\n",
       "      <td>500.000</td>\n",
       "      <td>0.000</td>\n",
       "      <td>16.080</td>\n",
       "      <td>4000.000</td>\n",
       "      <td>0.000</td>\n",
       "      <td>0.000</td>\n",
       "      <td>0.000</td>\n",
       "      <td>2.000</td>\n",
       "      <td>0.000</td>\n",
       "      <td>0.000</td>\n",
       "      <td>2.000</td>\n",
       "      <td>0.000</td>\n",
       "      <td>0.000</td>\n",
       "      <td>0.000</td>\n",
       "      <td>0.000</td>\n",
       "      <td>0.000</td>\n",
       "      <td>0.000</td>\n",
       "      <td>0.000</td>\n",
       "      <td>0.000</td>\n",
       "      <td>0.000</td>\n",
       "      <td>0.000</td>\n",
       "      <td>0.000</td>\n",
       "    </tr>\n",
       "    <tr>\n",
       "      <th>25%</th>\n",
       "      <td>5600.000</td>\n",
       "      <td>5500.000</td>\n",
       "      <td>5000.000</td>\n",
       "      <td>168.860</td>\n",
       "      <td>42000.000</td>\n",
       "      <td>8.350</td>\n",
       "      <td>0.000</td>\n",
       "      <td>0.000</td>\n",
       "      <td>6.000</td>\n",
       "      <td>0.000</td>\n",
       "      <td>3826.000</td>\n",
       "      <td>14.000</td>\n",
       "      <td>0.000</td>\n",
       "      <td>0.000</td>\n",
       "      <td>5654.246</td>\n",
       "      <td>5395.110</td>\n",
       "      <td>4800.000</td>\n",
       "      <td>675.440</td>\n",
       "      <td>0.000</td>\n",
       "      <td>0.000</td>\n",
       "      <td>0.000</td>\n",
       "      <td>225.020</td>\n",
       "      <td>0.000</td>\n",
       "    </tr>\n",
       "    <tr>\n",
       "      <th>50%</th>\n",
       "      <td>10000.000</td>\n",
       "      <td>10000.000</td>\n",
       "      <td>9200.000</td>\n",
       "      <td>283.200</td>\n",
       "      <td>60000.000</td>\n",
       "      <td>13.540</td>\n",
       "      <td>0.000</td>\n",
       "      <td>1.000</td>\n",
       "      <td>9.000</td>\n",
       "      <td>0.000</td>\n",
       "      <td>9020.000</td>\n",
       "      <td>21.000</td>\n",
       "      <td>0.000</td>\n",
       "      <td>0.000</td>\n",
       "      <td>10083.720</td>\n",
       "      <td>9619.300</td>\n",
       "      <td>8075.000</td>\n",
       "      <td>1377.830</td>\n",
       "      <td>0.000</td>\n",
       "      <td>0.000</td>\n",
       "      <td>0.000</td>\n",
       "      <td>568.700</td>\n",
       "      <td>0.000</td>\n",
       "    </tr>\n",
       "    <tr>\n",
       "      <th>75%</th>\n",
       "      <td>15000.000</td>\n",
       "      <td>15000.000</td>\n",
       "      <td>14500.000</td>\n",
       "      <td>432.090</td>\n",
       "      <td>83000.000</td>\n",
       "      <td>18.690</td>\n",
       "      <td>0.000</td>\n",
       "      <td>1.000</td>\n",
       "      <td>12.000</td>\n",
       "      <td>0.000</td>\n",
       "      <td>17212.000</td>\n",
       "      <td>29.000</td>\n",
       "      <td>0.000</td>\n",
       "      <td>0.000</td>\n",
       "      <td>16679.597</td>\n",
       "      <td>16078.230</td>\n",
       "      <td>14000.000</td>\n",
       "      <td>2888.050</td>\n",
       "      <td>0.000</td>\n",
       "      <td>0.000</td>\n",
       "      <td>0.000</td>\n",
       "      <td>3449.470</td>\n",
       "      <td>0.000</td>\n",
       "    </tr>\n",
       "    <tr>\n",
       "      <th>max</th>\n",
       "      <td>35000.000</td>\n",
       "      <td>35000.000</td>\n",
       "      <td>35000.000</td>\n",
       "      <td>1305.190</td>\n",
       "      <td>6000000.000</td>\n",
       "      <td>29.990</td>\n",
       "      <td>11.000</td>\n",
       "      <td>8.000</td>\n",
       "      <td>44.000</td>\n",
       "      <td>4.000</td>\n",
       "      <td>149588.000</td>\n",
       "      <td>90.000</td>\n",
       "      <td>6311.470</td>\n",
       "      <td>6307.370</td>\n",
       "      <td>58563.680</td>\n",
       "      <td>58563.680</td>\n",
       "      <td>35000.020</td>\n",
       "      <td>23563.680</td>\n",
       "      <td>180.200</td>\n",
       "      <td>29623.350</td>\n",
       "      <td>7002.190</td>\n",
       "      <td>36115.200</td>\n",
       "      <td>2.000</td>\n",
       "    </tr>\n",
       "  </tbody>\n",
       "</table>\n",
       "</div>"
      ],
      "text/plain": [
       "       loan_amnt  funded_amnt  funded_amnt_inv  installment  annual_inc  \\\n",
       "count  36493.000    36493.000        36493.000    36493.000   36493.000   \n",
       "mean   11303.408    11029.014        10595.849      326.087   69269.112   \n",
       "std     7435.229     7168.197         7072.904      207.436   63502.846   \n",
       "min      500.000      500.000            0.000       16.080    4000.000   \n",
       "25%     5600.000     5500.000         5000.000      168.860   42000.000   \n",
       "50%    10000.000    10000.000         9200.000      283.200   60000.000   \n",
       "75%    15000.000    15000.000        14500.000      432.090   83000.000   \n",
       "max    35000.000    35000.000        35000.000     1305.190 6000000.000   \n",
       "\n",
       "            dti  delinq_2yrs  inq_last_6mths  open_acc   pub_rec  revol_bal  \\\n",
       "count 36493.000    36493.000       36493.000 36493.000 36493.000  36493.000   \n",
       "mean     13.442        0.146           0.866     9.348     0.054  13454.454   \n",
       "std       6.644        0.493           1.064     4.373     0.235  15694.254   \n",
       "min       0.000        0.000           0.000     2.000     0.000      0.000   \n",
       "25%       8.350        0.000           0.000     6.000     0.000   3826.000   \n",
       "50%      13.540        0.000           1.000     9.000     0.000   9020.000   \n",
       "75%      18.690        0.000           1.000    12.000     0.000  17212.000   \n",
       "max      29.990       11.000           8.000    44.000     4.000 149588.000   \n",
       "\n",
       "       total_acc  out_prncp  out_prncp_inv  total_pymnt  total_pymnt_inv  \\\n",
       "count  36493.000  36493.000      36493.000    36493.000        36493.000   \n",
       "mean      22.236     52.379         52.127    12291.799        11822.561   \n",
       "std       11.377    379.544        378.138     9053.594         8915.927   \n",
       "min        2.000      0.000          0.000        0.000            0.000   \n",
       "25%       14.000      0.000          0.000     5654.246         5395.110   \n",
       "50%       21.000      0.000          0.000    10083.720         9619.300   \n",
       "75%       29.000      0.000          0.000    16679.597        16078.230   \n",
       "max       90.000   6311.470       6307.370    58563.680        58563.680   \n",
       "\n",
       "       total_rec_prncp  total_rec_int  total_rec_late_fee  recoveries  \\\n",
       "count        36493.000      36493.000           36493.000   36493.000   \n",
       "mean          9896.111       2300.616               1.298      93.774   \n",
       "std           7058.846       2629.039               7.060     685.599   \n",
       "min              0.000          0.000               0.000       0.000   \n",
       "25%           4800.000        675.440               0.000       0.000   \n",
       "50%           8075.000       1377.830               0.000       0.000   \n",
       "75%          14000.000       2888.050               0.000       0.000   \n",
       "max          35000.020      23563.680             180.200   29623.350   \n",
       "\n",
       "       collection_recovery_fee  last_pymnt_amnt  pub_rec_bankruptcies  \n",
       "count                36493.000        36493.000             36493.000  \n",
       "mean                    11.780         2738.446                 0.042  \n",
       "std                    141.264         4471.231                 0.200  \n",
       "min                      0.000            0.000                 0.000  \n",
       "25%                      0.000          225.020                 0.000  \n",
       "50%                      0.000          568.700                 0.000  \n",
       "75%                      0.000         3449.470                 0.000  \n",
       "max                   7002.190        36115.200                 2.000  "
      ]
     },
     "execution_count": 17,
     "metadata": {},
     "output_type": "execute_result"
    },
    {
     "data": {
      "application/javascript": [
       "\n",
       "            setTimeout(function() {\n",
       "                var nbb_cell_id = 17;\n",
       "                var nbb_formatted_code = \"loan_df_clean.describe()\";\n",
       "                var nbb_cells = Jupyter.notebook.get_cells();\n",
       "                for (var i = 0; i < nbb_cells.length; ++i) {\n",
       "                    if (nbb_cells[i].input_prompt_number == nbb_cell_id) {\n",
       "                        nbb_cells[i].set_text(nbb_formatted_code);\n",
       "                        break;\n",
       "                    }\n",
       "                }\n",
       "            }, 500);\n",
       "            "
      ],
      "text/plain": [
       "<IPython.core.display.Javascript object>"
      ]
     },
     "metadata": {},
     "output_type": "display_data"
    }
   ],
   "source": [
    "loan_df_clean.describe()"
   ]
  },
  {
   "cell_type": "markdown",
   "metadata": {},
   "source": [
    "#### _As we can analyse that there's presence of outlier in annual_inc,revol_bal,total_rec_int,last_pymnt_amnt, hence these columns are worth looking into_\n",
    "\n",
    "Also there are some column where frequence distribution is zero as each value occurs only once or twice, so we are ignoring such values in outlier treatment. for ex. delinq_2yrs,pub_rec, out_prncp, out_prncp_inv"
   ]
  },
  {
   "cell_type": "markdown",
   "metadata": {},
   "source": [
    "#### Outlier Treatment :"
   ]
  },
  {
   "cell_type": "code",
   "execution_count": 18,
   "metadata": {},
   "outputs": [
    {
     "data": {
      "text/plain": [
       "<matplotlib.axes._subplots.AxesSubplot at 0x24f083b0dd8>"
      ]
     },
     "execution_count": 18,
     "metadata": {},
     "output_type": "execute_result"
    },
    {
     "data": {
      "image/png": "[encoded data removed]",
      "text/plain": [
       "<Figure size 1080x360 with 2 Axes>"
      ]
     },
     "metadata": {
      "needs_background": "light"
     },
     "output_type": "display_data"
    },
    {
     "data": {
      "image/png": "[encoded data removed]",
      "text/plain": [
       "<Figure size 1080x360 with 2 Axes>"
      ]
     },
     "metadata": {
      "needs_background": "light"
     },
     "output_type": "display_data"
    },
    {
     "data": {
      "image/png": "[encoded data removed]",
      "text/plain": [
       "<Figure size 1296x360 with 3 Axes>"
      ]
     },
     "metadata": {
      "needs_background": "light"
     },
     "output_type": "display_data"
    },
    {
     "data": {
      "application/javascript": [
       "\n",
       "            setTimeout(function() {\n",
       "                var nbb_cell_id = 18;\n",
       "                var nbb_formatted_code = \"plt.figure(1, figsize=(15, 5))\\nplt.subplot(1, 2, 1)\\nsns.boxplot(y=loan_df_clean[\\\"annual_inc\\\"])\\nplt.subplot(1, 2, 2)\\nsns.boxplot(y=loan_df_clean[\\\"revol_bal\\\"])\\n\\nplt.figure(2, figsize=(15, 5))\\nplt.subplot(1, 2, 1)\\nsns.boxplot(y=loan_df_clean[\\\"total_rec_int\\\"])\\nplt.subplot(1, 2, 2)\\nsns.boxplot(y=loan_df_clean[\\\"last_pymnt_amnt\\\"])\\n\\nplt.figure(3, figsize=(18, 5))\\nplt.subplot(1, 3, 1)\\nsns.boxplot(y=loan_df_clean[\\\"loan_amnt\\\"])\\nplt.subplot(1, 3, 2)\\nsns.boxplot(y=loan_df_clean[\\\"total_pymnt\\\"])\\nplt.subplot(1, 3, 3)\\nsns.boxplot(y=loan_df_clean[\\\"funded_amnt\\\"])\";\n",
       "                var nbb_cells = Jupyter.notebook.get_cells();\n",
       "                for (var i = 0; i < nbb_cells.length; ++i) {\n",
       "                    if (nbb_cells[i].input_prompt_number == nbb_cell_id) {\n",
       "                        nbb_cells[i].set_text(nbb_formatted_code);\n",
       "                        break;\n",
       "                    }\n",
       "                }\n",
       "            }, 500);\n",
       "            "
      ],
      "text/plain": [
       "<IPython.core.display.Javascript object>"
      ]
     },
     "metadata": {},
     "output_type": "display_data"
    }
   ],
   "source": [
    "plt.figure(1, figsize=(15, 5))\n",
    "plt.subplot(1, 2, 1)\n",
    "sns.boxplot(y=loan_df_clean[\"annual_inc\"])\n",
    "plt.subplot(1, 2, 2)\n",
    "sns.boxplot(y=loan_df_clean[\"revol_bal\"])\n",
    "\n",
    "plt.figure(2, figsize=(15, 5))\n",
    "plt.subplot(1, 2, 1)\n",
    "sns.boxplot(y=loan_df_clean[\"total_rec_int\"])\n",
    "plt.subplot(1, 2, 2)\n",
    "sns.boxplot(y=loan_df_clean[\"last_pymnt_amnt\"])\n",
    "\n",
    "plt.figure(3, figsize=(18, 5))\n",
    "plt.subplot(1, 3, 1)\n",
    "sns.boxplot(y=loan_df_clean[\"loan_amnt\"])\n",
    "plt.subplot(1, 3, 2)\n",
    "sns.boxplot(y=loan_df_clean[\"total_pymnt\"])\n",
    "plt.subplot(1, 3, 3)\n",
    "sns.boxplot(y=loan_df_clean[\"funded_amnt\"])"
   ]
  },
  {
   "cell_type": "code",
   "execution_count": 19,
   "metadata": {},
   "outputs": [
    {
     "data": {
      "application/javascript": [
       "\n",
       "            setTimeout(function() {\n",
       "                var nbb_cell_id = 19;\n",
       "                var nbb_formatted_code = \"def PercentageLossbyCutOffValue(dataframe, columnName, cutOff):\\n    print(\\n        len(dataframe[columnName].loc[loan_df_clean[columnName] > cutOff])\\n        / len(loan_df_clean)\\n        * 100\\n    )\";\n",
       "                var nbb_cells = Jupyter.notebook.get_cells();\n",
       "                for (var i = 0; i < nbb_cells.length; ++i) {\n",
       "                    if (nbb_cells[i].input_prompt_number == nbb_cell_id) {\n",
       "                        nbb_cells[i].set_text(nbb_formatted_code);\n",
       "                        break;\n",
       "                    }\n",
       "                }\n",
       "            }, 500);\n",
       "            "
      ],
      "text/plain": [
       "<IPython.core.display.Javascript object>"
      ]
     },
     "metadata": {},
     "output_type": "display_data"
    }
   ],
   "source": [
    "def PercentageLossbyCutOffValue(dataframe, columnName, cutOff):\n",
    "    print(\n",
    "        len(dataframe[columnName].loc[loan_df_clean[columnName] > cutOff])\n",
    "        / len(loan_df_clean)\n",
    "        * 100\n",
    "    )"
   ]
  },
  {
   "cell_type": "code",
   "execution_count": 20,
   "metadata": {},
   "outputs": [
    {
     "data": {
      "application/javascript": [
       "\n",
       "            setTimeout(function() {\n",
       "                var nbb_cell_id = 20;\n",
       "                var nbb_formatted_code = \"def DropRowsByCutOffValue(dataframe, columnName, cutOffValue):\\n    return loan_df_clean.loc[loan_df_clean[columnName] < cutOffValue]\";\n",
       "                var nbb_cells = Jupyter.notebook.get_cells();\n",
       "                for (var i = 0; i < nbb_cells.length; ++i) {\n",
       "                    if (nbb_cells[i].input_prompt_number == nbb_cell_id) {\n",
       "                        nbb_cells[i].set_text(nbb_formatted_code);\n",
       "                        break;\n",
       "                    }\n",
       "                }\n",
       "            }, 500);\n",
       "            "
      ],
      "text/plain": [
       "<IPython.core.display.Javascript object>"
      ]
     },
     "metadata": {},
     "output_type": "display_data"
    }
   ],
   "source": [
    "def DropRowsByCutOffValue(dataframe, columnName, cutOffValue):\n",
    "    return loan_df_clean.loc[loan_df_clean[columnName] < cutOffValue]"
   ]
  },
  {
   "cell_type": "code",
   "execution_count": 21,
   "metadata": {},
   "outputs": [
    {
     "name": "stdout",
     "output_type": "stream",
     "text": [
      "8.141287370180583\n"
     ]
    },
    {
     "data": {
      "application/javascript": [
       "\n",
       "            setTimeout(function() {\n",
       "                var nbb_cell_id = 21;\n",
       "                var nbb_formatted_code = \"cutOffValue = 120000\\ncolumn = \\\"annual_inc\\\"\\nPercentageLossbyCutOffValue(loan_df_clean, column, cutOffValue)\";\n",
       "                var nbb_cells = Jupyter.notebook.get_cells();\n",
       "                for (var i = 0; i < nbb_cells.length; ++i) {\n",
       "                    if (nbb_cells[i].input_prompt_number == nbb_cell_id) {\n",
       "                        nbb_cells[i].set_text(nbb_formatted_code);\n",
       "                        break;\n",
       "                    }\n",
       "                }\n",
       "            }, 500);\n",
       "            "
      ],
      "text/plain": [
       "<IPython.core.display.Javascript object>"
      ]
     },
     "metadata": {},
     "output_type": "display_data"
    }
   ],
   "source": [
    "cutOffValue = 120000\n",
    "column = \"annual_inc\"\n",
    "PercentageLossbyCutOffValue(loan_df_clean, column, cutOffValue)"
   ]
  },
  {
   "cell_type": "code",
   "execution_count": 22,
   "metadata": {},
   "outputs": [
    {
     "data": {
      "text/plain": [
       "<matplotlib.axes._subplots.AxesSubplot at 0x24f07d32cf8>"
      ]
     },
     "execution_count": 22,
     "metadata": {},
     "output_type": "execute_result"
    },
    {
     "data": {
      "image/png": "[encoded data removed]",
      "text/plain": [
       "<Figure size 432x288 with 1 Axes>"
      ]
     },
     "metadata": {
      "needs_background": "light"
     },
     "output_type": "display_data"
    },
    {
     "data": {
      "application/javascript": [
       "\n",
       "            setTimeout(function() {\n",
       "                var nbb_cell_id = 22;\n",
       "                var nbb_formatted_code = \"loan_df_clean = DropRowsByCutOffValue(loan_df_clean, column, cutOffValue)\\n# Plotting Frequency Plot\\nsns.distplot(loan_df_clean[column])\";\n",
       "                var nbb_cells = Jupyter.notebook.get_cells();\n",
       "                for (var i = 0; i < nbb_cells.length; ++i) {\n",
       "                    if (nbb_cells[i].input_prompt_number == nbb_cell_id) {\n",
       "                        nbb_cells[i].set_text(nbb_formatted_code);\n",
       "                        break;\n",
       "                    }\n",
       "                }\n",
       "            }, 500);\n",
       "            "
      ],
      "text/plain": [
       "<IPython.core.display.Javascript object>"
      ]
     },
     "metadata": {},
     "output_type": "display_data"
    }
   ],
   "source": [
    "loan_df_clean = DropRowsByCutOffValue(loan_df_clean, column, cutOffValue)\n",
    "# Plotting Frequency Plot\n",
    "sns.distplot(loan_df_clean[column])"
   ]
  },
  {
   "cell_type": "code",
   "execution_count": 23,
   "metadata": {},
   "outputs": [
    {
     "name": "stdout",
     "output_type": "stream",
     "text": [
      "1.8557698120050776\n"
     ]
    },
    {
     "data": {
      "application/javascript": [
       "\n",
       "            setTimeout(function() {\n",
       "                var nbb_cell_id = 23;\n",
       "                var nbb_formatted_code = \"column = \\\"revol_bal\\\"\\ncutOffValue = 50000\\nPercentageLossbyCutOffValue(loan_df_clean, column, cutOffValue)\";\n",
       "                var nbb_cells = Jupyter.notebook.get_cells();\n",
       "                for (var i = 0; i < nbb_cells.length; ++i) {\n",
       "                    if (nbb_cells[i].input_prompt_number == nbb_cell_id) {\n",
       "                        nbb_cells[i].set_text(nbb_formatted_code);\n",
       "                        break;\n",
       "                    }\n",
       "                }\n",
       "            }, 500);\n",
       "            "
      ],
      "text/plain": [
       "<IPython.core.display.Javascript object>"
      ]
     },
     "metadata": {},
     "output_type": "display_data"
    }
   ],
   "source": [
    "column = \"revol_bal\"\n",
    "cutOffValue = 50000\n",
    "PercentageLossbyCutOffValue(loan_df_clean, column, cutOffValue)"
   ]
  },
  {
   "cell_type": "code",
   "execution_count": 24,
   "metadata": {},
   "outputs": [
    {
     "data": {
      "text/plain": [
       "<matplotlib.axes._subplots.AxesSubplot at 0x24f080bbc18>"
      ]
     },
     "execution_count": 24,
     "metadata": {},
     "output_type": "execute_result"
    },
    {
     "data": {
      "image/png": "[encoded data removed]",
      "text/plain": [
       "<Figure size 432x288 with 1 Axes>"
      ]
     },
     "metadata": {
      "needs_background": "light"
     },
     "output_type": "display_data"
    },
    {
     "data": {
      "application/javascript": [
       "\n",
       "            setTimeout(function() {\n",
       "                var nbb_cell_id = 24;\n",
       "                var nbb_formatted_code = \"loan_df_clean = DropRowsByCutOffValue(loan_df_clean, column, cutOffValue)\\n# Plotting Frequency Plot\\nsns.distplot(loan_df_clean[column])\";\n",
       "                var nbb_cells = Jupyter.notebook.get_cells();\n",
       "                for (var i = 0; i < nbb_cells.length; ++i) {\n",
       "                    if (nbb_cells[i].input_prompt_number == nbb_cell_id) {\n",
       "                        nbb_cells[i].set_text(nbb_formatted_code);\n",
       "                        break;\n",
       "                    }\n",
       "                }\n",
       "            }, 500);\n",
       "            "
      ],
      "text/plain": [
       "<IPython.core.display.Javascript object>"
      ]
     },
     "metadata": {},
     "output_type": "display_data"
    }
   ],
   "source": [
    "loan_df_clean = DropRowsByCutOffValue(loan_df_clean, column, cutOffValue)\n",
    "# Plotting Frequency Plot\n",
    "sns.distplot(loan_df_clean[column])"
   ]
  },
  {
   "cell_type": "code",
   "execution_count": 25,
   "metadata": {},
   "outputs": [
    {
     "name": "stdout",
     "output_type": "stream",
     "text": [
      "0.9669869425966987\n"
     ]
    },
    {
     "data": {
      "application/javascript": [
       "\n",
       "            setTimeout(function() {\n",
       "                var nbb_cell_id = 25;\n",
       "                var nbb_formatted_code = \"column = \\\"total_rec_int\\\"\\ncutOffValue = 12000\\nPercentageLossbyCutOffValue(loan_df_clean, column, cutOffValue)\";\n",
       "                var nbb_cells = Jupyter.notebook.get_cells();\n",
       "                for (var i = 0; i < nbb_cells.length; ++i) {\n",
       "                    if (nbb_cells[i].input_prompt_number == nbb_cell_id) {\n",
       "                        nbb_cells[i].set_text(nbb_formatted_code);\n",
       "                        break;\n",
       "                    }\n",
       "                }\n",
       "            }, 500);\n",
       "            "
      ],
      "text/plain": [
       "<IPython.core.display.Javascript object>"
      ]
     },
     "metadata": {},
     "output_type": "display_data"
    }
   ],
   "source": [
    "column = \"total_rec_int\"\n",
    "cutOffValue = 12000\n",
    "PercentageLossbyCutOffValue(loan_df_clean, column, cutOffValue)"
   ]
  },
  {
   "cell_type": "code",
   "execution_count": 26,
   "metadata": {},
   "outputs": [
    {
     "data": {
      "text/plain": [
       "<matplotlib.axes._subplots.AxesSubplot at 0x24f0818b470>"
      ]
     },
     "execution_count": 26,
     "metadata": {},
     "output_type": "execute_result"
    },
    {
     "data": {
      "image/png": "[encoded data removed]",
      "text/plain": [
       "<Figure size 432x288 with 1 Axes>"
      ]
     },
     "metadata": {
      "needs_background": "light"
     },
     "output_type": "display_data"
    },
    {
     "data": {
      "application/javascript": [
       "\n",
       "            setTimeout(function() {\n",
       "                var nbb_cell_id = 26;\n",
       "                var nbb_formatted_code = \"loan_df_clean = DropRowsByCutOffValue(loan_df_clean, column, cutOffValue)\\n# Plotting Frequency Plot\\nsns.distplot(loan_df_clean[column])\";\n",
       "                var nbb_cells = Jupyter.notebook.get_cells();\n",
       "                for (var i = 0; i < nbb_cells.length; ++i) {\n",
       "                    if (nbb_cells[i].input_prompt_number == nbb_cell_id) {\n",
       "                        nbb_cells[i].set_text(nbb_formatted_code);\n",
       "                        break;\n",
       "                    }\n",
       "                }\n",
       "            }, 500);\n",
       "            "
      ],
      "text/plain": [
       "<IPython.core.display.Javascript object>"
      ]
     },
     "metadata": {},
     "output_type": "display_data"
    }
   ],
   "source": [
    "loan_df_clean = DropRowsByCutOffValue(loan_df_clean, column, cutOffValue)\n",
    "# Plotting Frequency Plot\n",
    "sns.distplot(loan_df_clean[column])"
   ]
  },
  {
   "cell_type": "code",
   "execution_count": 27,
   "metadata": {},
   "outputs": [
    {
     "name": "stdout",
     "output_type": "stream",
     "text": [
      "4.235338018533491\n"
     ]
    },
    {
     "data": {
      "application/javascript": [
       "\n",
       "            setTimeout(function() {\n",
       "                var nbb_cell_id = 27;\n",
       "                var nbb_formatted_code = \"column = \\\"last_pymnt_amnt\\\"\\ncutOffValue = 12000\\nPercentageLossbyCutOffValue(loan_df_clean, column, cutOffValue)\";\n",
       "                var nbb_cells = Jupyter.notebook.get_cells();\n",
       "                for (var i = 0; i < nbb_cells.length; ++i) {\n",
       "                    if (nbb_cells[i].input_prompt_number == nbb_cell_id) {\n",
       "                        nbb_cells[i].set_text(nbb_formatted_code);\n",
       "                        break;\n",
       "                    }\n",
       "                }\n",
       "            }, 500);\n",
       "            "
      ],
      "text/plain": [
       "<IPython.core.display.Javascript object>"
      ]
     },
     "metadata": {},
     "output_type": "display_data"
    }
   ],
   "source": [
    "column = \"last_pymnt_amnt\"\n",
    "cutOffValue = 12000\n",
    "PercentageLossbyCutOffValue(loan_df_clean, column, cutOffValue)"
   ]
  },
  {
   "cell_type": "code",
   "execution_count": 28,
   "metadata": {},
   "outputs": [
    {
     "data": {
      "text/plain": [
       "<matplotlib.axes._subplots.AxesSubplot at 0x24f07cfad68>"
      ]
     },
     "execution_count": 28,
     "metadata": {},
     "output_type": "execute_result"
    },
    {
     "data": {
      "image/png": "[encoded data removed]",
      "text/plain": [
       "<Figure size 432x288 with 1 Axes>"
      ]
     },
     "metadata": {
      "needs_background": "light"
     },
     "output_type": "display_data"
    },
    {
     "data": {
      "application/javascript": [
       "\n",
       "            setTimeout(function() {\n",
       "                var nbb_cell_id = 28;\n",
       "                var nbb_formatted_code = \"loan_df_clean = DropRowsByCutOffValue(loan_df_clean, column, cutOffValue)\\n# Plotting Frequency Plot\\nsns.distplot(loan_df_clean[column])\";\n",
       "                var nbb_cells = Jupyter.notebook.get_cells();\n",
       "                for (var i = 0; i < nbb_cells.length; ++i) {\n",
       "                    if (nbb_cells[i].input_prompt_number == nbb_cell_id) {\n",
       "                        nbb_cells[i].set_text(nbb_formatted_code);\n",
       "                        break;\n",
       "                    }\n",
       "                }\n",
       "            }, 500);\n",
       "            "
      ],
      "text/plain": [
       "<IPython.core.display.Javascript object>"
      ]
     },
     "metadata": {},
     "output_type": "display_data"
    }
   ],
   "source": [
    "loan_df_clean = DropRowsByCutOffValue(loan_df_clean, column, cutOffValue)\n",
    "# Plotting Frequency Plot\n",
    "sns.distplot(loan_df_clean[column])"
   ]
  },
  {
   "cell_type": "code",
   "execution_count": 29,
   "metadata": {},
   "outputs": [
    {
     "name": "stdout",
     "output_type": "stream",
     "text": [
      "1.4742174308351734\n"
     ]
    },
    {
     "data": {
      "application/javascript": [
       "\n",
       "            setTimeout(function() {\n",
       "                var nbb_cell_id = 29;\n",
       "                var nbb_formatted_code = \"column = \\\"loan_amnt\\\"\\ncutOffValue = 25000\\nPercentageLossbyCutOffValue(loan_df_clean, column, cutOffValue)\";\n",
       "                var nbb_cells = Jupyter.notebook.get_cells();\n",
       "                for (var i = 0; i < nbb_cells.length; ++i) {\n",
       "                    if (nbb_cells[i].input_prompt_number == nbb_cell_id) {\n",
       "                        nbb_cells[i].set_text(nbb_formatted_code);\n",
       "                        break;\n",
       "                    }\n",
       "                }\n",
       "            }, 500);\n",
       "            "
      ],
      "text/plain": [
       "<IPython.core.display.Javascript object>"
      ]
     },
     "metadata": {},
     "output_type": "display_data"
    }
   ],
   "source": [
    "column = \"loan_amnt\"\n",
    "cutOffValue = 25000\n",
    "PercentageLossbyCutOffValue(loan_df_clean, column, cutOffValue)"
   ]
  },
  {
   "cell_type": "code",
   "execution_count": 30,
   "metadata": {},
   "outputs": [
    {
     "data": {
      "text/plain": [
       "<matplotlib.axes._subplots.AxesSubplot at 0x24f081d6cf8>"
      ]
     },
     "execution_count": 30,
     "metadata": {},
     "output_type": "execute_result"
    },
    {
     "data": {
      "image/png": "[encoded data removed]",
      "text/plain": [
       "<Figure size 432x288 with 1 Axes>"
      ]
     },
     "metadata": {
      "needs_background": "light"
     },
     "output_type": "display_data"
    },
    {
     "data": {
      "application/javascript": [
       "\n",
       "            setTimeout(function() {\n",
       "                var nbb_cell_id = 30;\n",
       "                var nbb_formatted_code = \"loan_df_clean = DropRowsByCutOffValue(loan_df_clean, column, cutOffValue)\\n# Plotting Frequency Plot\\nsns.distplot(loan_df_clean[column])\";\n",
       "                var nbb_cells = Jupyter.notebook.get_cells();\n",
       "                for (var i = 0; i < nbb_cells.length; ++i) {\n",
       "                    if (nbb_cells[i].input_prompt_number == nbb_cell_id) {\n",
       "                        nbb_cells[i].set_text(nbb_formatted_code);\n",
       "                        break;\n",
       "                    }\n",
       "                }\n",
       "            }, 500);\n",
       "            "
      ],
      "text/plain": [
       "<IPython.core.display.Javascript object>"
      ]
     },
     "metadata": {},
     "output_type": "display_data"
    }
   ],
   "source": [
    "loan_df_clean = DropRowsByCutOffValue(loan_df_clean, column, cutOffValue)\n",
    "# Plotting Frequency Plot\n",
    "sns.distplot(loan_df_clean[column])"
   ]
  },
  {
   "cell_type": "code",
   "execution_count": 31,
   "metadata": {},
   "outputs": [
    {
     "data": {
      "text/html": [
       "<div>\n",
       "<style scoped>\n",
       "    .dataframe tbody tr th:only-of-type {\n",
       "        vertical-align: middle;\n",
       "    }\n",
       "\n",
       "    .dataframe tbody tr th {\n",
       "        vertical-align: top;\n",
       "    }\n",
       "\n",
       "    .dataframe thead th {\n",
       "        text-align: right;\n",
       "    }\n",
       "</style>\n",
       "<table border=\"1\" class=\"dataframe\">\n",
       "  <thead>\n",
       "    <tr style=\"text-align: right;\">\n",
       "      <th></th>\n",
       "      <th>loan_amnt</th>\n",
       "      <th>funded_amnt</th>\n",
       "      <th>funded_amnt_inv</th>\n",
       "      <th>installment</th>\n",
       "      <th>annual_inc</th>\n",
       "      <th>dti</th>\n",
       "      <th>delinq_2yrs</th>\n",
       "      <th>inq_last_6mths</th>\n",
       "      <th>open_acc</th>\n",
       "      <th>pub_rec</th>\n",
       "      <th>revol_bal</th>\n",
       "      <th>total_acc</th>\n",
       "      <th>out_prncp</th>\n",
       "      <th>out_prncp_inv</th>\n",
       "      <th>total_pymnt</th>\n",
       "      <th>total_pymnt_inv</th>\n",
       "      <th>total_rec_prncp</th>\n",
       "      <th>total_rec_int</th>\n",
       "      <th>total_rec_late_fee</th>\n",
       "      <th>recoveries</th>\n",
       "      <th>collection_recovery_fee</th>\n",
       "      <th>last_pymnt_amnt</th>\n",
       "      <th>pub_rec_bankruptcies</th>\n",
       "    </tr>\n",
       "  </thead>\n",
       "  <tbody>\n",
       "    <tr>\n",
       "      <th>count</th>\n",
       "      <td>29743.000</td>\n",
       "      <td>29743.000</td>\n",
       "      <td>29743.000</td>\n",
       "      <td>29743.000</td>\n",
       "      <td>29743.000</td>\n",
       "      <td>29743.000</td>\n",
       "      <td>29743.000</td>\n",
       "      <td>29743.000</td>\n",
       "      <td>29743.000</td>\n",
       "      <td>29743.000</td>\n",
       "      <td>29743.000</td>\n",
       "      <td>29743.000</td>\n",
       "      <td>29743.000</td>\n",
       "      <td>29743.000</td>\n",
       "      <td>29743.000</td>\n",
       "      <td>29743.000</td>\n",
       "      <td>29743.000</td>\n",
       "      <td>29743.000</td>\n",
       "      <td>29743.000</td>\n",
       "      <td>29743.000</td>\n",
       "      <td>29743.000</td>\n",
       "      <td>29743.000</td>\n",
       "      <td>29743.000</td>\n",
       "    </tr>\n",
       "    <tr>\n",
       "      <th>mean</th>\n",
       "      <td>9312.706</td>\n",
       "      <td>9151.341</td>\n",
       "      <td>8803.873</td>\n",
       "      <td>275.165</td>\n",
       "      <td>56128.495</td>\n",
       "      <td>13.551</td>\n",
       "      <td>0.145</td>\n",
       "      <td>0.853</td>\n",
       "      <td>9.003</td>\n",
       "      <td>0.059</td>\n",
       "      <td>10157.542</td>\n",
       "      <td>20.827</td>\n",
       "      <td>33.771</td>\n",
       "      <td>33.638</td>\n",
       "      <td>10081.690</td>\n",
       "      <td>9707.468</td>\n",
       "      <td>8199.743</td>\n",
       "      <td>1809.925</td>\n",
       "      <td>1.229</td>\n",
       "      <td>70.794</td>\n",
       "      <td>8.706</td>\n",
       "      <td>1845.596</td>\n",
       "      <td>0.045</td>\n",
       "    </tr>\n",
       "    <tr>\n",
       "      <th>std</th>\n",
       "      <td>5337.500</td>\n",
       "      <td>5194.652</td>\n",
       "      <td>5154.426</td>\n",
       "      <td>156.383</td>\n",
       "      <td>23058.891</td>\n",
       "      <td>6.664</td>\n",
       "      <td>0.492</td>\n",
       "      <td>1.046</td>\n",
       "      <td>4.262</td>\n",
       "      <td>0.245</td>\n",
       "      <td>9087.333</td>\n",
       "      <td>10.865</td>\n",
       "      <td>258.138</td>\n",
       "      <td>257.240</td>\n",
       "      <td>6538.078</td>\n",
       "      <td>6468.998</td>\n",
       "      <td>5209.227</td>\n",
       "      <td>1807.938</td>\n",
       "      <td>6.418</td>\n",
       "      <td>499.630</td>\n",
       "      <td>110.633</td>\n",
       "      <td>2642.884</td>\n",
       "      <td>0.208</td>\n",
       "    </tr>\n",
       "    <tr>\n",
       "      <th>min</th>\n",
       "      <td>725.000</td>\n",
       "      <td>725.000</td>\n",
       "      <td>0.000</td>\n",
       "      <td>19.870</td>\n",
       "      <td>4000.000</td>\n",
       "      <td>0.000</td>\n",
       "      <td>0.000</td>\n",
       "      <td>0.000</td>\n",
       "      <td>2.000</td>\n",
       "      <td>0.000</td>\n",
       "      <td>0.000</td>\n",
       "      <td>2.000</td>\n",
       "      <td>0.000</td>\n",
       "      <td>0.000</td>\n",
       "      <td>0.000</td>\n",
       "      <td>0.000</td>\n",
       "      <td>0.000</td>\n",
       "      <td>0.000</td>\n",
       "      <td>0.000</td>\n",
       "      <td>0.000</td>\n",
       "      <td>0.000</td>\n",
       "      <td>0.000</td>\n",
       "      <td>0.000</td>\n",
       "    </tr>\n",
       "    <tr>\n",
       "      <th>25%</th>\n",
       "      <td>5000.000</td>\n",
       "      <td>5000.000</td>\n",
       "      <td>4950.000</td>\n",
       "      <td>156.410</td>\n",
       "      <td>39000.000</td>\n",
       "      <td>8.450</td>\n",
       "      <td>0.000</td>\n",
       "      <td>0.000</td>\n",
       "      <td>6.000</td>\n",
       "      <td>0.000</td>\n",
       "      <td>3355.500</td>\n",
       "      <td>13.000</td>\n",
       "      <td>0.000</td>\n",
       "      <td>0.000</td>\n",
       "      <td>5184.109</td>\n",
       "      <td>4851.635</td>\n",
       "      <td>4000.000</td>\n",
       "      <td>613.940</td>\n",
       "      <td>0.000</td>\n",
       "      <td>0.000</td>\n",
       "      <td>0.000</td>\n",
       "      <td>200.505</td>\n",
       "      <td>0.000</td>\n",
       "    </tr>\n",
       "    <tr>\n",
       "      <th>50%</th>\n",
       "      <td>8125.000</td>\n",
       "      <td>8000.000</td>\n",
       "      <td>8000.000</td>\n",
       "      <td>248.990</td>\n",
       "      <td>53000.000</td>\n",
       "      <td>13.680</td>\n",
       "      <td>0.000</td>\n",
       "      <td>1.000</td>\n",
       "      <td>8.000</td>\n",
       "      <td>0.000</td>\n",
       "      <td>7796.000</td>\n",
       "      <td>19.000</td>\n",
       "      <td>0.000</td>\n",
       "      <td>0.000</td>\n",
       "      <td>8727.957</td>\n",
       "      <td>8346.900</td>\n",
       "      <td>7200.000</td>\n",
       "      <td>1205.120</td>\n",
       "      <td>0.000</td>\n",
       "      <td>0.000</td>\n",
       "      <td>0.000</td>\n",
       "      <td>454.160</td>\n",
       "      <td>0.000</td>\n",
       "    </tr>\n",
       "    <tr>\n",
       "      <th>75%</th>\n",
       "      <td>12300.000</td>\n",
       "      <td>12000.000</td>\n",
       "      <td>12000.000</td>\n",
       "      <td>366.860</td>\n",
       "      <td>71000.000</td>\n",
       "      <td>18.850</td>\n",
       "      <td>0.000</td>\n",
       "      <td>1.000</td>\n",
       "      <td>11.000</td>\n",
       "      <td>0.000</td>\n",
       "      <td>14263.500</td>\n",
       "      <td>27.000</td>\n",
       "      <td>0.000</td>\n",
       "      <td>0.000</td>\n",
       "      <td>13864.676</td>\n",
       "      <td>13429.170</td>\n",
       "      <td>12000.000</td>\n",
       "      <td>2342.340</td>\n",
       "      <td>0.000</td>\n",
       "      <td>0.000</td>\n",
       "      <td>0.000</td>\n",
       "      <td>2578.870</td>\n",
       "      <td>0.000</td>\n",
       "    </tr>\n",
       "    <tr>\n",
       "      <th>max</th>\n",
       "      <td>24925.000</td>\n",
       "      <td>24925.000</td>\n",
       "      <td>24900.000</td>\n",
       "      <td>902.540</td>\n",
       "      <td>119976.000</td>\n",
       "      <td>29.990</td>\n",
       "      <td>11.000</td>\n",
       "      <td>8.000</td>\n",
       "      <td>38.000</td>\n",
       "      <td>4.000</td>\n",
       "      <td>49898.000</td>\n",
       "      <td>87.000</td>\n",
       "      <td>4064.350</td>\n",
       "      <td>4064.350</td>\n",
       "      <td>35948.659</td>\n",
       "      <td>35898.780</td>\n",
       "      <td>24925.000</td>\n",
       "      <td>11996.400</td>\n",
       "      <td>165.690</td>\n",
       "      <td>21810.310</td>\n",
       "      <td>5569.920</td>\n",
       "      <td>11999.680</td>\n",
       "      <td>2.000</td>\n",
       "    </tr>\n",
       "  </tbody>\n",
       "</table>\n",
       "</div>"
      ],
      "text/plain": [
       "       loan_amnt  funded_amnt  funded_amnt_inv  installment  annual_inc  \\\n",
       "count  29743.000    29743.000        29743.000    29743.000   29743.000   \n",
       "mean    9312.706     9151.341         8803.873      275.165   56128.495   \n",
       "std     5337.500     5194.652         5154.426      156.383   23058.891   \n",
       "min      725.000      725.000            0.000       19.870    4000.000   \n",
       "25%     5000.000     5000.000         4950.000      156.410   39000.000   \n",
       "50%     8125.000     8000.000         8000.000      248.990   53000.000   \n",
       "75%    12300.000    12000.000        12000.000      366.860   71000.000   \n",
       "max    24925.000    24925.000        24900.000      902.540  119976.000   \n",
       "\n",
       "            dti  delinq_2yrs  inq_last_6mths  open_acc   pub_rec  revol_bal  \\\n",
       "count 29743.000    29743.000       29743.000 29743.000 29743.000  29743.000   \n",
       "mean     13.551        0.145           0.853     9.003     0.059  10157.542   \n",
       "std       6.664        0.492           1.046     4.262     0.245   9087.333   \n",
       "min       0.000        0.000           0.000     2.000     0.000      0.000   \n",
       "25%       8.450        0.000           0.000     6.000     0.000   3355.500   \n",
       "50%      13.680        0.000           1.000     8.000     0.000   7796.000   \n",
       "75%      18.850        0.000           1.000    11.000     0.000  14263.500   \n",
       "max      29.990       11.000           8.000    38.000     4.000  49898.000   \n",
       "\n",
       "       total_acc  out_prncp  out_prncp_inv  total_pymnt  total_pymnt_inv  \\\n",
       "count  29743.000  29743.000      29743.000    29743.000        29743.000   \n",
       "mean      20.827     33.771         33.638    10081.690         9707.468   \n",
       "std       10.865    258.138        257.240     6538.078         6468.998   \n",
       "min        2.000      0.000          0.000        0.000            0.000   \n",
       "25%       13.000      0.000          0.000     5184.109         4851.635   \n",
       "50%       19.000      0.000          0.000     8727.957         8346.900   \n",
       "75%       27.000      0.000          0.000    13864.676        13429.170   \n",
       "max       87.000   4064.350       4064.350    35948.659        35898.780   \n",
       "\n",
       "       total_rec_prncp  total_rec_int  total_rec_late_fee  recoveries  \\\n",
       "count        29743.000      29743.000           29743.000   29743.000   \n",
       "mean          8199.743       1809.925               1.229      70.794   \n",
       "std           5209.227       1807.938               6.418     499.630   \n",
       "min              0.000          0.000               0.000       0.000   \n",
       "25%           4000.000        613.940               0.000       0.000   \n",
       "50%           7200.000       1205.120               0.000       0.000   \n",
       "75%          12000.000       2342.340               0.000       0.000   \n",
       "max          24925.000      11996.400             165.690   21810.310   \n",
       "\n",
       "       collection_recovery_fee  last_pymnt_amnt  pub_rec_bankruptcies  \n",
       "count                29743.000        29743.000             29743.000  \n",
       "mean                     8.706         1845.596                 0.045  \n",
       "std                    110.633         2642.884                 0.208  \n",
       "min                      0.000            0.000                 0.000  \n",
       "25%                      0.000          200.505                 0.000  \n",
       "50%                      0.000          454.160                 0.000  \n",
       "75%                      0.000         2578.870                 0.000  \n",
       "max                   5569.920        11999.680                 2.000  "
      ]
     },
     "execution_count": 31,
     "metadata": {},
     "output_type": "execute_result"
    },
    {
     "data": {
      "application/javascript": [
       "\n",
       "            setTimeout(function() {\n",
       "                var nbb_cell_id = 31;\n",
       "                var nbb_formatted_code = \"loan_df_clean.describe()\";\n",
       "                var nbb_cells = Jupyter.notebook.get_cells();\n",
       "                for (var i = 0; i < nbb_cells.length; ++i) {\n",
       "                    if (nbb_cells[i].input_prompt_number == nbb_cell_id) {\n",
       "                        nbb_cells[i].set_text(nbb_formatted_code);\n",
       "                        break;\n",
       "                    }\n",
       "                }\n",
       "            }, 500);\n",
       "            "
      ],
      "text/plain": [
       "<IPython.core.display.Javascript object>"
      ]
     },
     "metadata": {},
     "output_type": "display_data"
    }
   ],
   "source": [
    "loan_df_clean.describe()"
   ]
  },
  {
   "cell_type": "code",
   "execution_count": 32,
   "metadata": {},
   "outputs": [
    {
     "data": {
      "text/plain": [
       "81.48320639964933"
      ]
     },
     "execution_count": 32,
     "metadata": {},
     "output_type": "execute_result"
    },
    {
     "data": {
      "application/javascript": [
       "\n",
       "            setTimeout(function() {\n",
       "                var nbb_cell_id = 32;\n",
       "                var nbb_formatted_code = \"len(loan_df_clean) / 36502 * 100\";\n",
       "                var nbb_cells = Jupyter.notebook.get_cells();\n",
       "                for (var i = 0; i < nbb_cells.length; ++i) {\n",
       "                    if (nbb_cells[i].input_prompt_number == nbb_cell_id) {\n",
       "                        nbb_cells[i].set_text(nbb_formatted_code);\n",
       "                        break;\n",
       "                    }\n",
       "                }\n",
       "            }, 500);\n",
       "            "
      ],
      "text/plain": [
       "<IPython.core.display.Javascript object>"
      ]
     },
     "metadata": {},
     "output_type": "display_data"
    }
   ],
   "source": [
    "len(loan_df_clean) / 36502 * 100"
   ]
  },
  {
   "cell_type": "markdown",
   "metadata": {},
   "source": [
    "**After Outerlier Treatment, we are still left with 81 % of data**"
   ]
  },
  {
   "cell_type": "markdown",
   "metadata": {},
   "source": [
    "Now Let's do some data prepration - there are some columns that can be converted to get more meaningful insights from data."
   ]
  },
  {
   "cell_type": "markdown",
   "metadata": {},
   "source": [
    "## Data Conversion and Derived Variables"
   ]
  },
  {
   "cell_type": "code",
   "execution_count": 33,
   "metadata": {},
   "outputs": [
    {
     "data": {
      "text/html": [
       "<div>\n",
       "<style scoped>\n",
       "    .dataframe tbody tr th:only-of-type {\n",
       "        vertical-align: middle;\n",
       "    }\n",
       "\n",
       "    .dataframe tbody tr th {\n",
       "        vertical-align: top;\n",
       "    }\n",
       "\n",
       "    .dataframe thead th {\n",
       "        text-align: right;\n",
       "    }\n",
       "</style>\n",
       "<table border=\"1\" class=\"dataframe\">\n",
       "  <thead>\n",
       "    <tr style=\"text-align: right;\">\n",
       "      <th></th>\n",
       "      <th>loan_amnt</th>\n",
       "      <th>funded_amnt</th>\n",
       "      <th>funded_amnt_inv</th>\n",
       "      <th>term</th>\n",
       "      <th>int_rate</th>\n",
       "      <th>installment</th>\n",
       "      <th>grade</th>\n",
       "      <th>sub_grade</th>\n",
       "      <th>emp_title</th>\n",
       "      <th>emp_length</th>\n",
       "      <th>home_ownership</th>\n",
       "      <th>annual_inc</th>\n",
       "      <th>verification_status</th>\n",
       "      <th>issue_d</th>\n",
       "      <th>loan_status</th>\n",
       "      <th>purpose</th>\n",
       "      <th>title</th>\n",
       "      <th>dti</th>\n",
       "      <th>delinq_2yrs</th>\n",
       "      <th>inq_last_6mths</th>\n",
       "      <th>open_acc</th>\n",
       "      <th>pub_rec</th>\n",
       "      <th>revol_bal</th>\n",
       "      <th>revol_util</th>\n",
       "      <th>total_acc</th>\n",
       "      <th>out_prncp</th>\n",
       "      <th>out_prncp_inv</th>\n",
       "      <th>total_pymnt</th>\n",
       "      <th>total_pymnt_inv</th>\n",
       "      <th>total_rec_prncp</th>\n",
       "      <th>total_rec_int</th>\n",
       "      <th>total_rec_late_fee</th>\n",
       "      <th>recoveries</th>\n",
       "      <th>collection_recovery_fee</th>\n",
       "      <th>last_pymnt_amnt</th>\n",
       "      <th>last_credit_pull_d</th>\n",
       "      <th>pub_rec_bankruptcies</th>\n",
       "    </tr>\n",
       "  </thead>\n",
       "  <tbody>\n",
       "    <tr>\n",
       "      <th>1</th>\n",
       "      <td>2500</td>\n",
       "      <td>2500</td>\n",
       "      <td>2500.000</td>\n",
       "      <td>60 months</td>\n",
       "      <td>15.27%</td>\n",
       "      <td>59.830</td>\n",
       "      <td>C</td>\n",
       "      <td>C4</td>\n",
       "      <td>Ryder</td>\n",
       "      <td>&lt; 1 year</td>\n",
       "      <td>RENT</td>\n",
       "      <td>30000.000</td>\n",
       "      <td>Source Verified</td>\n",
       "      <td>Dec-11</td>\n",
       "      <td>Charged Off</td>\n",
       "      <td>car</td>\n",
       "      <td>bike</td>\n",
       "      <td>1.000</td>\n",
       "      <td>0</td>\n",
       "      <td>5</td>\n",
       "      <td>3</td>\n",
       "      <td>0</td>\n",
       "      <td>1687</td>\n",
       "      <td>9.40%</td>\n",
       "      <td>4</td>\n",
       "      <td>0.000</td>\n",
       "      <td>0.000</td>\n",
       "      <td>1008.710</td>\n",
       "      <td>1008.710</td>\n",
       "      <td>456.460</td>\n",
       "      <td>435.170</td>\n",
       "      <td>0.000</td>\n",
       "      <td>117.080</td>\n",
       "      <td>1.110</td>\n",
       "      <td>119.660</td>\n",
       "      <td>Sep-13</td>\n",
       "      <td>0.000</td>\n",
       "    </tr>\n",
       "    <tr>\n",
       "      <th>3</th>\n",
       "      <td>10000</td>\n",
       "      <td>10000</td>\n",
       "      <td>10000.000</td>\n",
       "      <td>36 months</td>\n",
       "      <td>13.49%</td>\n",
       "      <td>339.310</td>\n",
       "      <td>C</td>\n",
       "      <td>C1</td>\n",
       "      <td>AIR RESOURCES BOARD</td>\n",
       "      <td>10+ years</td>\n",
       "      <td>RENT</td>\n",
       "      <td>49200.000</td>\n",
       "      <td>Source Verified</td>\n",
       "      <td>Dec-11</td>\n",
       "      <td>Fully Paid</td>\n",
       "      <td>other</td>\n",
       "      <td>personel</td>\n",
       "      <td>20.000</td>\n",
       "      <td>0</td>\n",
       "      <td>1</td>\n",
       "      <td>10</td>\n",
       "      <td>0</td>\n",
       "      <td>5598</td>\n",
       "      <td>21%</td>\n",
       "      <td>37</td>\n",
       "      <td>0.000</td>\n",
       "      <td>0.000</td>\n",
       "      <td>12231.890</td>\n",
       "      <td>12231.890</td>\n",
       "      <td>10000.000</td>\n",
       "      <td>2214.920</td>\n",
       "      <td>16.970</td>\n",
       "      <td>0.000</td>\n",
       "      <td>0.000</td>\n",
       "      <td>357.480</td>\n",
       "      <td>Apr-16</td>\n",
       "      <td>0.000</td>\n",
       "    </tr>\n",
       "    <tr>\n",
       "      <th>4</th>\n",
       "      <td>3000</td>\n",
       "      <td>3000</td>\n",
       "      <td>3000.000</td>\n",
       "      <td>60 months</td>\n",
       "      <td>12.69%</td>\n",
       "      <td>67.790</td>\n",
       "      <td>B</td>\n",
       "      <td>B5</td>\n",
       "      <td>University Medical Group</td>\n",
       "      <td>1 year</td>\n",
       "      <td>RENT</td>\n",
       "      <td>80000.000</td>\n",
       "      <td>Source Verified</td>\n",
       "      <td>Dec-11</td>\n",
       "      <td>Current</td>\n",
       "      <td>other</td>\n",
       "      <td>Personal</td>\n",
       "      <td>17.940</td>\n",
       "      <td>0</td>\n",
       "      <td>0</td>\n",
       "      <td>15</td>\n",
       "      <td>0</td>\n",
       "      <td>27783</td>\n",
       "      <td>53.90%</td>\n",
       "      <td>38</td>\n",
       "      <td>524.060</td>\n",
       "      <td>524.060</td>\n",
       "      <td>3513.330</td>\n",
       "      <td>3513.330</td>\n",
       "      <td>2475.940</td>\n",
       "      <td>1037.390</td>\n",
       "      <td>0.000</td>\n",
       "      <td>0.000</td>\n",
       "      <td>0.000</td>\n",
       "      <td>67.790</td>\n",
       "      <td>May-16</td>\n",
       "      <td>0.000</td>\n",
       "    </tr>\n",
       "  </tbody>\n",
       "</table>\n",
       "</div>"
      ],
      "text/plain": [
       "   loan_amnt  funded_amnt  funded_amnt_inv        term int_rate  installment  \\\n",
       "1       2500         2500         2500.000   60 months   15.27%       59.830   \n",
       "3      10000        10000        10000.000   36 months   13.49%      339.310   \n",
       "4       3000         3000         3000.000   60 months   12.69%       67.790   \n",
       "\n",
       "  grade sub_grade                 emp_title emp_length home_ownership  \\\n",
       "1     C        C4                     Ryder   < 1 year           RENT   \n",
       "3     C        C1       AIR RESOURCES BOARD  10+ years           RENT   \n",
       "4     B        B5  University Medical Group     1 year           RENT   \n",
       "\n",
       "   annual_inc verification_status issue_d  loan_status purpose     title  \\\n",
       "1   30000.000     Source Verified  Dec-11  Charged Off     car      bike   \n",
       "3   49200.000     Source Verified  Dec-11   Fully Paid   other  personel   \n",
       "4   80000.000     Source Verified  Dec-11      Current   other  Personal   \n",
       "\n",
       "     dti  delinq_2yrs  inq_last_6mths  open_acc  pub_rec  revol_bal  \\\n",
       "1  1.000            0               5         3        0       1687   \n",
       "3 20.000            0               1        10        0       5598   \n",
       "4 17.940            0               0        15        0      27783   \n",
       "\n",
       "  revol_util  total_acc  out_prncp  out_prncp_inv  total_pymnt  \\\n",
       "1      9.40%          4      0.000          0.000     1008.710   \n",
       "3        21%         37      0.000          0.000    12231.890   \n",
       "4     53.90%         38    524.060        524.060     3513.330   \n",
       "\n",
       "   total_pymnt_inv  total_rec_prncp  total_rec_int  total_rec_late_fee  \\\n",
       "1         1008.710          456.460        435.170               0.000   \n",
       "3        12231.890        10000.000       2214.920              16.970   \n",
       "4         3513.330         2475.940       1037.390               0.000   \n",
       "\n",
       "   recoveries  collection_recovery_fee  last_pymnt_amnt last_credit_pull_d  \\\n",
       "1     117.080                    1.110          119.660             Sep-13   \n",
       "3       0.000                    0.000          357.480             Apr-16   \n",
       "4       0.000                    0.000           67.790             May-16   \n",
       "\n",
       "   pub_rec_bankruptcies  \n",
       "1                 0.000  \n",
       "3                 0.000  \n",
       "4                 0.000  "
      ]
     },
     "execution_count": 33,
     "metadata": {},
     "output_type": "execute_result"
    },
    {
     "data": {
      "application/javascript": [
       "\n",
       "            setTimeout(function() {\n",
       "                var nbb_cell_id = 33;\n",
       "                var nbb_formatted_code = \"loan_df_clean.head(3)\";\n",
       "                var nbb_cells = Jupyter.notebook.get_cells();\n",
       "                for (var i = 0; i < nbb_cells.length; ++i) {\n",
       "                    if (nbb_cells[i].input_prompt_number == nbb_cell_id) {\n",
       "                        nbb_cells[i].set_text(nbb_formatted_code);\n",
       "                        break;\n",
       "                    }\n",
       "                }\n",
       "            }, 500);\n",
       "            "
      ],
      "text/plain": [
       "<IPython.core.display.Javascript object>"
      ]
     },
     "metadata": {},
     "output_type": "display_data"
    }
   ],
   "source": [
    "loan_df_clean.head(3)"
   ]
  },
  {
   "cell_type": "code",
   "execution_count": 34,
   "metadata": {},
   "outputs": [
    {
     "data": {
      "application/javascript": [
       "\n",
       "            setTimeout(function() {\n",
       "                var nbb_cell_id = 34;\n",
       "                var nbb_formatted_code = \"# Int_rate Can be converted to float for more insights\\nloan_df_clean.int_rate = (\\n    loan_df_clean.int_rate.str.rstrip(\\\"%\\\").astype(float)\\n    if loan_df_clean.int_rate.dtype != float\\n    else loan_df_clean.int_rate\\n)\";\n",
       "                var nbb_cells = Jupyter.notebook.get_cells();\n",
       "                for (var i = 0; i < nbb_cells.length; ++i) {\n",
       "                    if (nbb_cells[i].input_prompt_number == nbb_cell_id) {\n",
       "                        nbb_cells[i].set_text(nbb_formatted_code);\n",
       "                        break;\n",
       "                    }\n",
       "                }\n",
       "            }, 500);\n",
       "            "
      ],
      "text/plain": [
       "<IPython.core.display.Javascript object>"
      ]
     },
     "metadata": {},
     "output_type": "display_data"
    }
   ],
   "source": [
    "# Int_rate Can be converted to float for more insights\n",
    "loan_df_clean.int_rate = (\n",
    "    loan_df_clean.int_rate.str.rstrip(\"%\").astype(float)\n",
    "    if loan_df_clean.int_rate.dtype != float\n",
    "    else loan_df_clean.int_rate\n",
    ")"
   ]
  },
  {
   "cell_type": "code",
   "execution_count": 35,
   "metadata": {},
   "outputs": [
    {
     "data": {
      "text/plain": [
       "<matplotlib.axes._subplots.AxesSubplot at 0x24f081d62e8>"
      ]
     },
     "execution_count": 35,
     "metadata": {},
     "output_type": "execute_result"
    },
    {
     "data": {
      "image/png": "[encoded data removed]",
      "text/plain": [
       "<Figure size 432x288 with 1 Axes>"
      ]
     },
     "metadata": {
      "needs_background": "light"
     },
     "output_type": "display_data"
    },
    {
     "data": {
      "application/javascript": [
       "\n",
       "            setTimeout(function() {\n",
       "                var nbb_cell_id = 35;\n",
       "                var nbb_formatted_code = \"sns.distplot(loan_df_clean[\\\"int_rate\\\"])\";\n",
       "                var nbb_cells = Jupyter.notebook.get_cells();\n",
       "                for (var i = 0; i < nbb_cells.length; ++i) {\n",
       "                    if (nbb_cells[i].input_prompt_number == nbb_cell_id) {\n",
       "                        nbb_cells[i].set_text(nbb_formatted_code);\n",
       "                        break;\n",
       "                    }\n",
       "                }\n",
       "            }, 500);\n",
       "            "
      ],
      "text/plain": [
       "<IPython.core.display.Javascript object>"
      ]
     },
     "metadata": {},
     "output_type": "display_data"
    }
   ],
   "source": [
    "sns.distplot(loan_df_clean[\"int_rate\"])"
   ]
  },
  {
   "cell_type": "code",
   "execution_count": 36,
   "metadata": {},
   "outputs": [
    {
     "data": {
      "text/plain": [
       "count   29743.000\n",
       "mean       11.755\n",
       "std         3.569\n",
       "min         5.420\n",
       "25%         8.900\n",
       "50%        11.710\n",
       "75%        14.260\n",
       "max        24.400\n",
       "Name: int_rate, dtype: float64"
      ]
     },
     "execution_count": 36,
     "metadata": {},
     "output_type": "execute_result"
    },
    {
     "data": {
      "application/javascript": [
       "\n",
       "            setTimeout(function() {\n",
       "                var nbb_cell_id = 36;\n",
       "                var nbb_formatted_code = \"loan_df_clean[\\\"int_rate\\\"].describe()\";\n",
       "                var nbb_cells = Jupyter.notebook.get_cells();\n",
       "                for (var i = 0; i < nbb_cells.length; ++i) {\n",
       "                    if (nbb_cells[i].input_prompt_number == nbb_cell_id) {\n",
       "                        nbb_cells[i].set_text(nbb_formatted_code);\n",
       "                        break;\n",
       "                    }\n",
       "                }\n",
       "            }, 500);\n",
       "            "
      ],
      "text/plain": [
       "<IPython.core.display.Javascript object>"
      ]
     },
     "metadata": {},
     "output_type": "display_data"
    }
   ],
   "source": [
    "loan_df_clean[\"int_rate\"].describe()"
   ]
  },
  {
   "cell_type": "code",
   "execution_count": 37,
   "metadata": {},
   "outputs": [
    {
     "data": {
      "text/plain": [
       "<matplotlib.axes._subplots.AxesSubplot at 0x24f086f35c0>"
      ]
     },
     "execution_count": 37,
     "metadata": {},
     "output_type": "execute_result"
    },
    {
     "data": {
      "image/png": "[encoded data removed]",
      "text/plain": [
       "<Figure size 432x288 with 1 Axes>"
      ]
     },
     "metadata": {
      "needs_background": "light"
     },
     "output_type": "display_data"
    },
    {
     "data": {
      "application/javascript": [
       "\n",
       "            setTimeout(function() {\n",
       "                var nbb_cell_id = 37;\n",
       "                var nbb_formatted_code = \"# Create Int_rate Binning into Two Category - LOW & HIGH\\nloan_df_clean[\\\"int_rate_interval\\\"] = pd.cut(\\n    x=loan_df_clean[\\\"int_rate\\\"],\\n    bins=[0, 11, 25],\\n    include_lowest=True,\\n    labels=[\\\"Low\\\", \\\"High\\\"],\\n)\\nloan_df_clean[\\\"int_rate_interval\\\"].value_counts().plot(\\\"bar\\\")\";\n",
       "                var nbb_cells = Jupyter.notebook.get_cells();\n",
       "                for (var i = 0; i < nbb_cells.length; ++i) {\n",
       "                    if (nbb_cells[i].input_prompt_number == nbb_cell_id) {\n",
       "                        nbb_cells[i].set_text(nbb_formatted_code);\n",
       "                        break;\n",
       "                    }\n",
       "                }\n",
       "            }, 500);\n",
       "            "
      ],
      "text/plain": [
       "<IPython.core.display.Javascript object>"
      ]
     },
     "metadata": {},
     "output_type": "display_data"
    }
   ],
   "source": [
    "# Create Int_rate Binning into Two Category - LOW & HIGH\n",
    "loan_df_clean[\"int_rate_interval\"] = pd.cut(\n",
    "    x=loan_df_clean[\"int_rate\"],\n",
    "    bins=[0, 11, 25],\n",
    "    include_lowest=True,\n",
    "    labels=[\"Low\", \"High\"],\n",
    ")\n",
    "loan_df_clean[\"int_rate_interval\"].value_counts().plot(\"bar\")"
   ]
  },
  {
   "cell_type": "code",
   "execution_count": 95,
   "metadata": {},
   "outputs": [
    {
     "data": {
      "application/javascript": [
       "\n",
       "            setTimeout(function() {\n",
       "                var nbb_cell_id = 95;\n",
       "                var nbb_formatted_code = \"# Derive Month and year Column\\nloan_df_clean[\\\"issue_d\\\"] = pd.to_datetime(loan_df_clean[\\\"issue_d\\\"], format=\\\"%b-%y\\\")\\nloan_df_clean[\\\"issue_month\\\"] = loan_df_clean[\\\"issue_d\\\"].dt.month_name(locale=\\\"English\\\")\\nloan_df_clean[\\\"issue_year\\\"] = loan_df_clean[\\\"issue_d\\\"].dt.year\";\n",
       "                var nbb_cells = Jupyter.notebook.get_cells();\n",
       "                for (var i = 0; i < nbb_cells.length; ++i) {\n",
       "                    if (nbb_cells[i].input_prompt_number == nbb_cell_id) {\n",
       "                        nbb_cells[i].set_text(nbb_formatted_code);\n",
       "                        break;\n",
       "                    }\n",
       "                }\n",
       "            }, 500);\n",
       "            "
      ],
      "text/plain": [
       "<IPython.core.display.Javascript object>"
      ]
     },
     "metadata": {},
     "output_type": "display_data"
    }
   ],
   "source": [
    "# Derive Month and year Column\n",
    "loan_df_clean[\"issue_d\"] = pd.to_datetime(loan_df_clean[\"issue_d\"], format=\"%b-%y\")\n",
    "loan_df_clean[\"issue_month\"] = loan_df_clean[\"issue_d\"].dt.month_name(locale=\"English\")\n",
    "loan_df_clean[\"issue_year\"] = loan_df_clean[\"issue_d\"].dt.year"
   ]
  },
  {
   "cell_type": "code",
   "execution_count": 84,
   "metadata": {},
   "outputs": [
    {
     "data": {
      "application/javascript": [
       "\n",
       "            setTimeout(function() {\n",
       "                var nbb_cell_id = 84;\n",
       "                var nbb_formatted_code = \"# consider only data that are having loan-status as Full_Paid or Charged_Off\\n## Derived Column - loan_status_rate : that will give us defaulter rate\\nloan_df_clean = loan_df_clean.loc[loan_df_clean[\\\"loan_status\\\"] != \\\"Current\\\"]\\n\\nloan_df_clean[\\\"loan_status_rate\\\"] = loan_df_clean[\\\"loan_status\\\"].apply(\\n    lambda x: 0 if x == \\\"Fully Paid\\\" else 1\\n)\";\n",
       "                var nbb_cells = Jupyter.notebook.get_cells();\n",
       "                for (var i = 0; i < nbb_cells.length; ++i) {\n",
       "                    if (nbb_cells[i].input_prompt_number == nbb_cell_id) {\n",
       "                        nbb_cells[i].set_text(nbb_formatted_code);\n",
       "                        break;\n",
       "                    }\n",
       "                }\n",
       "            }, 500);\n",
       "            "
      ],
      "text/plain": [
       "<IPython.core.display.Javascript object>"
      ]
     },
     "metadata": {},
     "output_type": "display_data"
    }
   ],
   "source": [
    "# consider only data that are having loan-status as Full_Paid or Charged_Off\n",
    "## Derived Column - loan_status_rate : that will give us defaulter rate\n",
    "loan_df_clean = loan_df_clean.loc[loan_df_clean[\"loan_status\"] != \"Current\"]\n",
    "\n",
    "loan_df_clean[\"loan_status_rate\"] = loan_df_clean[\"loan_status\"].apply(\n",
    "    lambda x: 0 if x == \"Fully Paid\" else 1\n",
    ")"
   ]
  },
  {
   "cell_type": "code",
   "execution_count": 39,
   "metadata": {},
   "outputs": [
    {
     "data": {
      "application/javascript": [
       "\n",
       "            setTimeout(function() {\n",
       "                var nbb_cell_id = 39;\n",
       "                var nbb_formatted_code = \"# revol_util Can be converted to float for more insights\\nloan_df_clean.revol_util = (\\n    loan_df_clean.revol_util.str.rstrip(\\\"%\\\").astype(float)\\n    if loan_df_clean.revol_util.dtype != float\\n    else loan_df_clean.revol_util\\n)\";\n",
       "                var nbb_cells = Jupyter.notebook.get_cells();\n",
       "                for (var i = 0; i < nbb_cells.length; ++i) {\n",
       "                    if (nbb_cells[i].input_prompt_number == nbb_cell_id) {\n",
       "                        nbb_cells[i].set_text(nbb_formatted_code);\n",
       "                        break;\n",
       "                    }\n",
       "                }\n",
       "            }, 500);\n",
       "            "
      ],
      "text/plain": [
       "<IPython.core.display.Javascript object>"
      ]
     },
     "metadata": {},
     "output_type": "display_data"
    }
   ],
   "source": [
    "# revol_util Can be converted to float for more insights\n",
    "loan_df_clean.revol_util = (\n",
    "    loan_df_clean.revol_util.str.rstrip(\"%\").astype(float)\n",
    "    if loan_df_clean.revol_util.dtype != float\n",
    "    else loan_df_clean.revol_util\n",
    ")"
   ]
  },
  {
   "cell_type": "code",
   "execution_count": 40,
   "metadata": {},
   "outputs": [
    {
     "data": {
      "text/plain": [
       "<matplotlib.axes._subplots.AxesSubplot at 0x24f1007da58>"
      ]
     },
     "execution_count": 40,
     "metadata": {},
     "output_type": "execute_result"
    },
    {
     "data": {
      "image/png": "[encoded data removed]",
      "text/plain": [
       "<Figure size 432x288 with 1 Axes>"
      ]
     },
     "metadata": {
      "needs_background": "light"
     },
     "output_type": "display_data"
    },
    {
     "data": {
      "application/javascript": [
       "\n",
       "            setTimeout(function() {\n",
       "                var nbb_cell_id = 40;\n",
       "                var nbb_formatted_code = \"sns.distplot(loan_df_clean[\\\"revol_util\\\"])\";\n",
       "                var nbb_cells = Jupyter.notebook.get_cells();\n",
       "                for (var i = 0; i < nbb_cells.length; ++i) {\n",
       "                    if (nbb_cells[i].input_prompt_number == nbb_cell_id) {\n",
       "                        nbb_cells[i].set_text(nbb_formatted_code);\n",
       "                        break;\n",
       "                    }\n",
       "                }\n",
       "            }, 500);\n",
       "            "
      ],
      "text/plain": [
       "<IPython.core.display.Javascript object>"
      ]
     },
     "metadata": {},
     "output_type": "display_data"
    }
   ],
   "source": [
    "sns.distplot(loan_df_clean[\"revol_util\"])"
   ]
  },
  {
   "cell_type": "code",
   "execution_count": 41,
   "metadata": {},
   "outputs": [
    {
     "data": {
      "text/plain": [
       "count   29743.000\n",
       "mean       48.704\n",
       "std        28.122\n",
       "min         0.000\n",
       "25%        25.600\n",
       "50%        49.000\n",
       "75%        71.900\n",
       "max        99.900\n",
       "Name: revol_util, dtype: float64"
      ]
     },
     "execution_count": 41,
     "metadata": {},
     "output_type": "execute_result"
    },
    {
     "data": {
      "application/javascript": [
       "\n",
       "            setTimeout(function() {\n",
       "                var nbb_cell_id = 41;\n",
       "                var nbb_formatted_code = \"loan_df_clean[\\\"revol_util\\\"].describe()\";\n",
       "                var nbb_cells = Jupyter.notebook.get_cells();\n",
       "                for (var i = 0; i < nbb_cells.length; ++i) {\n",
       "                    if (nbb_cells[i].input_prompt_number == nbb_cell_id) {\n",
       "                        nbb_cells[i].set_text(nbb_formatted_code);\n",
       "                        break;\n",
       "                    }\n",
       "                }\n",
       "            }, 500);\n",
       "            "
      ],
      "text/plain": [
       "<IPython.core.display.Javascript object>"
      ]
     },
     "metadata": {},
     "output_type": "display_data"
    }
   ],
   "source": [
    "loan_df_clean[\"revol_util\"].describe()"
   ]
  },
  {
   "cell_type": "code",
   "execution_count": 42,
   "metadata": {},
   "outputs": [
    {
     "data": {
      "application/javascript": [
       "\n",
       "            setTimeout(function() {\n",
       "                var nbb_cell_id = 42;\n",
       "                var nbb_formatted_code = \"# Derive Month and Date Column\\nloan_df_clean[\\\"last_credit_pull_month\\\"] = loan_df_clean[\\\"last_credit_pull_d\\\"].str.split(\\n    \\\"-\\\", expand=True\\n)[0]\\nloan_df_clean[\\\"last_credit_pull_day\\\"] = loan_df_clean[\\\"last_credit_pull_d\\\"].str.split(\\n    \\\"-\\\", expand=True\\n)[1]\";\n",
       "                var nbb_cells = Jupyter.notebook.get_cells();\n",
       "                for (var i = 0; i < nbb_cells.length; ++i) {\n",
       "                    if (nbb_cells[i].input_prompt_number == nbb_cell_id) {\n",
       "                        nbb_cells[i].set_text(nbb_formatted_code);\n",
       "                        break;\n",
       "                    }\n",
       "                }\n",
       "            }, 500);\n",
       "            "
      ],
      "text/plain": [
       "<IPython.core.display.Javascript object>"
      ]
     },
     "metadata": {},
     "output_type": "display_data"
    }
   ],
   "source": [
    "# Derive Month and Date Column\n",
    "loan_df_clean[\"last_credit_pull_month\"] = loan_df_clean[\"last_credit_pull_d\"].str.split(\n",
    "    \"-\", expand=True\n",
    ")[0]\n",
    "loan_df_clean[\"last_credit_pull_day\"] = loan_df_clean[\"last_credit_pull_d\"].str.split(\n",
    "    \"-\", expand=True\n",
    ")[1]"
   ]
  },
  {
   "cell_type": "markdown",
   "metadata": {},
   "source": [
    "**Now as we have sufficient information, now let's proceed with Univariant Analysis**"
   ]
  },
  {
   "cell_type": "code",
   "execution_count": 43,
   "metadata": {},
   "outputs": [
    {
     "data": {
      "text/plain": [
       "<matplotlib.axes._subplots.AxesSubplot at 0x24f10428ef0>"
      ]
     },
     "execution_count": 43,
     "metadata": {},
     "output_type": "execute_result"
    },
    {
     "data": {
      "image/png": "[encoded data removed]",
      "text/plain": [
       "<Figure size 1224x288 with 3 Axes>"
      ]
     },
     "metadata": {
      "needs_background": "light"
     },
     "output_type": "display_data"
    },
    {
     "data": {
      "application/javascript": [
       "\n",
       "            setTimeout(function() {\n",
       "                var nbb_cell_id = 43;\n",
       "                var nbb_formatted_code = \"plt.figure(1, figsize=(17, 4))\\nplt.subplot(1, 3, 1)\\nsns.distplot(loan_df_clean[\\\"loan_amnt\\\"], color=\\\"y\\\")\\nplt.subplot(1, 3, 2)\\nsns.distplot(loan_df_clean[\\\"funded_amnt\\\"], color=\\\"g\\\")\\nplt.subplot(1, 3, 3)\\nsns.distplot(loan_df_clean[\\\"total_pymnt\\\"])\";\n",
       "                var nbb_cells = Jupyter.notebook.get_cells();\n",
       "                for (var i = 0; i < nbb_cells.length; ++i) {\n",
       "                    if (nbb_cells[i].input_prompt_number == nbb_cell_id) {\n",
       "                        nbb_cells[i].set_text(nbb_formatted_code);\n",
       "                        break;\n",
       "                    }\n",
       "                }\n",
       "            }, 500);\n",
       "            "
      ],
      "text/plain": [
       "<IPython.core.display.Javascript object>"
      ]
     },
     "metadata": {},
     "output_type": "display_data"
    }
   ],
   "source": [
    "plt.figure(1, figsize=(17, 4))\n",
    "plt.subplot(1, 3, 1)\n",
    "sns.distplot(loan_df_clean[\"loan_amnt\"], color=\"y\")\n",
    "plt.subplot(1, 3, 2)\n",
    "sns.distplot(loan_df_clean[\"funded_amnt\"], color=\"g\")\n",
    "plt.subplot(1, 3, 3)\n",
    "sns.distplot(loan_df_clean[\"total_pymnt\"])"
   ]
  },
  {
   "cell_type": "markdown",
   "metadata": {},
   "source": [
    "These variables are similarly distributed, which shows that there is an adequate balance between funding and credit."
   ]
  },
  {
   "cell_type": "code",
   "execution_count": 44,
   "metadata": {},
   "outputs": [
    {
     "data": {
      "text/html": [
       "<div>\n",
       "<style scoped>\n",
       "    .dataframe tbody tr th:only-of-type {\n",
       "        vertical-align: middle;\n",
       "    }\n",
       "\n",
       "    .dataframe tbody tr th {\n",
       "        vertical-align: top;\n",
       "    }\n",
       "\n",
       "    .dataframe thead th {\n",
       "        text-align: right;\n",
       "    }\n",
       "</style>\n",
       "<table border=\"1\" class=\"dataframe\">\n",
       "  <thead>\n",
       "    <tr style=\"text-align: right;\">\n",
       "      <th></th>\n",
       "      <th>loan_amnt</th>\n",
       "      <th>funded_amnt</th>\n",
       "      <th>funded_amnt_inv</th>\n",
       "      <th>term</th>\n",
       "      <th>int_rate</th>\n",
       "      <th>installment</th>\n",
       "      <th>grade</th>\n",
       "      <th>sub_grade</th>\n",
       "      <th>emp_title</th>\n",
       "      <th>emp_length</th>\n",
       "      <th>home_ownership</th>\n",
       "      <th>annual_inc</th>\n",
       "      <th>verification_status</th>\n",
       "      <th>issue_d</th>\n",
       "      <th>loan_status</th>\n",
       "      <th>purpose</th>\n",
       "      <th>title</th>\n",
       "      <th>dti</th>\n",
       "      <th>delinq_2yrs</th>\n",
       "      <th>inq_last_6mths</th>\n",
       "      <th>open_acc</th>\n",
       "      <th>pub_rec</th>\n",
       "      <th>revol_bal</th>\n",
       "      <th>revol_util</th>\n",
       "      <th>total_acc</th>\n",
       "      <th>out_prncp</th>\n",
       "      <th>out_prncp_inv</th>\n",
       "      <th>total_pymnt</th>\n",
       "      <th>total_pymnt_inv</th>\n",
       "      <th>total_rec_prncp</th>\n",
       "      <th>total_rec_int</th>\n",
       "      <th>total_rec_late_fee</th>\n",
       "      <th>recoveries</th>\n",
       "      <th>collection_recovery_fee</th>\n",
       "      <th>last_pymnt_amnt</th>\n",
       "      <th>last_credit_pull_d</th>\n",
       "      <th>pub_rec_bankruptcies</th>\n",
       "      <th>int_rate_interval</th>\n",
       "      <th>issue_month</th>\n",
       "      <th>issue_day</th>\n",
       "      <th>last_credit_pull_month</th>\n",
       "      <th>last_credit_pull_day</th>\n",
       "    </tr>\n",
       "  </thead>\n",
       "  <tbody>\n",
       "    <tr>\n",
       "      <th>1</th>\n",
       "      <td>2500</td>\n",
       "      <td>2500</td>\n",
       "      <td>2500.000</td>\n",
       "      <td>60 months</td>\n",
       "      <td>15.270</td>\n",
       "      <td>59.830</td>\n",
       "      <td>C</td>\n",
       "      <td>C4</td>\n",
       "      <td>Ryder</td>\n",
       "      <td>&lt; 1 year</td>\n",
       "      <td>RENT</td>\n",
       "      <td>30000.000</td>\n",
       "      <td>Source Verified</td>\n",
       "      <td>Dec-11</td>\n",
       "      <td>Charged Off</td>\n",
       "      <td>car</td>\n",
       "      <td>bike</td>\n",
       "      <td>1.000</td>\n",
       "      <td>0</td>\n",
       "      <td>5</td>\n",
       "      <td>3</td>\n",
       "      <td>0</td>\n",
       "      <td>1687</td>\n",
       "      <td>9.400</td>\n",
       "      <td>4</td>\n",
       "      <td>0.000</td>\n",
       "      <td>0.000</td>\n",
       "      <td>1008.710</td>\n",
       "      <td>1008.710</td>\n",
       "      <td>456.460</td>\n",
       "      <td>435.170</td>\n",
       "      <td>0.000</td>\n",
       "      <td>117.080</td>\n",
       "      <td>1.110</td>\n",
       "      <td>119.660</td>\n",
       "      <td>Sep-13</td>\n",
       "      <td>0.000</td>\n",
       "      <td>High</td>\n",
       "      <td>Dec</td>\n",
       "      <td>11</td>\n",
       "      <td>Sep</td>\n",
       "      <td>13</td>\n",
       "    </tr>\n",
       "    <tr>\n",
       "      <th>3</th>\n",
       "      <td>10000</td>\n",
       "      <td>10000</td>\n",
       "      <td>10000.000</td>\n",
       "      <td>36 months</td>\n",
       "      <td>13.490</td>\n",
       "      <td>339.310</td>\n",
       "      <td>C</td>\n",
       "      <td>C1</td>\n",
       "      <td>AIR RESOURCES BOARD</td>\n",
       "      <td>10+ years</td>\n",
       "      <td>RENT</td>\n",
       "      <td>49200.000</td>\n",
       "      <td>Source Verified</td>\n",
       "      <td>Dec-11</td>\n",
       "      <td>Fully Paid</td>\n",
       "      <td>other</td>\n",
       "      <td>personel</td>\n",
       "      <td>20.000</td>\n",
       "      <td>0</td>\n",
       "      <td>1</td>\n",
       "      <td>10</td>\n",
       "      <td>0</td>\n",
       "      <td>5598</td>\n",
       "      <td>21.000</td>\n",
       "      <td>37</td>\n",
       "      <td>0.000</td>\n",
       "      <td>0.000</td>\n",
       "      <td>12231.890</td>\n",
       "      <td>12231.890</td>\n",
       "      <td>10000.000</td>\n",
       "      <td>2214.920</td>\n",
       "      <td>16.970</td>\n",
       "      <td>0.000</td>\n",
       "      <td>0.000</td>\n",
       "      <td>357.480</td>\n",
       "      <td>Apr-16</td>\n",
       "      <td>0.000</td>\n",
       "      <td>High</td>\n",
       "      <td>Dec</td>\n",
       "      <td>11</td>\n",
       "      <td>Apr</td>\n",
       "      <td>16</td>\n",
       "    </tr>\n",
       "    <tr>\n",
       "      <th>4</th>\n",
       "      <td>3000</td>\n",
       "      <td>3000</td>\n",
       "      <td>3000.000</td>\n",
       "      <td>60 months</td>\n",
       "      <td>12.690</td>\n",
       "      <td>67.790</td>\n",
       "      <td>B</td>\n",
       "      <td>B5</td>\n",
       "      <td>University Medical Group</td>\n",
       "      <td>1 year</td>\n",
       "      <td>RENT</td>\n",
       "      <td>80000.000</td>\n",
       "      <td>Source Verified</td>\n",
       "      <td>Dec-11</td>\n",
       "      <td>Current</td>\n",
       "      <td>other</td>\n",
       "      <td>Personal</td>\n",
       "      <td>17.940</td>\n",
       "      <td>0</td>\n",
       "      <td>0</td>\n",
       "      <td>15</td>\n",
       "      <td>0</td>\n",
       "      <td>27783</td>\n",
       "      <td>53.900</td>\n",
       "      <td>38</td>\n",
       "      <td>524.060</td>\n",
       "      <td>524.060</td>\n",
       "      <td>3513.330</td>\n",
       "      <td>3513.330</td>\n",
       "      <td>2475.940</td>\n",
       "      <td>1037.390</td>\n",
       "      <td>0.000</td>\n",
       "      <td>0.000</td>\n",
       "      <td>0.000</td>\n",
       "      <td>67.790</td>\n",
       "      <td>May-16</td>\n",
       "      <td>0.000</td>\n",
       "      <td>High</td>\n",
       "      <td>Dec</td>\n",
       "      <td>11</td>\n",
       "      <td>May</td>\n",
       "      <td>16</td>\n",
       "    </tr>\n",
       "    <tr>\n",
       "      <th>5</th>\n",
       "      <td>5000</td>\n",
       "      <td>5000</td>\n",
       "      <td>5000.000</td>\n",
       "      <td>36 months</td>\n",
       "      <td>7.900</td>\n",
       "      <td>156.460</td>\n",
       "      <td>A</td>\n",
       "      <td>A4</td>\n",
       "      <td>Veolia Transportaton</td>\n",
       "      <td>3 years</td>\n",
       "      <td>RENT</td>\n",
       "      <td>36000.000</td>\n",
       "      <td>Source Verified</td>\n",
       "      <td>Dec-11</td>\n",
       "      <td>Fully Paid</td>\n",
       "      <td>wedding</td>\n",
       "      <td>My wedding loan I promise to pay back</td>\n",
       "      <td>11.200</td>\n",
       "      <td>0</td>\n",
       "      <td>3</td>\n",
       "      <td>9</td>\n",
       "      <td>0</td>\n",
       "      <td>7963</td>\n",
       "      <td>28.300</td>\n",
       "      <td>12</td>\n",
       "      <td>0.000</td>\n",
       "      <td>0.000</td>\n",
       "      <td>5632.210</td>\n",
       "      <td>5632.210</td>\n",
       "      <td>5000.000</td>\n",
       "      <td>632.210</td>\n",
       "      <td>0.000</td>\n",
       "      <td>0.000</td>\n",
       "      <td>0.000</td>\n",
       "      <td>161.030</td>\n",
       "      <td>Jan-16</td>\n",
       "      <td>0.000</td>\n",
       "      <td>Low</td>\n",
       "      <td>Dec</td>\n",
       "      <td>11</td>\n",
       "      <td>Jan</td>\n",
       "      <td>16</td>\n",
       "    </tr>\n",
       "  </tbody>\n",
       "</table>\n",
       "</div>"
      ],
      "text/plain": [
       "   loan_amnt  funded_amnt  funded_amnt_inv        term  int_rate  installment  \\\n",
       "1       2500         2500         2500.000   60 months    15.270       59.830   \n",
       "3      10000        10000        10000.000   36 months    13.490      339.310   \n",
       "4       3000         3000         3000.000   60 months    12.690       67.790   \n",
       "5       5000         5000         5000.000   36 months     7.900      156.460   \n",
       "\n",
       "  grade sub_grade                 emp_title emp_length home_ownership  \\\n",
       "1     C        C4                     Ryder   < 1 year           RENT   \n",
       "3     C        C1       AIR RESOURCES BOARD  10+ years           RENT   \n",
       "4     B        B5  University Medical Group     1 year           RENT   \n",
       "5     A        A4      Veolia Transportaton    3 years           RENT   \n",
       "\n",
       "   annual_inc verification_status issue_d  loan_status  purpose  \\\n",
       "1   30000.000     Source Verified  Dec-11  Charged Off      car   \n",
       "3   49200.000     Source Verified  Dec-11   Fully Paid    other   \n",
       "4   80000.000     Source Verified  Dec-11      Current    other   \n",
       "5   36000.000     Source Verified  Dec-11   Fully Paid  wedding   \n",
       "\n",
       "                                   title    dti  delinq_2yrs  inq_last_6mths  \\\n",
       "1                                   bike  1.000            0               5   \n",
       "3                               personel 20.000            0               1   \n",
       "4                               Personal 17.940            0               0   \n",
       "5  My wedding loan I promise to pay back 11.200            0               3   \n",
       "\n",
       "   open_acc  pub_rec  revol_bal  revol_util  total_acc  out_prncp  \\\n",
       "1         3        0       1687       9.400          4      0.000   \n",
       "3        10        0       5598      21.000         37      0.000   \n",
       "4        15        0      27783      53.900         38    524.060   \n",
       "5         9        0       7963      28.300         12      0.000   \n",
       "\n",
       "   out_prncp_inv  total_pymnt  total_pymnt_inv  total_rec_prncp  \\\n",
       "1          0.000     1008.710         1008.710          456.460   \n",
       "3          0.000    12231.890        12231.890        10000.000   \n",
       "4        524.060     3513.330         3513.330         2475.940   \n",
       "5          0.000     5632.210         5632.210         5000.000   \n",
       "\n",
       "   total_rec_int  total_rec_late_fee  recoveries  collection_recovery_fee  \\\n",
       "1        435.170               0.000     117.080                    1.110   \n",
       "3       2214.920              16.970       0.000                    0.000   \n",
       "4       1037.390               0.000       0.000                    0.000   \n",
       "5        632.210               0.000       0.000                    0.000   \n",
       "\n",
       "   last_pymnt_amnt last_credit_pull_d  pub_rec_bankruptcies int_rate_interval  \\\n",
       "1          119.660             Sep-13                 0.000              High   \n",
       "3          357.480             Apr-16                 0.000              High   \n",
       "4           67.790             May-16                 0.000              High   \n",
       "5          161.030             Jan-16                 0.000               Low   \n",
       "\n",
       "  issue_month issue_day last_credit_pull_month last_credit_pull_day  \n",
       "1         Dec        11                    Sep                   13  \n",
       "3         Dec        11                    Apr                   16  \n",
       "4         Dec        11                    May                   16  \n",
       "5         Dec        11                    Jan                   16  "
      ]
     },
     "execution_count": 44,
     "metadata": {},
     "output_type": "execute_result"
    },
    {
     "data": {
      "application/javascript": [
       "\n",
       "            setTimeout(function() {\n",
       "                var nbb_cell_id = 44;\n",
       "                var nbb_formatted_code = \"loan_df_clean.head(4)\";\n",
       "                var nbb_cells = Jupyter.notebook.get_cells();\n",
       "                for (var i = 0; i < nbb_cells.length; ++i) {\n",
       "                    if (nbb_cells[i].input_prompt_number == nbb_cell_id) {\n",
       "                        nbb_cells[i].set_text(nbb_formatted_code);\n",
       "                        break;\n",
       "                    }\n",
       "                }\n",
       "            }, 500);\n",
       "            "
      ],
      "text/plain": [
       "<IPython.core.display.Javascript object>"
      ]
     },
     "metadata": {},
     "output_type": "display_data"
    }
   ],
   "source": [
    "loan_df_clean.head(4)"
   ]
  },
  {
   "cell_type": "code",
   "execution_count": 85,
   "metadata": {},
   "outputs": [
    {
     "data": {
      "text/plain": [
       "<matplotlib.axes._subplots.AxesSubplot at 0x24f1d82e9e8>"
      ]
     },
     "execution_count": 85,
     "metadata": {},
     "output_type": "execute_result"
    },
    {
     "data": {
      "image/png": "[encoded data removed]",
      "text/plain": [
       "<Figure size 1080x288 with 3 Axes>"
      ]
     },
     "metadata": {
      "needs_background": "light"
     },
     "output_type": "display_data"
    },
    {
     "data": {
      "application/javascript": [
       "\n",
       "            setTimeout(function() {\n",
       "                var nbb_cell_id = 85;\n",
       "                var nbb_formatted_code = \"plt.figure(1, figsize=(15, 4))\\nplt.subplot(1, 3, 1)\\nloan_df_clean[\\\"term\\\"].value_counts().plot(\\\"bar\\\", title=\\\"Loan Duration\\\", color=\\\"y\\\")\\n\\nplt.subplot(1, 3, 2)\\nloan_df_clean[\\\"emp_length\\\"].value_counts().plot(\\n    \\\"bar\\\", title=\\\"employement Duration\\\", color=\\\"olivedrab\\\"\\n)\\n\\nplt.subplot(1, 3, 3)\\nloan_df_clean[\\\"grade\\\"].value_counts().plot(\\\"bar\\\", title=\\\"Loan Grade\\\")\";\n",
       "                var nbb_cells = Jupyter.notebook.get_cells();\n",
       "                for (var i = 0; i < nbb_cells.length; ++i) {\n",
       "                    if (nbb_cells[i].input_prompt_number == nbb_cell_id) {\n",
       "                        nbb_cells[i].set_text(nbb_formatted_code);\n",
       "                        break;\n",
       "                    }\n",
       "                }\n",
       "            }, 500);\n",
       "            "
      ],
      "text/plain": [
       "<IPython.core.display.Javascript object>"
      ]
     },
     "metadata": {},
     "output_type": "display_data"
    }
   ],
   "source": [
    "plt.figure(1, figsize=(15, 4))\n",
    "plt.subplot(1, 3, 1)\n",
    "loan_df_clean[\"term\"].value_counts().plot(\"bar\", title=\"Loan Duration\", color=\"y\")\n",
    "\n",
    "plt.subplot(1, 3, 2)\n",
    "loan_df_clean[\"emp_length\"].value_counts().plot(\n",
    "    \"bar\", title=\"employement Duration\", color=\"olivedrab\"\n",
    ")\n",
    "\n",
    "plt.subplot(1, 3, 3)\n",
    "loan_df_clean[\"grade\"].value_counts().plot(\"bar\", title=\"Loan Grade\")"
   ]
  },
  {
   "cell_type": "markdown",
   "metadata": {},
   "source": [
    "**Inference :**\n",
    "1. Most of the loan is taken for the duration of 3 year(36 month)\n",
    "2. People who are being employed for more than 10 years are more likely to take loan\n",
    "3. Most of loan is Given Grade between B, A & C respectively"
   ]
  },
  {
   "cell_type": "code",
   "execution_count": 86,
   "metadata": {},
   "outputs": [
    {
     "data": {
      "text/plain": [
       "<matplotlib.axes._subplots.AxesSubplot at 0x24f1d95bb70>"
      ]
     },
     "execution_count": 86,
     "metadata": {},
     "output_type": "execute_result"
    },
    {
     "data": {
      "image/png": "[encoded data removed]",
      "text/plain": [
       "<Figure size 1800x360 with 3 Axes>"
      ]
     },
     "metadata": {
      "needs_background": "light"
     },
     "output_type": "display_data"
    },
    {
     "data": {
      "application/javascript": [
       "\n",
       "            setTimeout(function() {\n",
       "                var nbb_cell_id = 86;\n",
       "                var nbb_formatted_code = \"plt.figure(1, figsize=(25, 5))\\nplt.subplot(1, 3, 1)\\nloan_df_clean[\\\"sub_grade\\\"].value_counts().plot(\\\"bar\\\", title=\\\"Loan Sub-Grade\\\")\\n\\nplt.subplot(1, 3, 2)\\nloan_df_clean[\\\"home_ownership\\\"].value_counts().plot(\\\"pie\\\", title=\\\"Home Ownership Staus\\\")\\n\\nplt.subplot(1, 3, 3)\\nloan_df_clean[\\\"verification_status\\\"].value_counts().plot(\\n    \\\"bar\\\", title=\\\"verification status\\\"\\n)\";\n",
       "                var nbb_cells = Jupyter.notebook.get_cells();\n",
       "                for (var i = 0; i < nbb_cells.length; ++i) {\n",
       "                    if (nbb_cells[i].input_prompt_number == nbb_cell_id) {\n",
       "                        nbb_cells[i].set_text(nbb_formatted_code);\n",
       "                        break;\n",
       "                    }\n",
       "                }\n",
       "            }, 500);\n",
       "            "
      ],
      "text/plain": [
       "<IPython.core.display.Javascript object>"
      ]
     },
     "metadata": {},
     "output_type": "display_data"
    }
   ],
   "source": [
    "plt.figure(1, figsize=(25, 5))\n",
    "plt.subplot(1, 3, 1)\n",
    "loan_df_clean[\"sub_grade\"].value_counts().plot(\"bar\", title=\"Loan Sub-Grade\")\n",
    "\n",
    "plt.subplot(1, 3, 2)\n",
    "loan_df_clean[\"home_ownership\"].value_counts().plot(\"pie\", title=\"Home Ownership Staus\")\n",
    "\n",
    "plt.subplot(1, 3, 3)\n",
    "loan_df_clean[\"verification_status\"].value_counts().plot(\n",
    "    \"bar\", title=\"verification status\"\n",
    ")"
   ]
  },
  {
   "cell_type": "markdown",
   "metadata": {},
   "source": [
    "**Inferences :**\n",
    "1. People who are taking loan are having their Home Ownership as Rent or in Mortgage\n",
    "2. Most of loan applications are not having their income source verified, this is worth looking into as it might lead to defaulter loan"
   ]
  },
  {
   "cell_type": "code",
   "execution_count": 98,
   "metadata": {},
   "outputs": [
    {
     "data": {
      "text/plain": [
       "<matplotlib.axes._subplots.AxesSubplot at 0x24f1edc7ac8>"
      ]
     },
     "execution_count": 98,
     "metadata": {},
     "output_type": "execute_result"
    },
    {
     "data": {
      "image/png": "[encoded data removed]",
      "text/plain": [
       "<Figure size 1008x360 with 3 Axes>"
      ]
     },
     "metadata": {
      "needs_background": "light"
     },
     "output_type": "display_data"
    },
    {
     "data": {
      "application/javascript": [
       "\n",
       "            setTimeout(function() {\n",
       "                var nbb_cell_id = 98;\n",
       "                var nbb_formatted_code = \"plt.figure(1, figsize=(14, 5))\\nplt.subplot(1, 3, 1)\\nloan_df_clean[\\\"loan_status\\\"].value_counts().plot(\\\"bar\\\", title=\\\"Loan Status\\\")\\n\\nplt.subplot(1, 3, 2)\\nloan_df_clean[\\\"issue_month\\\"].value_counts().plot(\\n    \\\"bar\\\", title=\\\"Loan Issue Month\\\", color=\\\"lightgreen\\\"\\n)\\n\\nplt.subplot(1, 3, 3)\\nloan_df_clean[\\\"last_credit_pull_month\\\"].value_counts().plot(\\n    \\\"bar\\\", title=\\\"Last Credit Pull Month\\\"\\n)\";\n",
       "                var nbb_cells = Jupyter.notebook.get_cells();\n",
       "                for (var i = 0; i < nbb_cells.length; ++i) {\n",
       "                    if (nbb_cells[i].input_prompt_number == nbb_cell_id) {\n",
       "                        nbb_cells[i].set_text(nbb_formatted_code);\n",
       "                        break;\n",
       "                    }\n",
       "                }\n",
       "            }, 500);\n",
       "            "
      ],
      "text/plain": [
       "<IPython.core.display.Javascript object>"
      ]
     },
     "metadata": {},
     "output_type": "display_data"
    }
   ],
   "source": [
    "plt.figure(1, figsize=(14, 5))\n",
    "plt.subplot(1, 3, 1)\n",
    "loan_df_clean[\"loan_status\"].value_counts().plot(\"bar\", title=\"Loan Status\")\n",
    "\n",
    "plt.subplot(1, 3, 2)\n",
    "loan_df_clean[\"issue_month\"].value_counts().plot(\n",
    "    \"bar\", title=\"Loan Issue Month\", color=\"lightgreen\"\n",
    ")\n",
    "\n",
    "plt.subplot(1, 3, 3)\n",
    "loan_df_clean[\"last_credit_pull_month\"].value_counts().plot(\n",
    "    \"bar\", title=\"Last Credit Pull Month\"\n",
    ")"
   ]
  },
  {
   "cell_type": "markdown",
   "metadata": {},
   "source": [
    "**Inference :**\n",
    "1. Loan Applications is increasing steadily from Jan to Dec\n",
    "2. Most of the loan  are having status Fully Paid but there are still considerable amount of loan application that are in Charged off state, we need to look into it.\n",
    "3. Frequency of Last Credit Pull Month - May is High"
   ]
  },
  {
   "cell_type": "markdown",
   "metadata": {},
   "source": [
    "## Segment Univariant Analysis EDA :"
   ]
  },
  {
   "cell_type": "code",
   "execution_count": 48,
   "metadata": {},
   "outputs": [
    {
     "name": "stdout",
     "output_type": "stream",
     "text": [
      "loan_status\n",
      "Charged Off     41569375\n",
      "Current          9701725\n",
      "Fully Paid     220917250\n",
      "Name: funded_amnt, dtype: int64\n"
     ]
    },
    {
     "data": {
      "text/plain": [
       "<matplotlib.axes._subplots.AxesSubplot at 0x24f09e1f320>"
      ]
     },
     "execution_count": 48,
     "metadata": {},
     "output_type": "execute_result"
    },
    {
     "data": {
      "image/png": "[encoded data removed]",
      "text/plain": [
       "<Figure size 432x288 with 1 Axes>"
      ]
     },
     "metadata": {
      "needs_background": "light"
     },
     "output_type": "display_data"
    },
    {
     "data": {
      "application/javascript": [
       "\n",
       "            setTimeout(function() {\n",
       "                var nbb_cell_id = 48;\n",
       "                var nbb_formatted_code = \"print(loan_df_clean.groupby(by=[\\\"loan_status\\\"])[\\\"funded_amnt\\\"].sum())\\nloan_df_clean.groupby(by=[\\\"loan_status\\\"])[\\\"funded_amnt\\\"].sum().plot(\\n    \\\"bar\\\", title=\\\"Total Loan Amount by Loan_Status\\\"\\n)\";\n",
       "                var nbb_cells = Jupyter.notebook.get_cells();\n",
       "                for (var i = 0; i < nbb_cells.length; ++i) {\n",
       "                    if (nbb_cells[i].input_prompt_number == nbb_cell_id) {\n",
       "                        nbb_cells[i].set_text(nbb_formatted_code);\n",
       "                        break;\n",
       "                    }\n",
       "                }\n",
       "            }, 500);\n",
       "            "
      ],
      "text/plain": [
       "<IPython.core.display.Javascript object>"
      ]
     },
     "metadata": {},
     "output_type": "display_data"
    }
   ],
   "source": [
    "print(loan_df_clean.groupby(by=[\"loan_status\"])[\"funded_amnt\"].sum())\n",
    "loan_df_clean.groupby(by=[\"loan_status\"])[\"funded_amnt\"].sum().plot(\n",
    "    \"bar\", title=\"Total Loan Amount by Loan_Status\"\n",
    ")"
   ]
  },
  {
   "cell_type": "markdown",
   "metadata": {},
   "source": [
    "There is significant loan_amount which is not getting paid, that leads to Loss to organization"
   ]
  },
  {
   "cell_type": "code",
   "execution_count": 55,
   "metadata": {},
   "outputs": [
    {
     "name": "stdout",
     "output_type": "stream",
     "text": [
      "grade\n",
      "A    63543050\n",
      "B    85061500\n",
      "C    56932000\n",
      "D    38213100\n",
      "E    19881875\n",
      "F     6713225\n",
      "G     1843600\n",
      "Name: funded_amnt, dtype: int64\n"
     ]
    },
    {
     "data": {
      "text/plain": [
       "<matplotlib.axes._subplots.AxesSubplot at 0x24f09cb1208>"
      ]
     },
     "execution_count": 55,
     "metadata": {},
     "output_type": "execute_result"
    },
    {
     "data": {
      "image/png": "[encoded data removed]",
      "text/plain": [
       "<Figure size 432x288 with 1 Axes>"
      ]
     },
     "metadata": {
      "needs_background": "light"
     },
     "output_type": "display_data"
    },
    {
     "data": {
      "application/javascript": [
       "\n",
       "            setTimeout(function() {\n",
       "                var nbb_cell_id = 55;\n",
       "                var nbb_formatted_code = \"print(loan_df_clean.groupby(by=[\\\"grade\\\"])[\\\"funded_amnt\\\"].sum())\\nloan_df_clean.groupby(by=[\\\"grade\\\", \\\"loan_status\\\"])[\\\"funded_amnt\\\"].sum().unstack().plot(\\n    kind=\\\"bar\\\", title=\\\"Total Loan Amount by Loan_Status\\\", stacked=True\\n)\";\n",
       "                var nbb_cells = Jupyter.notebook.get_cells();\n",
       "                for (var i = 0; i < nbb_cells.length; ++i) {\n",
       "                    if (nbb_cells[i].input_prompt_number == nbb_cell_id) {\n",
       "                        nbb_cells[i].set_text(nbb_formatted_code);\n",
       "                        break;\n",
       "                    }\n",
       "                }\n",
       "            }, 500);\n",
       "            "
      ],
      "text/plain": [
       "<IPython.core.display.Javascript object>"
      ]
     },
     "metadata": {},
     "output_type": "display_data"
    }
   ],
   "source": [
    "print(loan_df_clean.groupby(by=[\"grade\"])[\"funded_amnt\"].sum())\n",
    "loan_df_clean.groupby(by=[\"grade\", \"loan_status\"])[\"funded_amnt\"].sum().unstack().plot(\n",
    "    kind=\"bar\", title=\"Total Loan Amount by Loan_Status\", stacked=True\n",
    ")"
   ]
  },
  {
   "cell_type": "code",
   "execution_count": 59,
   "metadata": {},
   "outputs": [
    {
     "name": "stdout",
     "output_type": "stream",
     "text": [
      "verification_status\n",
      "Not Verified       109055125\n",
      "Source Verified     69581500\n",
      "Verified            93551725\n",
      "Name: funded_amnt, dtype: int64\n"
     ]
    },
    {
     "data": {
      "text/plain": [
       "<matplotlib.axes._subplots.AxesSubplot at 0x24f0ff88470>"
      ]
     },
     "execution_count": 59,
     "metadata": {},
     "output_type": "execute_result"
    },
    {
     "data": {
      "image/png": "[encoded data removed]",
      "text/plain": [
       "<Figure size 432x288 with 1 Axes>"
      ]
     },
     "metadata": {
      "needs_background": "light"
     },
     "output_type": "display_data"
    },
    {
     "data": {
      "application/javascript": [
       "\n",
       "            setTimeout(function() {\n",
       "                var nbb_cell_id = 59;\n",
       "                var nbb_formatted_code = \"print(loan_df_clean.groupby(by=[\\\"verification_status\\\"])[\\\"funded_amnt\\\"].sum())\\nloan_df_clean.groupby(by=[\\\"verification_status\\\", \\\"loan_status\\\"])[\\n    \\\"funded_amnt\\\"\\n].sum().unstack().plot(\\n    kind=\\\"bar\\\", title=\\\"Total Loan Amount by verification status\\\", stacked=True\\n)\";\n",
       "                var nbb_cells = Jupyter.notebook.get_cells();\n",
       "                for (var i = 0; i < nbb_cells.length; ++i) {\n",
       "                    if (nbb_cells[i].input_prompt_number == nbb_cell_id) {\n",
       "                        nbb_cells[i].set_text(nbb_formatted_code);\n",
       "                        break;\n",
       "                    }\n",
       "                }\n",
       "            }, 500);\n",
       "            "
      ],
      "text/plain": [
       "<IPython.core.display.Javascript object>"
      ]
     },
     "metadata": {},
     "output_type": "display_data"
    }
   ],
   "source": [
    "print(loan_df_clean.groupby(by=[\"verification_status\"])[\"funded_amnt\"].sum())\n",
    "loan_df_clean.groupby(by=[\"verification_status\", \"loan_status\"])[\n",
    "    \"funded_amnt\"\n",
    "].sum().unstack().plot(\n",
    "    kind=\"bar\", title=\"Total Loan Amount by verification status\", stacked=True\n",
    ")"
   ]
  },
  {
   "cell_type": "code",
   "execution_count": 65,
   "metadata": {},
   "outputs": [
    {
     "data": {
      "text/plain": [
       "<matplotlib.axes._subplots.AxesSubplot at 0x24f136eca90>"
      ]
     },
     "execution_count": 65,
     "metadata": {},
     "output_type": "execute_result"
    },
    {
     "data": {
      "text/plain": [
       "<Figure size 576x720 with 0 Axes>"
      ]
     },
     "metadata": {},
     "output_type": "display_data"
    },
    {
     "data": {
      "image/png": "[encoded data removed]",
      "text/plain": [
       "<Figure size 432x288 with 1 Axes>"
      ]
     },
     "metadata": {
      "needs_background": "light"
     },
     "output_type": "display_data"
    },
    {
     "data": {
      "application/javascript": [
       "\n",
       "            setTimeout(function() {\n",
       "                var nbb_cell_id = 65;\n",
       "                var nbb_formatted_code = \"plt.figure(1, figsize=(8, 10))\\nloan_df_clean.groupby(by=[\\\"purpose\\\", \\\"loan_status\\\"])[\\n    \\\"funded_amnt\\\"\\n].sum().unstack().plot(\\n    kind=\\\"bar\\\", title=\\\"Total Loan Amount by verification status\\\", stacked=True\\n)\";\n",
       "                var nbb_cells = Jupyter.notebook.get_cells();\n",
       "                for (var i = 0; i < nbb_cells.length; ++i) {\n",
       "                    if (nbb_cells[i].input_prompt_number == nbb_cell_id) {\n",
       "                        nbb_cells[i].set_text(nbb_formatted_code);\n",
       "                        break;\n",
       "                    }\n",
       "                }\n",
       "            }, 500);\n",
       "            "
      ],
      "text/plain": [
       "<IPython.core.display.Javascript object>"
      ]
     },
     "metadata": {},
     "output_type": "display_data"
    }
   ],
   "source": [
    "plt.figure(1, figsize=(8, 10))\n",
    "loan_df_clean.groupby(by=[\"purpose\", \"loan_status\"])[\n",
    "    \"funded_amnt\"\n",
    "].sum().unstack().plot(\n",
    "    kind=\"bar\", title=\"Total Loan Amount by verification status\", stacked=True\n",
    ")"
   ]
  },
  {
   "cell_type": "markdown",
   "metadata": {},
   "source": [
    "**Inference :** Large amount of loan is given without having their income source verified."
   ]
  },
  {
   "cell_type": "markdown",
   "metadata": {},
   "source": [
    "## Bivariant Analysis"
   ]
  },
  {
   "cell_type": "code",
   "execution_count": null,
   "metadata": {},
   "outputs": [],
   "source": []
  }
 ],
 "metadata": {
  "kernelspec": {
   "display_name": "Python 3",
   "language": "python",
   "name": "python3"
  },
  "language_info": {
   "codemirror_mode": {
    "name": "ipython",
    "version": 3
   },
   "file_extension": ".py",
   "mimetype": "text/x-python",
   "name": "python",
   "nbconvert_exporter": "python",
   "pygments_lexer": "ipython3",
   "version": "3.7.3"
  }
 },
 "nbformat": 4,
 "nbformat_minor": 2
}
